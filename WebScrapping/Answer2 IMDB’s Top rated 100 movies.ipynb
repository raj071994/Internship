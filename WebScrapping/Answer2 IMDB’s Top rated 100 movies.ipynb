{
 "cells": [
  {
   "cell_type": "code",
   "execution_count": 1,
   "id": "19f5b5d6",
   "metadata": {},
   "outputs": [],
   "source": [
    "from bs4 import BeautifulSoup\n",
    "import requests\n",
    "import pandas as pd"
   ]
  },
  {
   "cell_type": "code",
   "execution_count": 2,
   "id": "46202770",
   "metadata": {},
   "outputs": [],
   "source": [
    "url=\"https://www.imdb.com/chart/top/\""
   ]
  },
  {
   "cell_type": "code",
   "execution_count": 3,
   "id": "31c02605",
   "metadata": {},
   "outputs": [
    {
     "data": {
      "text/plain": [
       "<Response [200]>"
      ]
     },
     "execution_count": 3,
     "metadata": {},
     "output_type": "execute_result"
    }
   ],
   "source": [
    "page=requests.get(url)\n",
    "page"
   ]
  },
  {
   "cell_type": "code",
   "execution_count": 4,
   "id": "c1bb80e8",
   "metadata": {},
   "outputs": [],
   "source": [
    "soup=BeautifulSoup(page.content,\"html.parser\")"
   ]
  },
  {
   "cell_type": "code",
   "execution_count": 5,
   "id": "b15d274d",
   "metadata": {},
   "outputs": [],
   "source": [
    "scraped_movie_title=soup.find_all('td', class_='titleColumn')"
   ]
  },
  {
   "cell_type": "code",
   "execution_count": 6,
   "id": "36d2fd03",
   "metadata": {},
   "outputs": [],
   "source": [
    "movies_title=[]\n",
    "for moviesTitle in scraped_movie_title:\n",
    "        moviesTitle= moviesTitle.get_text().replace('\\n',\"\")\n",
    "        moviesTitle = moviesTitle.strip(\" \")\n",
    "        moviesTitle = moviesTitle.split(\"(\")[0]\n",
    "        movies_title.append(moviesTitle)"
   ]
  },
  {
   "cell_type": "code",
   "execution_count": 7,
   "id": "2f7edfb1",
   "metadata": {},
   "outputs": [],
   "source": [
    "scraped_movie_ratings=soup.find_all('td', class_='ratingColumn imdbRating')"
   ]
  },
  {
   "cell_type": "code",
   "execution_count": 8,
   "id": "591dabbe",
   "metadata": {},
   "outputs": [],
   "source": [
    "movies_ratings=[]\n",
    "for moviesrating in scraped_movie_ratings:\n",
    "    moviesrating= moviesrating.get_text().replace('\\n','')\n",
    "    movies_ratings.append(moviesrating)"
   ]
  },
  {
   "cell_type": "code",
   "execution_count": 9,
   "id": "0a45d8dd",
   "metadata": {},
   "outputs": [],
   "source": [
    "scraped_year=soup.find_all('span', class_='secondaryInfo')"
   ]
  },
  {
   "cell_type": "code",
   "execution_count": 10,
   "id": "834adb71",
   "metadata": {},
   "outputs": [],
   "source": [
    "movies_years=[]\n",
    "for year in scraped_year:\n",
    "    year= year.get_text().replace('(','').replace(')','')\n",
    "    movies_years.append(year)"
   ]
  },
  {
   "cell_type": "code",
   "execution_count": 11,
   "id": "89742799",
   "metadata": {},
   "outputs": [
    {
     "data": {
      "text/html": [
       "<div>\n",
       "<style scoped>\n",
       "    .dataframe tbody tr th:only-of-type {\n",
       "        vertical-align: middle;\n",
       "    }\n",
       "\n",
       "    .dataframe tbody tr th {\n",
       "        vertical-align: top;\n",
       "    }\n",
       "\n",
       "    .dataframe thead th {\n",
       "        text-align: right;\n",
       "    }\n",
       "</style>\n",
       "<table border=\"1\" class=\"dataframe\">\n",
       "  <thead>\n",
       "    <tr style=\"text-align: right;\">\n",
       "      <th></th>\n",
       "      <th>Movie Name</th>\n",
       "      <th>Ratings</th>\n",
       "      <th>Year</th>\n",
       "    </tr>\n",
       "  </thead>\n",
       "  <tbody>\n",
       "    <tr>\n",
       "      <th>0</th>\n",
       "      <td>1.      The Shawshank Redemption</td>\n",
       "      <td>9.2</td>\n",
       "      <td>1994</td>\n",
       "    </tr>\n",
       "    <tr>\n",
       "      <th>1</th>\n",
       "      <td>2.      The Godfather</td>\n",
       "      <td>9.1</td>\n",
       "      <td>1972</td>\n",
       "    </tr>\n",
       "    <tr>\n",
       "      <th>2</th>\n",
       "      <td>3.      The Godfather: Part II</td>\n",
       "      <td>9.0</td>\n",
       "      <td>1974</td>\n",
       "    </tr>\n",
       "    <tr>\n",
       "      <th>3</th>\n",
       "      <td>4.      The Dark Knight</td>\n",
       "      <td>9.0</td>\n",
       "      <td>2008</td>\n",
       "    </tr>\n",
       "    <tr>\n",
       "      <th>4</th>\n",
       "      <td>5.      12 Angry Men</td>\n",
       "      <td>8.9</td>\n",
       "      <td>1957</td>\n",
       "    </tr>\n",
       "    <tr>\n",
       "      <th>...</th>\n",
       "      <td>...</td>\n",
       "      <td>...</td>\n",
       "      <td>...</td>\n",
       "    </tr>\n",
       "    <tr>\n",
       "      <th>95</th>\n",
       "      <td>96.      Jagten</td>\n",
       "      <td>8.3</td>\n",
       "      <td>2012</td>\n",
       "    </tr>\n",
       "    <tr>\n",
       "      <th>96</th>\n",
       "      <td>97.      Requiem for a Dream</td>\n",
       "      <td>8.3</td>\n",
       "      <td>2000</td>\n",
       "    </tr>\n",
       "    <tr>\n",
       "      <th>97</th>\n",
       "      <td>98.      Singin' in the Rain</td>\n",
       "      <td>8.3</td>\n",
       "      <td>1952</td>\n",
       "    </tr>\n",
       "    <tr>\n",
       "      <th>98</th>\n",
       "      <td>99.      North by Northwest</td>\n",
       "      <td>8.3</td>\n",
       "      <td>1959</td>\n",
       "    </tr>\n",
       "    <tr>\n",
       "      <th>99</th>\n",
       "      <td>100.      Eternal Sunshine of the Spotless Mind</td>\n",
       "      <td>8.3</td>\n",
       "      <td>2004</td>\n",
       "    </tr>\n",
       "  </tbody>\n",
       "</table>\n",
       "<p>100 rows × 3 columns</p>\n",
       "</div>"
      ],
      "text/plain": [
       "                                         Movie Name Ratings  Year\n",
       "0                  1.      The Shawshank Redemption     9.2  1994\n",
       "1                             2.      The Godfather     9.1  1972\n",
       "2                    3.      The Godfather: Part II     9.0  1974\n",
       "3                           4.      The Dark Knight     9.0  2008\n",
       "4                              5.      12 Angry Men     8.9  1957\n",
       "..                                              ...     ...   ...\n",
       "95                                  96.      Jagten     8.3  2012\n",
       "96                     97.      Requiem for a Dream     8.3  2000\n",
       "97                     98.      Singin' in the Rain     8.3  1952\n",
       "98                      99.      North by Northwest     8.3  1959\n",
       "99  100.      Eternal Sunshine of the Spotless Mind     8.3  2004\n",
       "\n",
       "[100 rows x 3 columns]"
      ]
     },
     "execution_count": 11,
     "metadata": {},
     "output_type": "execute_result"
    }
   ],
   "source": [
    "data=pd.DataFrame()\n",
    "data['Movie Name'] = movies_title[0:100]\n",
    "data['Ratings'] = movies_ratings[0:100]\n",
    "data['Year'] = movies_years[0:100]\n",
    "data.head(100)"
   ]
  },
  {
   "cell_type": "code",
   "execution_count": 12,
   "id": "d3462161",
   "metadata": {},
   "outputs": [],
   "source": [
    "data.to_csv('Top100-Imdb-Movielist.csv', index=False)"
   ]
  },
  {
   "cell_type": "code",
   "execution_count": null,
   "id": "44c17da2",
   "metadata": {},
   "outputs": [],
   "source": []
  }
 ],
 "metadata": {
  "kernelspec": {
   "display_name": "Python 3",
   "language": "python",
   "name": "python3"
  },
  "language_info": {
   "codemirror_mode": {
    "name": "ipython",
    "version": 3
   },
   "file_extension": ".py",
   "mimetype": "text/x-python",
   "name": "python",
   "nbconvert_exporter": "python",
   "pygments_lexer": "ipython3",
   "version": "3.8.8"
  }
 },
 "nbformat": 4,
 "nbformat_minor": 5
}
