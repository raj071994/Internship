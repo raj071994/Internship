{
 "cells": [
  {
   "cell_type": "code",
   "execution_count": 1,
   "id": "b2dba041",
   "metadata": {},
   "outputs": [],
   "source": [
    "from bs4 import BeautifulSoup\n",
    "import requests\n",
    "import pandas as pd"
   ]
  },
  {
   "cell_type": "code",
   "execution_count": 2,
   "id": "15fe610e",
   "metadata": {},
   "outputs": [
    {
     "data": {
      "text/plain": [
       "<Response [200]>"
      ]
     },
     "execution_count": 2,
     "metadata": {},
     "output_type": "execute_result"
    }
   ],
   "source": [
    "url=\"https://www.icc-cricket.com/rankings/womens/player-rankings/odi/batting\"\n",
    "page=requests.get (url)\n",
    "page"
   ]
  },
  {
   "cell_type": "code",
   "execution_count": 3,
   "id": "791ddc80",
   "metadata": {},
   "outputs": [],
   "source": [
    "soup=BeautifulSoup(page.content,\"html.parser\")"
   ]
  },
  {
   "cell_type": "code",
   "execution_count": 4,
   "id": "b8c9ddd7",
   "metadata": {},
   "outputs": [],
   "source": [
    "scraped_Batsmen_name=soup.find_all({'div','td'}, {\"class\":['rankings-block__banner--name-large','table-body__cell rankings-table__name name']})"
   ]
  },
  {
   "cell_type": "code",
   "execution_count": 5,
   "id": "98daa112",
   "metadata": {},
   "outputs": [],
   "source": [
    "batsmen_name=[]\n",
    "for batsmenname in scraped_Batsmen_name:\n",
    "        batsmenname= batsmenname.get_text().replace('\\n',\"\")\n",
    "        batsmen_name.append(batsmenname)"
   ]
  },
  {
   "cell_type": "code",
   "execution_count": 6,
   "id": "d898ddd8",
   "metadata": {},
   "outputs": [],
   "source": [
    "scraped_Batsmen_team=soup.find_all({'div','span'}, {\"class\":['rankings-block__banner--nationality','table-body__logo-text']})"
   ]
  },
  {
   "cell_type": "code",
   "execution_count": 7,
   "id": "35ac6790",
   "metadata": {},
   "outputs": [],
   "source": [
    "batsmen_team=[]\n",
    "for batsmenteam in scraped_Batsmen_team:\n",
    "        batsmenteam = batsmenteam.get_text().replace('\\n',\"\")\n",
    "        batsmenteam = batsmenteam.strip(\" \")\n",
    "        batsmen_team.append(batsmenteam)"
   ]
  },
  {
   "cell_type": "code",
   "execution_count": 8,
   "id": "c8bf9341",
   "metadata": {},
   "outputs": [],
   "source": [
    "scraped_Batsmen_ratings=soup.find_all({'div','td'}, {\"class\":['rankings-block__banner--rating','table-body__cell rating']})"
   ]
  },
  {
   "cell_type": "code",
   "execution_count": 9,
   "id": "c21800cc",
   "metadata": {},
   "outputs": [],
   "source": [
    "batsmen_ratings=[]\n",
    "for batsmenrating in scraped_Batsmen_ratings:\n",
    "        batsmenrating = batsmenrating.get_text().replace('\\n',\"\")\n",
    "        batsmenrating = batsmenrating.strip(\" \")\n",
    "        batsmen_ratings.append(batsmenrating)"
   ]
  },
  {
   "cell_type": "code",
   "execution_count": 10,
   "id": "bfafa925",
   "metadata": {},
   "outputs": [
    {
     "data": {
      "text/html": [
       "<div>\n",
       "<style scoped>\n",
       "    .dataframe tbody tr th:only-of-type {\n",
       "        vertical-align: middle;\n",
       "    }\n",
       "\n",
       "    .dataframe tbody tr th {\n",
       "        vertical-align: top;\n",
       "    }\n",
       "\n",
       "    .dataframe thead th {\n",
       "        text-align: right;\n",
       "    }\n",
       "</style>\n",
       "<table border=\"1\" class=\"dataframe\">\n",
       "  <thead>\n",
       "    <tr style=\"text-align: right;\">\n",
       "      <th></th>\n",
       "      <th>Top 10 ODI Women Batsmen Name</th>\n",
       "      <th>Team</th>\n",
       "      <th>Raitings</th>\n",
       "    </tr>\n",
       "  </thead>\n",
       "  <tbody>\n",
       "    <tr>\n",
       "      <th>0</th>\n",
       "      <td>Lizelle Lee</td>\n",
       "      <td>SA</td>\n",
       "      <td>761</td>\n",
       "    </tr>\n",
       "    <tr>\n",
       "      <th>1</th>\n",
       "      <td>Alyssa Healy</td>\n",
       "      <td>AUS</td>\n",
       "      <td>750</td>\n",
       "    </tr>\n",
       "    <tr>\n",
       "      <th>2</th>\n",
       "      <td>Mithali Raj</td>\n",
       "      <td>IND</td>\n",
       "      <td>738</td>\n",
       "    </tr>\n",
       "    <tr>\n",
       "      <th>3</th>\n",
       "      <td>Tammy Beaumont</td>\n",
       "      <td>ENG</td>\n",
       "      <td>728</td>\n",
       "    </tr>\n",
       "    <tr>\n",
       "      <th>4</th>\n",
       "      <td>Amy Satterthwaite</td>\n",
       "      <td>NZ</td>\n",
       "      <td>717</td>\n",
       "    </tr>\n",
       "    <tr>\n",
       "      <th>5</th>\n",
       "      <td>Smriti Mandhana</td>\n",
       "      <td>IND</td>\n",
       "      <td>710</td>\n",
       "    </tr>\n",
       "    <tr>\n",
       "      <th>6</th>\n",
       "      <td>Meg Lanning</td>\n",
       "      <td>AUS</td>\n",
       "      <td>699</td>\n",
       "    </tr>\n",
       "    <tr>\n",
       "      <th>7</th>\n",
       "      <td>Beth Mooney</td>\n",
       "      <td>AUS</td>\n",
       "      <td>690</td>\n",
       "    </tr>\n",
       "    <tr>\n",
       "      <th>8</th>\n",
       "      <td>Stafanie Taylor</td>\n",
       "      <td>WI</td>\n",
       "      <td>676</td>\n",
       "    </tr>\n",
       "    <tr>\n",
       "      <th>9</th>\n",
       "      <td>Heather Knight</td>\n",
       "      <td>ENG</td>\n",
       "      <td>674</td>\n",
       "    </tr>\n",
       "  </tbody>\n",
       "</table>\n",
       "</div>"
      ],
      "text/plain": [
       "  Top 10 ODI Women Batsmen Name Team Raitings\n",
       "0                   Lizelle Lee   SA      761\n",
       "1                  Alyssa Healy  AUS      750\n",
       "2                   Mithali Raj  IND      738\n",
       "3                Tammy Beaumont  ENG      728\n",
       "4             Amy Satterthwaite   NZ      717\n",
       "5               Smriti Mandhana  IND      710\n",
       "6                   Meg Lanning  AUS      699\n",
       "7                   Beth Mooney  AUS      690\n",
       "8               Stafanie Taylor   WI      676\n",
       "9                Heather Knight  ENG      674"
      ]
     },
     "execution_count": 10,
     "metadata": {},
     "output_type": "execute_result"
    }
   ],
   "source": [
    "data=pd.DataFrame()\n",
    "data['Top 10 ODI Women Batsmen Name'] = batsmen_name[0:10]\n",
    "data['Team'] = batsmen_team[0:10]\n",
    "data['Raitings'] = batsmen_ratings[0:10]\n",
    "data.head(10)"
   ]
  },
  {
   "cell_type": "code",
   "execution_count": 26,
   "id": "2cdc2115",
   "metadata": {},
   "outputs": [],
   "source": [
    "data.to_csv('OdI-Women-Batsmen.csv', index=False)"
   ]
  },
  {
   "cell_type": "code",
   "execution_count": null,
   "id": "801b7dc2",
   "metadata": {},
   "outputs": [],
   "source": []
  }
 ],
 "metadata": {
  "kernelspec": {
   "display_name": "Python 3",
   "language": "python",
   "name": "python3"
  },
  "language_info": {
   "codemirror_mode": {
    "name": "ipython",
    "version": 3
   },
   "file_extension": ".py",
   "mimetype": "text/x-python",
   "name": "python",
   "nbconvert_exporter": "python",
   "pygments_lexer": "ipython3",
   "version": "3.8.8"
  }
 },
 "nbformat": 4,
 "nbformat_minor": 5
}
