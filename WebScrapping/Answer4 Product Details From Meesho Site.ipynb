{
 "cells": [
  {
   "cell_type": "code",
   "execution_count": 1,
   "id": "c22fdff9",
   "metadata": {},
   "outputs": [],
   "source": [
    "from bs4 import BeautifulSoup\n",
    "import requests\n",
    "import pandas as pd"
   ]
  },
  {
   "cell_type": "code",
   "execution_count": 2,
   "id": "a17ee405",
   "metadata": {},
   "outputs": [
    {
     "data": {
      "text/plain": [
       "<Response [200]>"
      ]
     },
     "execution_count": 2,
     "metadata": {},
     "output_type": "execute_result"
    }
   ],
   "source": [
    "url=\"https://meesho.com/bagsladies/pl/p7vbp\"\n",
    "page=requests.get(url)\n",
    "page"
   ]
  },
  {
   "cell_type": "code",
   "execution_count": 3,
   "id": "4f8c5b08",
   "metadata": {},
   "outputs": [],
   "source": [
    "soup=BeautifulSoup(page.content,\"html.parser\")"
   ]
  },
  {
   "cell_type": "code",
   "execution_count": 4,
   "id": "f69898a6",
   "metadata": {
    "scrolled": true
   },
   "outputs": [],
   "source": [
    "scraped_product_name=soup.find_all('p', class_='NewProductCard__ProductTitle_Desktop-sc-j0e7tu-4')"
   ]
  },
  {
   "cell_type": "code",
   "execution_count": 5,
   "id": "090a2624",
   "metadata": {
    "scrolled": true
   },
   "outputs": [],
   "source": [
    "product_name=[]\n",
    "for productname in scraped_product_name:\n",
    "        productname= productname.get_text().replace('\\n',\"\")\n",
    "        product_name.append(productname)"
   ]
  },
  {
   "cell_type": "code",
   "execution_count": 6,
   "id": "bcc3e035",
   "metadata": {},
   "outputs": [],
   "source": [
    "scraped_product_Originalprice=soup.find_all('p', class_='Paragraph__StyledParagraphBody2StrikeThrough-sc-69qp0d-0')"
   ]
  },
  {
   "cell_type": "code",
   "execution_count": 7,
   "id": "d96b6b13",
   "metadata": {},
   "outputs": [],
   "source": [
    "product_Originalprice=[]\n",
    "for productOriginalprice in scraped_product_Originalprice:\n",
    "        productOriginalprice= productOriginalprice.get_text().replace('\\n',\"\").replace(\"₹\",\"\")\n",
    "        product_Originalprice.append(productOriginalprice)"
   ]
  },
  {
   "cell_type": "code",
   "execution_count": 8,
   "id": "6c421957",
   "metadata": {},
   "outputs": [],
   "source": [
    "scraped_product_Discountedprice=soup.find_all('h5', class_='Text__StyledText-sc-oo0kvp-0 hiHdyy')"
   ]
  },
  {
   "cell_type": "code",
   "execution_count": 9,
   "id": "cbd1804d",
   "metadata": {},
   "outputs": [],
   "source": [
    "product_Discountedprice=[]\n",
    "for productprice in scraped_product_Discountedprice:\n",
    "        productprice= productprice.get_text().replace('\\n',\"\").replace(\"₹\",\"\")\n",
    "        product_Discountedprice.append(productprice)"
   ]
  },
  {
   "cell_type": "code",
   "execution_count": 10,
   "id": "271e7430",
   "metadata": {
    "scrolled": true
   },
   "outputs": [],
   "source": [
    "scraped_product_discount=soup.find_all('span', class_='Text__StyledText-sc-oo0kvp-0 lnonyH')"
   ]
  },
  {
   "cell_type": "code",
   "execution_count": 12,
   "id": "1a3a6030",
   "metadata": {},
   "outputs": [],
   "source": [
    "product_discount=[]\n",
    "for productdiscount in scraped_product_discount:\n",
    "        productdiscount= productdiscount.get_text().replace('\\n',\"\")\n",
    "        product_discount.append(productdiscount)"
   ]
  },
  {
   "cell_type": "code",
   "execution_count": 13,
   "id": "7fc92f33",
   "metadata": {},
   "outputs": [
    {
     "data": {
      "text/html": [
       "<div>\n",
       "<style scoped>\n",
       "    .dataframe tbody tr th:only-of-type {\n",
       "        vertical-align: middle;\n",
       "    }\n",
       "\n",
       "    .dataframe tbody tr th {\n",
       "        vertical-align: top;\n",
       "    }\n",
       "\n",
       "    .dataframe thead th {\n",
       "        text-align: right;\n",
       "    }\n",
       "</style>\n",
       "<table border=\"1\" class=\"dataframe\">\n",
       "  <thead>\n",
       "    <tr style=\"text-align: right;\">\n",
       "      <th></th>\n",
       "      <th>Product Name</th>\n",
       "      <th>Product Original Price in Rupees</th>\n",
       "      <th>Product Discount</th>\n",
       "      <th>Product Price after Discount in Rupees</th>\n",
       "    </tr>\n",
       "  </thead>\n",
       "  <tbody>\n",
       "    <tr>\n",
       "      <th>0</th>\n",
       "      <td>khatushyam collection  Women Handbag - Extra S...</td>\n",
       "      <td>474</td>\n",
       "      <td>21% off</td>\n",
       "      <td>374</td>\n",
       "    </tr>\n",
       "    <tr>\n",
       "      <th>1</th>\n",
       "      <td>bandhani thela</td>\n",
       "      <td>325</td>\n",
       "      <td>30% off</td>\n",
       "      <td>228</td>\n",
       "    </tr>\n",
       "    <tr>\n",
       "      <th>2</th>\n",
       "      <td>Women's Handbag With Sling Bag &amp; Wristlet (Set...</td>\n",
       "      <td>521</td>\n",
       "      <td>19% off</td>\n",
       "      <td>421</td>\n",
       "    </tr>\n",
       "    <tr>\n",
       "      <th>3</th>\n",
       "      <td>Woman Ladies Girls Handmade bags for women zip...</td>\n",
       "      <td>484</td>\n",
       "      <td>21% off</td>\n",
       "      <td>384</td>\n",
       "    </tr>\n",
       "    <tr>\n",
       "      <th>4</th>\n",
       "      <td>YouRdreamZ jute lunch bag shopping bag for men...</td>\n",
       "      <td>235</td>\n",
       "      <td>30% off</td>\n",
       "      <td>165</td>\n",
       "    </tr>\n",
       "    <tr>\n",
       "      <th>5</th>\n",
       "      <td>Shoulder Handbag</td>\n",
       "      <td>484</td>\n",
       "      <td>21% off</td>\n",
       "      <td>384</td>\n",
       "    </tr>\n",
       "    <tr>\n",
       "      <th>6</th>\n",
       "      <td>Genuane  Leather Latest Trendy Fashion Ladies ...</td>\n",
       "      <td>2761</td>\n",
       "      <td>4% off</td>\n",
       "      <td>2661</td>\n",
       "    </tr>\n",
       "    <tr>\n",
       "      <th>7</th>\n",
       "      <td>Handbag</td>\n",
       "      <td>516</td>\n",
       "      <td>19% off</td>\n",
       "      <td>416</td>\n",
       "    </tr>\n",
       "    <tr>\n",
       "      <th>8</th>\n",
       "      <td>ELEGANT HANDBAG</td>\n",
       "      <td>329</td>\n",
       "      <td>30% off</td>\n",
       "      <td>231</td>\n",
       "    </tr>\n",
       "    <tr>\n",
       "      <th>9</th>\n",
       "      <td>Women's Nylon Fabric Casual Hand Bag (Sandal w...</td>\n",
       "      <td>535</td>\n",
       "      <td>19% off</td>\n",
       "      <td>435</td>\n",
       "    </tr>\n",
       "    <tr>\n",
       "      <th>10</th>\n",
       "      <td>STYLISH WOMEN PURSE</td>\n",
       "      <td>584</td>\n",
       "      <td>17% off</td>\n",
       "      <td>484</td>\n",
       "    </tr>\n",
       "    <tr>\n",
       "      <th>11</th>\n",
       "      <td>STYLISH WOMEN PURSE</td>\n",
       "      <td>584</td>\n",
       "      <td>17% off</td>\n",
       "      <td>484</td>\n",
       "    </tr>\n",
       "    <tr>\n",
       "      <th>12</th>\n",
       "      <td>STYLISH WOMEN PURSE</td>\n",
       "      <td>634</td>\n",
       "      <td>16% off</td>\n",
       "      <td>534</td>\n",
       "    </tr>\n",
       "    <tr>\n",
       "      <th>13</th>\n",
       "      <td>STYLISH WOMEN BAGS</td>\n",
       "      <td>615</td>\n",
       "      <td>16% off</td>\n",
       "      <td>515</td>\n",
       "    </tr>\n",
       "    <tr>\n",
       "      <th>14</th>\n",
       "      <td>Style big woman side bag</td>\n",
       "      <td>289</td>\n",
       "      <td>30% off</td>\n",
       "      <td>203</td>\n",
       "    </tr>\n",
       "    <tr>\n",
       "      <th>15</th>\n",
       "      <td>strip-bib-pista 270</td>\n",
       "      <td>714</td>\n",
       "      <td>14% off</td>\n",
       "      <td>614</td>\n",
       "    </tr>\n",
       "    <tr>\n",
       "      <th>16</th>\n",
       "      <td>Handbag</td>\n",
       "      <td>465</td>\n",
       "      <td>22% off</td>\n",
       "      <td>365</td>\n",
       "    </tr>\n",
       "    <tr>\n",
       "      <th>17</th>\n",
       "      <td>QUALITY Handbags</td>\n",
       "      <td>516</td>\n",
       "      <td>19% off</td>\n",
       "      <td>416</td>\n",
       "    </tr>\n",
       "    <tr>\n",
       "      <th>18</th>\n",
       "      <td>Handbag</td>\n",
       "      <td>380</td>\n",
       "      <td>26% off</td>\n",
       "      <td>280</td>\n",
       "    </tr>\n",
       "    <tr>\n",
       "      <th>19</th>\n",
       "      <td>Women's Handbag with Sling Bag &amp; Coin Pouch(Se...</td>\n",
       "      <td>568</td>\n",
       "      <td>18% off</td>\n",
       "      <td>468</td>\n",
       "    </tr>\n",
       "  </tbody>\n",
       "</table>\n",
       "</div>"
      ],
      "text/plain": [
       "                                         Product Name  \\\n",
       "0   khatushyam collection  Women Handbag - Extra S...   \n",
       "1                                      bandhani thela   \n",
       "2   Women's Handbag With Sling Bag & Wristlet (Set...   \n",
       "3   Woman Ladies Girls Handmade bags for women zip...   \n",
       "4   YouRdreamZ jute lunch bag shopping bag for men...   \n",
       "5                                    Shoulder Handbag   \n",
       "6   Genuane  Leather Latest Trendy Fashion Ladies ...   \n",
       "7                                             Handbag   \n",
       "8                                     ELEGANT HANDBAG   \n",
       "9   Women's Nylon Fabric Casual Hand Bag (Sandal w...   \n",
       "10                                STYLISH WOMEN PURSE   \n",
       "11                                STYLISH WOMEN PURSE   \n",
       "12                                STYLISH WOMEN PURSE   \n",
       "13                                 STYLISH WOMEN BAGS   \n",
       "14                          Style big woman side bag    \n",
       "15                                strip-bib-pista 270   \n",
       "16                                            Handbag   \n",
       "17                                  QUALITY Handbags    \n",
       "18                                            Handbag   \n",
       "19  Women's Handbag with Sling Bag & Coin Pouch(Se...   \n",
       "\n",
       "   Product Original Price in Rupees  Product Discount  \\\n",
       "0                                474          21% off   \n",
       "1                                325          30% off   \n",
       "2                                521          19% off   \n",
       "3                                484          21% off   \n",
       "4                                235          30% off   \n",
       "5                                484          21% off   \n",
       "6                               2761           4% off   \n",
       "7                                516          19% off   \n",
       "8                                329          30% off   \n",
       "9                                535          19% off   \n",
       "10                               584          17% off   \n",
       "11                               584          17% off   \n",
       "12                               634          16% off   \n",
       "13                               615          16% off   \n",
       "14                               289          30% off   \n",
       "15                               714          14% off   \n",
       "16                               465          22% off   \n",
       "17                               516          19% off   \n",
       "18                               380          26% off   \n",
       "19                               568          18% off   \n",
       "\n",
       "   Product Price after Discount in Rupees  \n",
       "0                                     374  \n",
       "1                                     228  \n",
       "2                                     421  \n",
       "3                                     384  \n",
       "4                                     165  \n",
       "5                                     384  \n",
       "6                                    2661  \n",
       "7                                     416  \n",
       "8                                     231  \n",
       "9                                     435  \n",
       "10                                    484  \n",
       "11                                    484  \n",
       "12                                    534  \n",
       "13                                    515  \n",
       "14                                    203  \n",
       "15                                    614  \n",
       "16                                    365  \n",
       "17                                    416  \n",
       "18                                    280  \n",
       "19                                    468  "
      ]
     },
     "execution_count": 13,
     "metadata": {},
     "output_type": "execute_result"
    }
   ],
   "source": [
    "data=pd.DataFrame()\n",
    "data['Product Name'] = product_name\n",
    "data['Product Original Price in Rupees '] = product_Originalprice\n",
    "data['Product Discount'] = product_discount\n",
    "data['Product Price after Discount in Rupees'] = product_Discountedprice\n",
    "data.head(100)"
   ]
  },
  {
   "cell_type": "code",
   "execution_count": null,
   "id": "92f651e4",
   "metadata": {},
   "outputs": [],
   "source": []
  }
 ],
 "metadata": {
  "kernelspec": {
   "display_name": "Python 3",
   "language": "python",
   "name": "python3"
  },
  "language_info": {
   "codemirror_mode": {
    "name": "ipython",
    "version": 3
   },
   "file_extension": ".py",
   "mimetype": "text/x-python",
   "name": "python",
   "nbconvert_exporter": "python",
   "pygments_lexer": "ipython3",
   "version": "3.8.8"
  }
 },
 "nbformat": 4,
 "nbformat_minor": 5
}
