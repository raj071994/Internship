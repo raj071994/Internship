{
 "cells": [
  {
   "cell_type": "code",
   "execution_count": 1,
   "id": "7a09fd4c",
   "metadata": {},
   "outputs": [],
   "source": [
    "from bs4 import BeautifulSoup\n",
    "import requests\n",
    "import pandas as pd"
   ]
  },
  {
   "cell_type": "code",
   "execution_count": 2,
   "id": "e45e2097",
   "metadata": {},
   "outputs": [
    {
     "data": {
      "text/plain": [
       "<Response [200]>"
      ]
     },
     "execution_count": 2,
     "metadata": {},
     "output_type": "execute_result"
    }
   ],
   "source": [
    "url=\"https://www.bewakoof.com/women-tshirts?ga_q=tshirts\"\n",
    "page=requests.get(url)\n",
    "page"
   ]
  },
  {
   "cell_type": "code",
   "execution_count": 3,
   "id": "a43b7334",
   "metadata": {},
   "outputs": [],
   "source": [
    "soup=BeautifulSoup(page.content,\"html.parser\")"
   ]
  },
  {
   "cell_type": "code",
   "execution_count": 4,
   "id": "6a3f6d3e",
   "metadata": {},
   "outputs": [],
   "source": [
    "scraped_names=soup.find_all('div', class_='productCardDetail')"
   ]
  },
  {
   "cell_type": "code",
   "execution_count": 5,
   "id": "8cd449fb",
   "metadata": {},
   "outputs": [],
   "source": [
    "product_names=[]\n",
    "for names in scraped_names:\n",
    "        names = names.get_text().replace('\\n',\"\")\n",
    "        names = names.strip(\" \")\n",
    "        product_names.append(names)"
   ]
  },
  {
   "cell_type": "code",
   "execution_count": 6,
   "id": "c3e4d819",
   "metadata": {},
   "outputs": [],
   "source": [
    "scraped_price=soup.find_all('span', class_='discountedPriceText')"
   ]
  },
  {
   "cell_type": "code",
   "execution_count": 7,
   "id": "a0c78852",
   "metadata": {},
   "outputs": [],
   "source": [
    "product_price=[]\n",
    "for price in scraped_price:\n",
    "        price = price.get_text().replace('\\n',\"\")\n",
    "        price = price.strip(\" \")\n",
    "        product_price.append(price)"
   ]
  },
  {
   "cell_type": "code",
   "execution_count": 8,
   "id": "231b12d5",
   "metadata": {},
   "outputs": [],
   "source": [
    "scraped_imageurl=soup.find_all('img', class_='productImgTag')"
   ]
  },
  {
   "cell_type": "code",
   "execution_count": 9,
   "id": "ca3ee7dd",
   "metadata": {},
   "outputs": [],
   "source": [
    "product_imageurl=[]\n",
    "for url in scraped_imageurl:\n",
    "        url = url.get(\"src\")\n",
    "        product_imageurl.append(url)"
   ]
  },
  {
   "cell_type": "code",
   "execution_count": 10,
   "id": "ae7f5a4d",
   "metadata": {},
   "outputs": [
    {
     "data": {
      "text/html": [
       "<div>\n",
       "<style scoped>\n",
       "    .dataframe tbody tr th:only-of-type {\n",
       "        vertical-align: middle;\n",
       "    }\n",
       "\n",
       "    .dataframe tbody tr th {\n",
       "        vertical-align: top;\n",
       "    }\n",
       "\n",
       "    .dataframe thead th {\n",
       "        text-align: right;\n",
       "    }\n",
       "</style>\n",
       "<table border=\"1\" class=\"dataframe\">\n",
       "  <thead>\n",
       "    <tr style=\"text-align: right;\">\n",
       "      <th></th>\n",
       "      <th>Product Name</th>\n",
       "      <th>Price</th>\n",
       "      <th>Image URL</th>\n",
       "    </tr>\n",
       "  </thead>\n",
       "  <tbody>\n",
       "    <tr>\n",
       "      <th>0</th>\n",
       "      <td>Dab Marshmello Half Sleeve T-Shirt₹ 199499₹179...</td>\n",
       "      <td>₹ 199</td>\n",
       "      <td>https://images.bewakoof.com/t320/dab-marshmell...</td>\n",
       "    </tr>\n",
       "    <tr>\n",
       "      <th>1</th>\n",
       "      <td>Shanti Minimal Half Sleeve T-Shirt₹ 249599₹229...</td>\n",
       "      <td>₹ 249</td>\n",
       "      <td>https://images.bewakoof.com/t320/shanti-minima...</td>\n",
       "    </tr>\n",
       "    <tr>\n",
       "      <th>2</th>\n",
       "      <td>Nenu Chepta Nuvvu Half Sleeve T-Shirt₹ 599FEW ...</td>\n",
       "      <td>₹ 599</td>\n",
       "      <td>https://images.bewakoof.com/t320/nenu-chepta-n...</td>\n",
       "    </tr>\n",
       "    <tr>\n",
       "      <th>3</th>\n",
       "      <td>Butta Bomma Half Sleeve T-Shirt₹ 299599₹269For...</td>\n",
       "      <td>₹ 299</td>\n",
       "      <td>https://images.bewakoof.com/t320/butta-bomma-h...</td>\n",
       "    </tr>\n",
       "    <tr>\n",
       "      <th>4</th>\n",
       "      <td>Ooko Bey Half Sleeve T-Shirt₹ 249599₹229For Tr...</td>\n",
       "      <td>₹ 249</td>\n",
       "      <td>https://images.bewakoof.com/t320/ooko-bey-half...</td>\n",
       "    </tr>\n",
       "    <tr>\n",
       "      <th>5</th>\n",
       "      <td>Nenu Chepta Nuvvu Half Sleeve T-Shirt₹ 249599₹...</td>\n",
       "      <td>₹ 249</td>\n",
       "      <td>https://images.bewakoof.com/t320/nenu-chepta-n...</td>\n",
       "    </tr>\n",
       "    <tr>\n",
       "      <th>6</th>\n",
       "      <td>Radiate Positive Half Sleeve T-Shirt₹ 199699₹1...</td>\n",
       "      <td>₹ 199</td>\n",
       "      <td>https://images.bewakoof.com/t320/radiate-posit...</td>\n",
       "    </tr>\n",
       "    <tr>\n",
       "      <th>7</th>\n",
       "      <td>Nenu Chepta Nuvvu Half Sleeve T-Shirt₹ 599FEW ...</td>\n",
       "      <td>₹ 599</td>\n",
       "      <td>https://images.bewakoof.com/t320/nenu-chepta-n...</td>\n",
       "    </tr>\n",
       "    <tr>\n",
       "      <th>8</th>\n",
       "      <td>Shanti Minimal Half Sleeve T-Shirt₹ 249599₹229...</td>\n",
       "      <td>₹ 249</td>\n",
       "      <td>https://images.bewakoof.com/t320/shanti-minima...</td>\n",
       "    </tr>\n",
       "    <tr>\n",
       "      <th>9</th>\n",
       "      <td>Pakka Local Half Sleeve T-Shirt₹ 299599₹269For...</td>\n",
       "      <td>₹ 299</td>\n",
       "      <td>https://images.bewakoof.com/t320/pakka-local-h...</td>\n",
       "    </tr>\n",
       "  </tbody>\n",
       "</table>\n",
       "</div>"
      ],
      "text/plain": [
       "                                        Product Name  Price  \\\n",
       "0  Dab Marshmello Half Sleeve T-Shirt₹ 199499₹179...  ₹ 199   \n",
       "1  Shanti Minimal Half Sleeve T-Shirt₹ 249599₹229...  ₹ 249   \n",
       "2  Nenu Chepta Nuvvu Half Sleeve T-Shirt₹ 599FEW ...  ₹ 599   \n",
       "3  Butta Bomma Half Sleeve T-Shirt₹ 299599₹269For...  ₹ 299   \n",
       "4  Ooko Bey Half Sleeve T-Shirt₹ 249599₹229For Tr...  ₹ 249   \n",
       "5  Nenu Chepta Nuvvu Half Sleeve T-Shirt₹ 249599₹...  ₹ 249   \n",
       "6  Radiate Positive Half Sleeve T-Shirt₹ 199699₹1...  ₹ 199   \n",
       "7  Nenu Chepta Nuvvu Half Sleeve T-Shirt₹ 599FEW ...  ₹ 599   \n",
       "8  Shanti Minimal Half Sleeve T-Shirt₹ 249599₹229...  ₹ 249   \n",
       "9  Pakka Local Half Sleeve T-Shirt₹ 299599₹269For...  ₹ 299   \n",
       "\n",
       "                                          Image URL   \n",
       "0  https://images.bewakoof.com/t320/dab-marshmell...  \n",
       "1  https://images.bewakoof.com/t320/shanti-minima...  \n",
       "2  https://images.bewakoof.com/t320/nenu-chepta-n...  \n",
       "3  https://images.bewakoof.com/t320/butta-bomma-h...  \n",
       "4  https://images.bewakoof.com/t320/ooko-bey-half...  \n",
       "5  https://images.bewakoof.com/t320/nenu-chepta-n...  \n",
       "6  https://images.bewakoof.com/t320/radiate-posit...  \n",
       "7  https://images.bewakoof.com/t320/nenu-chepta-n...  \n",
       "8  https://images.bewakoof.com/t320/shanti-minima...  \n",
       "9  https://images.bewakoof.com/t320/pakka-local-h...  "
      ]
     },
     "execution_count": 10,
     "metadata": {},
     "output_type": "execute_result"
    }
   ],
   "source": [
    "data=pd.DataFrame()\n",
    "data['Product Name'] = product_names[0:10]\n",
    "data['Price'] = product_price[0:10]\n",
    "data['Image URL '] = product_imageurl[0:10]\n",
    "data.head(100)"
   ]
  },
  {
   "cell_type": "code",
   "execution_count": 29,
   "id": "0e9c4b0d",
   "metadata": {},
   "outputs": [],
   "source": [
    "data.to_csv('bewakoof-Site-Data.csv', index=False)"
   ]
  },
  {
   "cell_type": "code",
   "execution_count": null,
   "id": "add0bf49",
   "metadata": {},
   "outputs": [],
   "source": []
  }
 ],
 "metadata": {
  "kernelspec": {
   "display_name": "Python 3",
   "language": "python",
   "name": "python3"
  },
  "language_info": {
   "codemirror_mode": {
    "name": "ipython",
    "version": 3
   },
   "file_extension": ".py",
   "mimetype": "text/x-python",
   "name": "python",
   "nbconvert_exporter": "python",
   "pygments_lexer": "ipython3",
   "version": "3.8.8"
  }
 },
 "nbformat": 4,
 "nbformat_minor": 5
}
