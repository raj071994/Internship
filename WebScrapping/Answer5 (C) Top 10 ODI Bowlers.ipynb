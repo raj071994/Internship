{
 "cells": [
  {
   "cell_type": "code",
   "execution_count": 1,
   "id": "7d8cc855",
   "metadata": {},
   "outputs": [],
   "source": [
    "from bs4 import BeautifulSoup\n",
    "import requests\n",
    "import pandas as pd"
   ]
  },
  {
   "cell_type": "code",
   "execution_count": 2,
   "id": "535d430e",
   "metadata": {},
   "outputs": [
    {
     "data": {
      "text/plain": [
       "<Response [200]>"
      ]
     },
     "execution_count": 2,
     "metadata": {},
     "output_type": "execute_result"
    }
   ],
   "source": [
    "url=\"https://www.icc-cricket.com/rankings/mens/player-rankings/odi/Bowling\"\n",
    "page=requests.get(url)\n",
    "page"
   ]
  },
  {
   "cell_type": "code",
   "execution_count": 3,
   "id": "52a30abd",
   "metadata": {},
   "outputs": [],
   "source": [
    "soup=BeautifulSoup(page.content,\"html.parser\")"
   ]
  },
  {
   "cell_type": "code",
   "execution_count": 4,
   "id": "1abf6ff9",
   "metadata": {},
   "outputs": [],
   "source": [
    "scraped_Bowlers_name=soup.find_all({'div','td'}, {\"class\":['rankings-block__banner--name-large','table-body__cell rankings-table__name name']})"
   ]
  },
  {
   "cell_type": "code",
   "execution_count": 5,
   "id": "7b4d0644",
   "metadata": {},
   "outputs": [],
   "source": [
    "bowlers_name=[]\n",
    "for bowlersname in scraped_Bowlers_name:\n",
    "        bowlersname = bowlersname.get_text().replace('\\n',\"\")\n",
    "        bowlersname = bowlersname.strip(\" \")\n",
    "        bowlers_name.append(bowlersname)"
   ]
  },
  {
   "cell_type": "code",
   "execution_count": 6,
   "id": "26dbb2b8",
   "metadata": {},
   "outputs": [],
   "source": [
    "scraped_Bowlers_team=soup.find_all({'div','span'}, {\"class\":['rankings-block__banner--nationality','table-body__logo-text']})"
   ]
  },
  {
   "cell_type": "code",
   "execution_count": 7,
   "id": "48286a38",
   "metadata": {},
   "outputs": [],
   "source": [
    "bowlers_team=[]\n",
    "for bowlersteam in scraped_Bowlers_team:\n",
    "        bowlersteam = bowlersteam.get_text().replace('\\n',\"\")\n",
    "        bowlersteam = bowlersteam.strip(\" \")\n",
    "        bowlers_team.append(bowlersteam)"
   ]
  },
  {
   "cell_type": "code",
   "execution_count": 8,
   "id": "503ac9cd",
   "metadata": {},
   "outputs": [],
   "source": [
    "scraped_Bowlers_ratings=soup.find_all({'div','td'}, {\"class\":['rankings-block__banner--rating','table-body__cell rating']})"
   ]
  },
  {
   "cell_type": "code",
   "execution_count": 9,
   "id": "f8af0136",
   "metadata": {},
   "outputs": [],
   "source": [
    "bowlers_ratings=[]\n",
    "for bowlersrating in scraped_Bowlers_ratings:\n",
    "        bowlersrating = bowlersrating.get_text().replace('\\n',\"\")\n",
    "        bowlersrating = bowlersrating.strip(\" \")\n",
    "        bowlers_ratings.append(bowlersrating)"
   ]
  },
  {
   "cell_type": "code",
   "execution_count": 10,
   "id": "9738e142",
   "metadata": {},
   "outputs": [
    {
     "data": {
      "text/html": [
       "<div>\n",
       "<style scoped>\n",
       "    .dataframe tbody tr th:only-of-type {\n",
       "        vertical-align: middle;\n",
       "    }\n",
       "\n",
       "    .dataframe tbody tr th {\n",
       "        vertical-align: top;\n",
       "    }\n",
       "\n",
       "    .dataframe thead th {\n",
       "        text-align: right;\n",
       "    }\n",
       "</style>\n",
       "<table border=\"1\" class=\"dataframe\">\n",
       "  <thead>\n",
       "    <tr style=\"text-align: right;\">\n",
       "      <th></th>\n",
       "      <th>Top 10 ODI Bowlers Name</th>\n",
       "      <th>Team</th>\n",
       "      <th>Raitings</th>\n",
       "    </tr>\n",
       "  </thead>\n",
       "  <tbody>\n",
       "    <tr>\n",
       "      <th>0</th>\n",
       "      <td>Trent Boult</td>\n",
       "      <td>NZ</td>\n",
       "      <td>737</td>\n",
       "    </tr>\n",
       "    <tr>\n",
       "      <th>1</th>\n",
       "      <td>Josh Hazlewood</td>\n",
       "      <td>AUS</td>\n",
       "      <td>709</td>\n",
       "    </tr>\n",
       "    <tr>\n",
       "      <th>2</th>\n",
       "      <td>Mujeeb Ur Rahman</td>\n",
       "      <td>AFG</td>\n",
       "      <td>708</td>\n",
       "    </tr>\n",
       "    <tr>\n",
       "      <th>3</th>\n",
       "      <td>Chris Woakes</td>\n",
       "      <td>ENG</td>\n",
       "      <td>700</td>\n",
       "    </tr>\n",
       "    <tr>\n",
       "      <th>4</th>\n",
       "      <td>Mehedi Hasan</td>\n",
       "      <td>BAN</td>\n",
       "      <td>692</td>\n",
       "    </tr>\n",
       "    <tr>\n",
       "      <th>5</th>\n",
       "      <td>Matt Henry</td>\n",
       "      <td>NZ</td>\n",
       "      <td>691</td>\n",
       "    </tr>\n",
       "    <tr>\n",
       "      <th>6</th>\n",
       "      <td>Jasprit Bumrah</td>\n",
       "      <td>IND</td>\n",
       "      <td>679</td>\n",
       "    </tr>\n",
       "    <tr>\n",
       "      <th>7</th>\n",
       "      <td>Mitchell Starc</td>\n",
       "      <td>AUS</td>\n",
       "      <td>652</td>\n",
       "    </tr>\n",
       "    <tr>\n",
       "      <th>8</th>\n",
       "      <td>Shakib Al Hasan</td>\n",
       "      <td>BAN</td>\n",
       "      <td>650</td>\n",
       "    </tr>\n",
       "    <tr>\n",
       "      <th>9</th>\n",
       "      <td>Kagiso Rabada</td>\n",
       "      <td>SA</td>\n",
       "      <td>643</td>\n",
       "    </tr>\n",
       "  </tbody>\n",
       "</table>\n",
       "</div>"
      ],
      "text/plain": [
       "  Top 10 ODI Bowlers Name Team Raitings\n",
       "0             Trent Boult   NZ      737\n",
       "1          Josh Hazlewood  AUS      709\n",
       "2        Mujeeb Ur Rahman  AFG      708\n",
       "3            Chris Woakes  ENG      700\n",
       "4            Mehedi Hasan  BAN      692\n",
       "5              Matt Henry   NZ      691\n",
       "6          Jasprit Bumrah  IND      679\n",
       "7          Mitchell Starc  AUS      652\n",
       "8         Shakib Al Hasan  BAN      650\n",
       "9           Kagiso Rabada   SA      643"
      ]
     },
     "execution_count": 10,
     "metadata": {},
     "output_type": "execute_result"
    }
   ],
   "source": [
    "data=pd.DataFrame()\n",
    "data['Top 10 ODI Bowlers Name'] = bowlers_name[0:10]\n",
    "data['Team'] = bowlers_team[0:10]\n",
    "data['Raitings'] = bowlers_ratings[0:10]\n",
    "data.head(10)"
   ]
  },
  {
   "cell_type": "code",
   "execution_count": 13,
   "id": "315f97f8",
   "metadata": {},
   "outputs": [],
   "source": [
    "data.to_csv('OdI-Mens-Bowlers.csv', index=False)"
   ]
  },
  {
   "cell_type": "code",
   "execution_count": null,
   "id": "4e34a51b",
   "metadata": {},
   "outputs": [],
   "source": []
  }
 ],
 "metadata": {
  "kernelspec": {
   "display_name": "Python 3",
   "language": "python",
   "name": "python3"
  },
  "language_info": {
   "codemirror_mode": {
    "name": "ipython",
    "version": 3
   },
   "file_extension": ".py",
   "mimetype": "text/x-python",
   "name": "python",
   "nbconvert_exporter": "python",
   "pygments_lexer": "ipython3",
   "version": "3.8.8"
  }
 },
 "nbformat": 4,
 "nbformat_minor": 5
}
