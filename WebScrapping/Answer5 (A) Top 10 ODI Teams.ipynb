{
 "cells": [
  {
   "cell_type": "code",
   "execution_count": 1,
   "id": "e91d75f6",
   "metadata": {},
   "outputs": [],
   "source": [
    "from bs4 import BeautifulSoup\n",
    "import requests\n",
    "import pandas as pd"
   ]
  },
  {
   "cell_type": "code",
   "execution_count": 2,
   "id": "8eb47eed",
   "metadata": {},
   "outputs": [
    {
     "data": {
      "text/plain": [
       "<Response [200]>"
      ]
     },
     "execution_count": 2,
     "metadata": {},
     "output_type": "execute_result"
    }
   ],
   "source": [
    "url=\"https://www.icc-cricket.com/rankings/mens/team-rankings/odi\"\n",
    "page=requests.get(url)\n",
    "page"
   ]
  },
  {
   "cell_type": "code",
   "execution_count": 3,
   "id": "cc53c1f1",
   "metadata": {},
   "outputs": [],
   "source": [
    "soup=BeautifulSoup(page.content,\"html.parser\")"
   ]
  },
  {
   "cell_type": "code",
   "execution_count": 4,
   "id": "735fedb2",
   "metadata": {},
   "outputs": [],
   "source": [
    "scraped_team_name=soup.find_all('span', class_='u-hide-phablet')"
   ]
  },
  {
   "cell_type": "code",
   "execution_count": 5,
   "id": "b2fe873a",
   "metadata": {
    "scrolled": true
   },
   "outputs": [],
   "source": [
    "team_name=[]\n",
    "for teamname in scraped_team_name:\n",
    "        teamname= teamname.get_text().replace('\\n',\"\")\n",
    "        team_name.append(teamname)"
   ]
  },
  {
   "cell_type": "code",
   "execution_count": 6,
   "id": "d291c216",
   "metadata": {},
   "outputs": [],
   "source": [
    "scraped_team_matches=soup.find_all('td', {\"class\":['rankings-block__banner--matches','rankings-block__banner--points', 'table-body__cell u-center-text']})"
   ]
  },
  {
   "cell_type": "code",
   "execution_count": 7,
   "id": "53d3bc08",
   "metadata": {
    "scrolled": true
   },
   "outputs": [],
   "source": [
    "team_data=[]\n",
    "for teamdatas in scraped_team_matches:\n",
    "        teamdatas = teamdatas.get_text().replace('\\n',\"\")\n",
    "        team_data.append(teamdatas)"
   ]
  },
  {
   "cell_type": "code",
   "execution_count": 8,
   "id": "1df6f082",
   "metadata": {},
   "outputs": [],
   "source": [
    "team_maches = []\n",
    "team_points = []\n",
    "for data in range(0, len(team_data)):\n",
    "    if data % 2:\n",
    "        team_points.append(team_data[data])\n",
    "    else :\n",
    "        team_maches.append(team_data[data])"
   ]
  },
  {
   "cell_type": "code",
   "execution_count": 9,
   "id": "d666cbd5",
   "metadata": {},
   "outputs": [],
   "source": [
    "scraped_team_ratings=soup.find_all('td', {\"class\":['rankings-block__banner--rating u-text-right','table-body__cell u-text-right rating']})"
   ]
  },
  {
   "cell_type": "code",
   "execution_count": 10,
   "id": "03ffa5d5",
   "metadata": {},
   "outputs": [],
   "source": [
    "team_ratings=[]\n",
    "for teamrating in scraped_team_ratings:\n",
    "        teamrating = teamrating.get_text().replace('\\n',\"\")\n",
    "        teamrating = teamrating.strip(\" \")\n",
    "        team_ratings.append(teamrating)"
   ]
  },
  {
   "cell_type": "code",
   "execution_count": 11,
   "id": "e9457f33",
   "metadata": {},
   "outputs": [
    {
     "data": {
      "text/html": [
       "<div>\n",
       "<style scoped>\n",
       "    .dataframe tbody tr th:only-of-type {\n",
       "        vertical-align: middle;\n",
       "    }\n",
       "\n",
       "    .dataframe tbody tr th {\n",
       "        vertical-align: top;\n",
       "    }\n",
       "\n",
       "    .dataframe thead th {\n",
       "        text-align: right;\n",
       "    }\n",
       "</style>\n",
       "<table border=\"1\" class=\"dataframe\">\n",
       "  <thead>\n",
       "    <tr style=\"text-align: right;\">\n",
       "      <th></th>\n",
       "      <th>Top 10 ODI Team Name</th>\n",
       "      <th>Matches</th>\n",
       "      <th>Points</th>\n",
       "      <th>Raitings</th>\n",
       "    </tr>\n",
       "  </thead>\n",
       "  <tbody>\n",
       "    <tr>\n",
       "      <th>0</th>\n",
       "      <td>New Zealand</td>\n",
       "      <td>17</td>\n",
       "      <td>2,054</td>\n",
       "      <td>121</td>\n",
       "    </tr>\n",
       "    <tr>\n",
       "      <th>1</th>\n",
       "      <td>England</td>\n",
       "      <td>32</td>\n",
       "      <td>3,793</td>\n",
       "      <td>119</td>\n",
       "    </tr>\n",
       "    <tr>\n",
       "      <th>2</th>\n",
       "      <td>Australia</td>\n",
       "      <td>28</td>\n",
       "      <td>3,244</td>\n",
       "      <td>116</td>\n",
       "    </tr>\n",
       "    <tr>\n",
       "      <th>3</th>\n",
       "      <td>India</td>\n",
       "      <td>32</td>\n",
       "      <td>3,624</td>\n",
       "      <td>113</td>\n",
       "    </tr>\n",
       "    <tr>\n",
       "      <th>4</th>\n",
       "      <td>South Africa</td>\n",
       "      <td>25</td>\n",
       "      <td>2,459</td>\n",
       "      <td>98</td>\n",
       "    </tr>\n",
       "    <tr>\n",
       "      <th>5</th>\n",
       "      <td>Pakistan</td>\n",
       "      <td>27</td>\n",
       "      <td>2,524</td>\n",
       "      <td>93</td>\n",
       "    </tr>\n",
       "    <tr>\n",
       "      <th>6</th>\n",
       "      <td>Bangladesh</td>\n",
       "      <td>30</td>\n",
       "      <td>2,740</td>\n",
       "      <td>91</td>\n",
       "    </tr>\n",
       "    <tr>\n",
       "      <th>7</th>\n",
       "      <td>West Indies</td>\n",
       "      <td>30</td>\n",
       "      <td>2,523</td>\n",
       "      <td>84</td>\n",
       "    </tr>\n",
       "    <tr>\n",
       "      <th>8</th>\n",
       "      <td>Sri Lanka</td>\n",
       "      <td>32</td>\n",
       "      <td>2,657</td>\n",
       "      <td>83</td>\n",
       "    </tr>\n",
       "    <tr>\n",
       "      <th>9</th>\n",
       "      <td>Afghanistan</td>\n",
       "      <td>17</td>\n",
       "      <td>1,054</td>\n",
       "      <td>62</td>\n",
       "    </tr>\n",
       "  </tbody>\n",
       "</table>\n",
       "</div>"
      ],
      "text/plain": [
       "  Top 10 ODI Team Name Matches Points Raitings\n",
       "0          New Zealand      17  2,054      121\n",
       "1              England      32  3,793      119\n",
       "2            Australia      28  3,244      116\n",
       "3                India      32  3,624      113\n",
       "4         South Africa      25  2,459       98\n",
       "5             Pakistan      27  2,524       93\n",
       "6           Bangladesh      30  2,740       91\n",
       "7          West Indies      30  2,523       84\n",
       "8            Sri Lanka      32  2,657       83\n",
       "9          Afghanistan      17  1,054       62"
      ]
     },
     "execution_count": 11,
     "metadata": {},
     "output_type": "execute_result"
    }
   ],
   "source": [
    "data=pd.DataFrame()\n",
    "data['Top 10 ODI Team Name'] = team_name[0:10]\n",
    "data['Matches'] = team_maches[0:10]\n",
    "data['Points'] = team_points[0:10]\n",
    "data['Raitings'] = team_ratings[0:10]\n",
    "data.head(10)"
   ]
  },
  {
   "cell_type": "code",
   "execution_count": 30,
   "id": "142a9d7b",
   "metadata": {},
   "outputs": [],
   "source": [
    "data.to_csv('OdI-Mens-Teams.csv', index=False)"
   ]
  },
  {
   "cell_type": "code",
   "execution_count": null,
   "id": "49fcd11c",
   "metadata": {},
   "outputs": [],
   "source": []
  }
 ],
 "metadata": {
  "kernelspec": {
   "display_name": "Python 3",
   "language": "python",
   "name": "python3"
  },
  "language_info": {
   "codemirror_mode": {
    "name": "ipython",
    "version": 3
   },
   "file_extension": ".py",
   "mimetype": "text/x-python",
   "name": "python",
   "nbconvert_exporter": "python",
   "pygments_lexer": "ipython3",
   "version": "3.8.8"
  }
 },
 "nbformat": 4,
 "nbformat_minor": 5
}
