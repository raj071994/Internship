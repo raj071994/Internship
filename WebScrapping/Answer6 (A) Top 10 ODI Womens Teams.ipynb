{
 "cells": [
  {
   "cell_type": "code",
   "execution_count": 1,
   "id": "6c190522",
   "metadata": {},
   "outputs": [],
   "source": [
    "from bs4 import BeautifulSoup\n",
    "import requests\n",
    "import pandas as pd"
   ]
  },
  {
   "cell_type": "code",
   "execution_count": 2,
   "id": "921889aa",
   "metadata": {},
   "outputs": [
    {
     "data": {
      "text/plain": [
       "<Response [200]>"
      ]
     },
     "execution_count": 2,
     "metadata": {},
     "output_type": "execute_result"
    }
   ],
   "source": [
    "url=\"https://www.icc-cricket.com/rankings/womens/team-rankings/odi\"\n",
    "page=requests.get(url)\n",
    "page"
   ]
  },
  {
   "cell_type": "code",
   "execution_count": 3,
   "id": "809498d7",
   "metadata": {},
   "outputs": [],
   "source": [
    "soup=BeautifulSoup(page.content,\"html.parser\")"
   ]
  },
  {
   "cell_type": "code",
   "execution_count": 4,
   "id": "725145cd",
   "metadata": {},
   "outputs": [],
   "source": [
    "scraped_team_name=soup.find_all('span', class_='u-hide-phablet')"
   ]
  },
  {
   "cell_type": "code",
   "execution_count": 5,
   "id": "1061805b",
   "metadata": {},
   "outputs": [],
   "source": [
    "team_names=[]\n",
    "for teamname in scraped_team_name:\n",
    "        teamname= teamname.get_text()\n",
    "        team_names.append(teamname)"
   ]
  },
  {
   "cell_type": "code",
   "execution_count": 6,
   "id": "bc2c4bed",
   "metadata": {},
   "outputs": [],
   "source": [
    "scraped_team_matches=soup.find_all('td', {\"class\":['rankings-block__banner--matches','rankings-block__banner--points','table-body__cell u-center-text']})"
   ]
  },
  {
   "cell_type": "code",
   "execution_count": 7,
   "id": "0a07df44",
   "metadata": {},
   "outputs": [],
   "source": [
    "team_data=[]\n",
    "for teamdata in scraped_team_matches:\n",
    "        teamdata= teamdata.get_text()\n",
    "        team_data.append(teamdata)"
   ]
  },
  {
   "cell_type": "code",
   "execution_count": 8,
   "id": "2719a1cd",
   "metadata": {},
   "outputs": [],
   "source": [
    "team_maches = []\n",
    "team_points = []\n",
    "for data in range(0, len(team_data)):\n",
    "    if data % 2:\n",
    "        team_points.append(team_data[data])\n",
    "    else :\n",
    "        team_maches.append(team_data[data])"
   ]
  },
  {
   "cell_type": "code",
   "execution_count": 9,
   "id": "a82cb10a",
   "metadata": {},
   "outputs": [],
   "source": [
    "scraped_team_ratings=soup.find_all('td', {\"class\":['rankings-block__banner--rating u-text-right','table-body__cell u-text-right rating']})"
   ]
  },
  {
   "cell_type": "code",
   "execution_count": 10,
   "id": "cd6639dd",
   "metadata": {},
   "outputs": [],
   "source": [
    "team_ratings=[]\n",
    "for teamrating in scraped_team_ratings:\n",
    "        teamrating= teamrating.get_text().replace('\\n',\"\").strip(' ')\n",
    "        team_ratings.append(teamrating)"
   ]
  },
  {
   "cell_type": "code",
   "execution_count": 11,
   "id": "c8fe2e64",
   "metadata": {},
   "outputs": [
    {
     "data": {
      "text/html": [
       "<div>\n",
       "<style scoped>\n",
       "    .dataframe tbody tr th:only-of-type {\n",
       "        vertical-align: middle;\n",
       "    }\n",
       "\n",
       "    .dataframe tbody tr th {\n",
       "        vertical-align: top;\n",
       "    }\n",
       "\n",
       "    .dataframe thead th {\n",
       "        text-align: right;\n",
       "    }\n",
       "</style>\n",
       "<table border=\"1\" class=\"dataframe\">\n",
       "  <thead>\n",
       "    <tr style=\"text-align: right;\">\n",
       "      <th></th>\n",
       "      <th>Top 10 ODI Womens Team Name</th>\n",
       "      <th>Matches</th>\n",
       "      <th>Points</th>\n",
       "      <th>Ratings</th>\n",
       "    </tr>\n",
       "  </thead>\n",
       "  <tbody>\n",
       "    <tr>\n",
       "      <th>0</th>\n",
       "      <td>Australia</td>\n",
       "      <td>17</td>\n",
       "      <td>2,746</td>\n",
       "      <td>162</td>\n",
       "    </tr>\n",
       "    <tr>\n",
       "      <th>1</th>\n",
       "      <td>South Africa</td>\n",
       "      <td>19</td>\n",
       "      <td>2,307</td>\n",
       "      <td>121</td>\n",
       "    </tr>\n",
       "    <tr>\n",
       "      <th>2</th>\n",
       "      <td>England</td>\n",
       "      <td>18</td>\n",
       "      <td>2,148</td>\n",
       "      <td>119</td>\n",
       "    </tr>\n",
       "    <tr>\n",
       "      <th>3</th>\n",
       "      <td>India</td>\n",
       "      <td>17</td>\n",
       "      <td>1,899</td>\n",
       "      <td>112</td>\n",
       "    </tr>\n",
       "    <tr>\n",
       "      <th>4</th>\n",
       "      <td>Bangladesh</td>\n",
       "      <td>5</td>\n",
       "      <td>475</td>\n",
       "      <td>95</td>\n",
       "    </tr>\n",
       "    <tr>\n",
       "      <th>5</th>\n",
       "      <td>New Zealand</td>\n",
       "      <td>19</td>\n",
       "      <td>1,668</td>\n",
       "      <td>88</td>\n",
       "    </tr>\n",
       "    <tr>\n",
       "      <th>6</th>\n",
       "      <td>West Indies</td>\n",
       "      <td>19</td>\n",
       "      <td>1,658</td>\n",
       "      <td>87</td>\n",
       "    </tr>\n",
       "    <tr>\n",
       "      <th>7</th>\n",
       "      <td>Pakistan</td>\n",
       "      <td>18</td>\n",
       "      <td>1,226</td>\n",
       "      <td>68</td>\n",
       "    </tr>\n",
       "    <tr>\n",
       "      <th>8</th>\n",
       "      <td>Ireland</td>\n",
       "      <td>5</td>\n",
       "      <td>240</td>\n",
       "      <td>48</td>\n",
       "    </tr>\n",
       "    <tr>\n",
       "      <th>9</th>\n",
       "      <td>Sri Lanka</td>\n",
       "      <td>5</td>\n",
       "      <td>233</td>\n",
       "      <td>47</td>\n",
       "    </tr>\n",
       "  </tbody>\n",
       "</table>\n",
       "</div>"
      ],
      "text/plain": [
       "  Top 10 ODI Womens Team Name Matches Points Ratings\n",
       "0                   Australia      17  2,746     162\n",
       "1                South Africa      19  2,307     121\n",
       "2                     England      18  2,148     119\n",
       "3                       India      17  1,899     112\n",
       "4                  Bangladesh       5    475      95\n",
       "5                 New Zealand      19  1,668      88\n",
       "6                 West Indies      19  1,658      87\n",
       "7                    Pakistan      18  1,226      68\n",
       "8                     Ireland       5    240      48\n",
       "9                   Sri Lanka       5    233      47"
      ]
     },
     "execution_count": 11,
     "metadata": {},
     "output_type": "execute_result"
    }
   ],
   "source": [
    "data=pd.DataFrame()\n",
    "data['Top 10 ODI Womens Team Name'] = team_names[0:10]\n",
    "data['Matches'] = team_maches[0:10]\n",
    "data['Points'] = team_points[0:10]\n",
    "data['Ratings'] = team_ratings[0:10]\n",
    "data.head(10)"
   ]
  },
  {
   "cell_type": "code",
   "execution_count": 25,
   "id": "e4c90c29",
   "metadata": {},
   "outputs": [],
   "source": [
    "data.to_csv('OdI-womens-Teams.csv', index=False)"
   ]
  },
  {
   "cell_type": "code",
   "execution_count": null,
   "id": "cbbc3cbd",
   "metadata": {},
   "outputs": [],
   "source": []
  }
 ],
 "metadata": {
  "kernelspec": {
   "display_name": "Python 3",
   "language": "python",
   "name": "python3"
  },
  "language_info": {
   "codemirror_mode": {
    "name": "ipython",
    "version": 3
   },
   "file_extension": ".py",
   "mimetype": "text/x-python",
   "name": "python",
   "nbconvert_exporter": "python",
   "pygments_lexer": "ipython3",
   "version": "3.8.8"
  }
 },
 "nbformat": 4,
 "nbformat_minor": 5
}
