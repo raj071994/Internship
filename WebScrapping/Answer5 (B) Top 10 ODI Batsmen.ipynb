{
 "cells": [
  {
   "cell_type": "code",
   "execution_count": 1,
   "id": "b8c9115b",
   "metadata": {},
   "outputs": [],
   "source": [
    "from bs4 import BeautifulSoup\n",
    "import requests\n",
    "import pandas as pd"
   ]
  },
  {
   "cell_type": "code",
   "execution_count": 2,
   "id": "7c854555",
   "metadata": {},
   "outputs": [
    {
     "data": {
      "text/plain": [
       "<Response [200]>"
      ]
     },
     "execution_count": 2,
     "metadata": {},
     "output_type": "execute_result"
    }
   ],
   "source": [
    "url=\"https://www.icc-cricket.com/rankings/mens/player-rankings/odi/batting\"\n",
    "page=requests.get(url)\n",
    "page"
   ]
  },
  {
   "cell_type": "code",
   "execution_count": 3,
   "id": "90d7b2d3",
   "metadata": {},
   "outputs": [],
   "source": [
    "soup=BeautifulSoup(page.content,\"html.parser\")"
   ]
  },
  {
   "cell_type": "code",
   "execution_count": 4,
   "id": "3ed76e4b",
   "metadata": {},
   "outputs": [],
   "source": [
    "scraped_Batsmen_name=soup.find_all({'div','td'}, {\"class\":['rankings-block__banner--name-large','table-body__cell rankings-table__name name']})"
   ]
  },
  {
   "cell_type": "code",
   "execution_count": 5,
   "id": "fc4ab98c",
   "metadata": {},
   "outputs": [],
   "source": [
    "batsmen_name=[]\n",
    "for batsmenname in scraped_Batsmen_name:\n",
    "        batsmenname = batsmenname.get_text().replace('\\n',\"\")\n",
    "        batsmenname = batsmenname.strip(\" \")\n",
    "        batsmen_name.append(batsmenname)"
   ]
  },
  {
   "cell_type": "code",
   "execution_count": 6,
   "id": "40d6eeb8",
   "metadata": {},
   "outputs": [],
   "source": [
    "scraped_Batsmen_team=soup.find_all({'div','span'}, {\"class\":['rankings-block__banner--nationality','table-body__logo-text']})"
   ]
  },
  {
   "cell_type": "code",
   "execution_count": 7,
   "id": "d5d3d09a",
   "metadata": {},
   "outputs": [],
   "source": [
    "batsmen_team=[]\n",
    "for batsmenteam in scraped_Batsmen_team:\n",
    "        batsmenteam = batsmenteam.get_text().replace('\\n',\"\")\n",
    "        batsmenteam = batsmenteam.strip(\" \")\n",
    "        batsmen_team.append(batsmenteam)"
   ]
  },
  {
   "cell_type": "code",
   "execution_count": 8,
   "id": "ba270cb8",
   "metadata": {},
   "outputs": [],
   "source": [
    "scraped_Batsmen_ratings=soup.find_all({'div','td'}, {\"class\":['rankings-block__banner--rating','table-body__cell rating']})"
   ]
  },
  {
   "cell_type": "code",
   "execution_count": 9,
   "id": "e814fa4f",
   "metadata": {},
   "outputs": [],
   "source": [
    "batsmen_ratings=[]\n",
    "for batsmenrating in scraped_Batsmen_ratings:\n",
    "        batsmenrating = batsmenrating.get_text().replace('\\n',\"\")\n",
    "        batsmenrating = batsmenrating.strip(\" \")\n",
    "        batsmen_ratings.append(batsmenrating)"
   ]
  },
  {
   "cell_type": "code",
   "execution_count": 10,
   "id": "bbba8e40",
   "metadata": {},
   "outputs": [
    {
     "data": {
      "text/html": [
       "<div>\n",
       "<style scoped>\n",
       "    .dataframe tbody tr th:only-of-type {\n",
       "        vertical-align: middle;\n",
       "    }\n",
       "\n",
       "    .dataframe tbody tr th {\n",
       "        vertical-align: top;\n",
       "    }\n",
       "\n",
       "    .dataframe thead th {\n",
       "        text-align: right;\n",
       "    }\n",
       "</style>\n",
       "<table border=\"1\" class=\"dataframe\">\n",
       "  <thead>\n",
       "    <tr style=\"text-align: right;\">\n",
       "      <th></th>\n",
       "      <th>Top 10 ODI Batsmen Name</th>\n",
       "      <th>Team</th>\n",
       "      <th>Raitings</th>\n",
       "    </tr>\n",
       "  </thead>\n",
       "  <tbody>\n",
       "    <tr>\n",
       "      <th>0</th>\n",
       "      <td>Babar Azam</td>\n",
       "      <td>PAK</td>\n",
       "      <td>873</td>\n",
       "    </tr>\n",
       "    <tr>\n",
       "      <th>1</th>\n",
       "      <td>Virat Kohli</td>\n",
       "      <td>IND</td>\n",
       "      <td>844</td>\n",
       "    </tr>\n",
       "    <tr>\n",
       "      <th>2</th>\n",
       "      <td>Rohit Sharma</td>\n",
       "      <td>IND</td>\n",
       "      <td>813</td>\n",
       "    </tr>\n",
       "    <tr>\n",
       "      <th>3</th>\n",
       "      <td>Ross Taylor</td>\n",
       "      <td>NZ</td>\n",
       "      <td>801</td>\n",
       "    </tr>\n",
       "    <tr>\n",
       "      <th>4</th>\n",
       "      <td>Aaron Finch</td>\n",
       "      <td>AUS</td>\n",
       "      <td>779</td>\n",
       "    </tr>\n",
       "    <tr>\n",
       "      <th>5</th>\n",
       "      <td>Jonny Bairstow</td>\n",
       "      <td>ENG</td>\n",
       "      <td>775</td>\n",
       "    </tr>\n",
       "    <tr>\n",
       "      <th>6</th>\n",
       "      <td>David Warner</td>\n",
       "      <td>AUS</td>\n",
       "      <td>762</td>\n",
       "    </tr>\n",
       "    <tr>\n",
       "      <th>7</th>\n",
       "      <td>Shai Hope</td>\n",
       "      <td>WI</td>\n",
       "      <td>758</td>\n",
       "    </tr>\n",
       "    <tr>\n",
       "      <th>8</th>\n",
       "      <td>Kane Williamson</td>\n",
       "      <td>NZ</td>\n",
       "      <td>754</td>\n",
       "    </tr>\n",
       "    <tr>\n",
       "      <th>9</th>\n",
       "      <td>Quinton de Kock</td>\n",
       "      <td>SA</td>\n",
       "      <td>743</td>\n",
       "    </tr>\n",
       "  </tbody>\n",
       "</table>\n",
       "</div>"
      ],
      "text/plain": [
       "  Top 10 ODI Batsmen Name Team Raitings\n",
       "0              Babar Azam  PAK      873\n",
       "1             Virat Kohli  IND      844\n",
       "2            Rohit Sharma  IND      813\n",
       "3             Ross Taylor   NZ      801\n",
       "4             Aaron Finch  AUS      779\n",
       "5          Jonny Bairstow  ENG      775\n",
       "6            David Warner  AUS      762\n",
       "7               Shai Hope   WI      758\n",
       "8         Kane Williamson   NZ      754\n",
       "9         Quinton de Kock   SA      743"
      ]
     },
     "execution_count": 10,
     "metadata": {},
     "output_type": "execute_result"
    }
   ],
   "source": [
    "data=pd.DataFrame()\n",
    "data['Top 10 ODI Batsmen Name'] = batsmen_name[0:10]\n",
    "data['Team'] = batsmen_team[0:10]\n",
    "data['Raitings'] = batsmen_ratings[0:10]\n",
    "data.head(10)"
   ]
  },
  {
   "cell_type": "code",
   "execution_count": 28,
   "id": "027daa68",
   "metadata": {},
   "outputs": [],
   "source": [
    "data.to_csv('OdI-Mens-Batsmen.csv', index=False)"
   ]
  },
  {
   "cell_type": "code",
   "execution_count": null,
   "id": "9460c9ab",
   "metadata": {},
   "outputs": [],
   "source": []
  }
 ],
 "metadata": {
  "kernelspec": {
   "display_name": "Python 3",
   "language": "python",
   "name": "python3"
  },
  "language_info": {
   "codemirror_mode": {
    "name": "ipython",
    "version": 3
   },
   "file_extension": ".py",
   "mimetype": "text/x-python",
   "name": "python",
   "nbconvert_exporter": "python",
   "pygments_lexer": "ipython3",
   "version": "3.8.8"
  }
 },
 "nbformat": 4,
 "nbformat_minor": 5
}
