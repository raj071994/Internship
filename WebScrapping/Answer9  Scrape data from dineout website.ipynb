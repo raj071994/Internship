{
 "cells": [
  {
   "cell_type": "code",
   "execution_count": 1,
   "id": "bf4be364",
   "metadata": {},
   "outputs": [],
   "source": [
    "from bs4 import BeautifulSoup\n",
    "import requests\n",
    "import pandas as pd"
   ]
  },
  {
   "cell_type": "code",
   "execution_count": 2,
   "id": "f853a030",
   "metadata": {},
   "outputs": [
    {
     "data": {
      "text/plain": [
       "<Response [200]>"
      ]
     },
     "execution_count": 2,
     "metadata": {},
     "output_type": "execute_result"
    }
   ],
   "source": [
    "url=\"https://www.dineout.co.in/delhi-restaurants/buffet-special\"\n",
    "page=requests.get(url)\n",
    "page"
   ]
  },
  {
   "cell_type": "code",
   "execution_count": 3,
   "id": "fde224c5",
   "metadata": {},
   "outputs": [],
   "source": [
    "soup=BeautifulSoup(page.content,\"html.parser\")"
   ]
  },
  {
   "cell_type": "code",
   "execution_count": 4,
   "id": "e99381d7",
   "metadata": {},
   "outputs": [],
   "source": [
    "scraped_names=soup.find_all('a', class_='restnt-name ellipsis')"
   ]
  },
  {
   "cell_type": "code",
   "execution_count": 5,
   "id": "3164712b",
   "metadata": {},
   "outputs": [],
   "source": [
    "restaurent_names=[]\n",
    "for names in scraped_names:\n",
    "        names = names.get_text().replace('\\n',\"\")\n",
    "        names = names.strip(\" \")\n",
    "        restaurent_names.append(names)"
   ]
  },
  {
   "cell_type": "code",
   "execution_count": 6,
   "id": "7963578d",
   "metadata": {},
   "outputs": [],
   "source": [
    "scraped_cuisine=soup.find_all('span', class_='double-line-ellipsis')"
   ]
  },
  {
   "cell_type": "code",
   "execution_count": 7,
   "id": "0f7d5140",
   "metadata": {},
   "outputs": [],
   "source": [
    "restaurent_cuisines=[]\n",
    "for cusine in scraped_cuisine:\n",
    "        cusine = cusine.get_text().replace('\\n',\"\")\n",
    "        cusine = cusine.strip(\" \")\n",
    "        cusine = cusine.split(\"|\")[1]\n",
    "        restaurent_cuisines.append(cusine)"
   ]
  },
  {
   "cell_type": "code",
   "execution_count": 8,
   "id": "99ff2482",
   "metadata": {},
   "outputs": [],
   "source": [
    "scraped_locations=soup.find_all('div', class_='restnt-loc ellipsis')"
   ]
  },
  {
   "cell_type": "code",
   "execution_count": 9,
   "id": "91324071",
   "metadata": {},
   "outputs": [],
   "source": [
    "restaurent_locations=[]\n",
    "for location in scraped_locations:\n",
    "        location = location.get_text().replace('\\n',\"\")\n",
    "        location = location.strip(\" \")\n",
    "        restaurent_locations.append(location)"
   ]
  },
  {
   "cell_type": "code",
   "execution_count": 10,
   "id": "b37b3781",
   "metadata": {},
   "outputs": [],
   "source": [
    "scraped_ratings=soup.find_all('div', class_='restnt-rating rating-4')"
   ]
  },
  {
   "cell_type": "code",
   "execution_count": 11,
   "id": "dc8d987c",
   "metadata": {},
   "outputs": [],
   "source": [
    "restaurent_ratings=[]\n",
    "for ratings in scraped_ratings:\n",
    "        ratings = ratings.get_text().replace('\\n',\"\")\n",
    "        ratings = ratings.strip(\" \")\n",
    "        restaurent_ratings.append(ratings)"
   ]
  },
  {
   "cell_type": "code",
   "execution_count": 12,
   "id": "7f529e6f",
   "metadata": {},
   "outputs": [],
   "source": [
    "scraped_imageurl=soup.find_all('img', class_='no-img')"
   ]
  },
  {
   "cell_type": "code",
   "execution_count": 13,
   "id": "2538b0d5",
   "metadata": {},
   "outputs": [],
   "source": [
    "restaurent_imageurl=[]\n",
    "for url in scraped_imageurl:\n",
    "        url = url.get(\"data-src\")\n",
    "        restaurent_imageurl.append(url)"
   ]
  },
  {
   "cell_type": "code",
   "execution_count": 14,
   "id": "6e3b3871",
   "metadata": {},
   "outputs": [
    {
     "data": {
      "text/html": [
       "<div>\n",
       "<style scoped>\n",
       "    .dataframe tbody tr th:only-of-type {\n",
       "        vertical-align: middle;\n",
       "    }\n",
       "\n",
       "    .dataframe tbody tr th {\n",
       "        vertical-align: top;\n",
       "    }\n",
       "\n",
       "    .dataframe thead th {\n",
       "        text-align: right;\n",
       "    }\n",
       "</style>\n",
       "<table border=\"1\" class=\"dataframe\">\n",
       "  <thead>\n",
       "    <tr style=\"text-align: right;\">\n",
       "      <th></th>\n",
       "      <th>Restaurent Name</th>\n",
       "      <th>Cuisine</th>\n",
       "      <th>Location</th>\n",
       "      <th>Ratings</th>\n",
       "      <th>Image URL</th>\n",
       "    </tr>\n",
       "  </thead>\n",
       "  <tbody>\n",
       "    <tr>\n",
       "      <th>0</th>\n",
       "      <td>Castle Barbeque</td>\n",
       "      <td>Chinese, North Indian</td>\n",
       "      <td>Connaught Place, Central Delhi</td>\n",
       "      <td>3.5</td>\n",
       "      <td>https://im1.dineout.co.in/images/uploads/resta...</td>\n",
       "    </tr>\n",
       "    <tr>\n",
       "      <th>1</th>\n",
       "      <td>Jungle Jamboree</td>\n",
       "      <td>Barbecue, North Indian, Asian, Italian</td>\n",
       "      <td>3CS Mall,Lajpat Nagar - 3, South Delhi</td>\n",
       "      <td>3.9</td>\n",
       "      <td>https://im1.dineout.co.in/images/uploads/resta...</td>\n",
       "    </tr>\n",
       "    <tr>\n",
       "      <th>2</th>\n",
       "      <td>Castle Barbeque</td>\n",
       "      <td>Chinese, North Indian</td>\n",
       "      <td>Pacific Mall,Tagore Garden, West Delhi</td>\n",
       "      <td>4</td>\n",
       "      <td>https://im1.dineout.co.in/images/uploads/resta...</td>\n",
       "    </tr>\n",
       "    <tr>\n",
       "      <th>3</th>\n",
       "      <td>Cafe Knosh</td>\n",
       "      <td>Multi-Cuisine, North Indian, Italian, Contine...</td>\n",
       "      <td>The Leela Ambience Convention Hotel,Shahdara, ...</td>\n",
       "      <td>4.3</td>\n",
       "      <td>https://im1.dineout.co.in/images/uploads/resta...</td>\n",
       "    </tr>\n",
       "    <tr>\n",
       "      <th>4</th>\n",
       "      <td>The Barbeque Company</td>\n",
       "      <td>Barbecue, Chinese, Mughlai, North Indian</td>\n",
       "      <td>Gardens Galleria,Sector 38A, Noida</td>\n",
       "      <td>4</td>\n",
       "      <td>https://im1.dineout.co.in/images/uploads/resta...</td>\n",
       "    </tr>\n",
       "    <tr>\n",
       "      <th>5</th>\n",
       "      <td>India Grill</td>\n",
       "      <td>North Indian, Italian, Oriental</td>\n",
       "      <td>Hilton Garden Inn,Saket, South Delhi</td>\n",
       "      <td>3.9</td>\n",
       "      <td>https://im1.dineout.co.in/images/uploads/resta...</td>\n",
       "    </tr>\n",
       "    <tr>\n",
       "      <th>6</th>\n",
       "      <td>Delhi Barbeque</td>\n",
       "      <td>Barbecue, North Indian</td>\n",
       "      <td>Taurus Sarovar Portico,Mahipalpur, South Delhi</td>\n",
       "      <td>3.7</td>\n",
       "      <td>https://im1.dineout.co.in/images/uploads/resta...</td>\n",
       "    </tr>\n",
       "    <tr>\n",
       "      <th>7</th>\n",
       "      <td>The Monarch - Bar Be Que Village</td>\n",
       "      <td>North Indian, Chinese, Fast Food</td>\n",
       "      <td>Indirapuram Habitat Centre,Indirapuram, Ghaziabad</td>\n",
       "      <td>3.9</td>\n",
       "      <td>https://im1.dineout.co.in/images/uploads/resta...</td>\n",
       "    </tr>\n",
       "    <tr>\n",
       "      <th>8</th>\n",
       "      <td>World Cafe</td>\n",
       "      <td>North Indian, Chinese, Continental</td>\n",
       "      <td>Vibe by The Lalit Traveller,Sector 35, Faridabad</td>\n",
       "      <td>4.2</td>\n",
       "      <td>https://im1.dineout.co.in/images/uploads/resta...</td>\n",
       "    </tr>\n",
       "    <tr>\n",
       "      <th>9</th>\n",
       "      <td>Indian Grill Room</td>\n",
       "      <td>North Indian, Mughlai, Barbecue</td>\n",
       "      <td>Suncity Business Tower,Golf Course Road, Gurgaon</td>\n",
       "      <td>4.3</td>\n",
       "      <td>https://im1.dineout.co.in/images/uploads/resta...</td>\n",
       "    </tr>\n",
       "    <tr>\n",
       "      <th>10</th>\n",
       "      <td>Mad 4 Bar B Que</td>\n",
       "      <td>North Indian, Mughlai</td>\n",
       "      <td>Sector 29, Faridabad</td>\n",
       "      <td>3.7</td>\n",
       "      <td>https://im1.dineout.co.in/images/uploads/resta...</td>\n",
       "    </tr>\n",
       "    <tr>\n",
       "      <th>11</th>\n",
       "      <td>Barbeque 29</td>\n",
       "      <td>North Indian, Chinese, Barbecue</td>\n",
       "      <td>NIT, Faridabad</td>\n",
       "      <td>4.3</td>\n",
       "      <td>https://im1.dineout.co.in/images/uploads/resta...</td>\n",
       "    </tr>\n",
       "    <tr>\n",
       "      <th>12</th>\n",
       "      <td>Glasshouse</td>\n",
       "      <td>Multi-Cuisine, Asian, European, Italian, Nort...</td>\n",
       "      <td>DoubleTree By Hilton Gurugram Baani Square,Sec...</td>\n",
       "      <td>4.1</td>\n",
       "      <td>https://im1.dineout.co.in/images/uploads/resta...</td>\n",
       "    </tr>\n",
       "  </tbody>\n",
       "</table>\n",
       "</div>"
      ],
      "text/plain": [
       "                     Restaurent Name  \\\n",
       "0                    Castle Barbeque   \n",
       "1                    Jungle Jamboree   \n",
       "2                    Castle Barbeque   \n",
       "3                         Cafe Knosh   \n",
       "4               The Barbeque Company   \n",
       "5                        India Grill   \n",
       "6                     Delhi Barbeque   \n",
       "7   The Monarch - Bar Be Que Village   \n",
       "8                         World Cafe   \n",
       "9                  Indian Grill Room   \n",
       "10                   Mad 4 Bar B Que   \n",
       "11                       Barbeque 29   \n",
       "12                        Glasshouse   \n",
       "\n",
       "                                              Cuisine  \\\n",
       "0                               Chinese, North Indian   \n",
       "1              Barbecue, North Indian, Asian, Italian   \n",
       "2                               Chinese, North Indian   \n",
       "3    Multi-Cuisine, North Indian, Italian, Contine...   \n",
       "4            Barbecue, Chinese, Mughlai, North Indian   \n",
       "5                     North Indian, Italian, Oriental   \n",
       "6                              Barbecue, North Indian   \n",
       "7                    North Indian, Chinese, Fast Food   \n",
       "8                  North Indian, Chinese, Continental   \n",
       "9                     North Indian, Mughlai, Barbecue   \n",
       "10                              North Indian, Mughlai   \n",
       "11                    North Indian, Chinese, Barbecue   \n",
       "12   Multi-Cuisine, Asian, European, Italian, Nort...   \n",
       "\n",
       "                                             Location Ratings  \\\n",
       "0                      Connaught Place, Central Delhi     3.5   \n",
       "1              3CS Mall,Lajpat Nagar - 3, South Delhi     3.9   \n",
       "2              Pacific Mall,Tagore Garden, West Delhi       4   \n",
       "3   The Leela Ambience Convention Hotel,Shahdara, ...     4.3   \n",
       "4                  Gardens Galleria,Sector 38A, Noida       4   \n",
       "5                Hilton Garden Inn,Saket, South Delhi     3.9   \n",
       "6      Taurus Sarovar Portico,Mahipalpur, South Delhi     3.7   \n",
       "7   Indirapuram Habitat Centre,Indirapuram, Ghaziabad     3.9   \n",
       "8    Vibe by The Lalit Traveller,Sector 35, Faridabad     4.2   \n",
       "9    Suncity Business Tower,Golf Course Road, Gurgaon     4.3   \n",
       "10                               Sector 29, Faridabad     3.7   \n",
       "11                                     NIT, Faridabad     4.3   \n",
       "12  DoubleTree By Hilton Gurugram Baani Square,Sec...     4.1   \n",
       "\n",
       "                                           Image URL   \n",
       "0   https://im1.dineout.co.in/images/uploads/resta...  \n",
       "1   https://im1.dineout.co.in/images/uploads/resta...  \n",
       "2   https://im1.dineout.co.in/images/uploads/resta...  \n",
       "3   https://im1.dineout.co.in/images/uploads/resta...  \n",
       "4   https://im1.dineout.co.in/images/uploads/resta...  \n",
       "5   https://im1.dineout.co.in/images/uploads/resta...  \n",
       "6   https://im1.dineout.co.in/images/uploads/resta...  \n",
       "7   https://im1.dineout.co.in/images/uploads/resta...  \n",
       "8   https://im1.dineout.co.in/images/uploads/resta...  \n",
       "9   https://im1.dineout.co.in/images/uploads/resta...  \n",
       "10  https://im1.dineout.co.in/images/uploads/resta...  \n",
       "11  https://im1.dineout.co.in/images/uploads/resta...  \n",
       "12  https://im1.dineout.co.in/images/uploads/resta...  "
      ]
     },
     "execution_count": 14,
     "metadata": {},
     "output_type": "execute_result"
    }
   ],
   "source": [
    "data=pd.DataFrame()\n",
    "data['Restaurent Name'] = restaurent_names\n",
    "data['Cuisine'] = restaurent_cuisines\n",
    "data['Location'] = restaurent_locations\n",
    "data['Ratings'] = restaurent_ratings\n",
    "data['Image URL '] = restaurent_imageurl\n",
    "data.head(100)"
   ]
  },
  {
   "cell_type": "code",
   "execution_count": 36,
   "id": "99f22f81",
   "metadata": {},
   "outputs": [],
   "source": [
    "data.to_csv('dineout-Site-Data.csv', index=False)"
   ]
  },
  {
   "cell_type": "code",
   "execution_count": null,
   "id": "de3576f3",
   "metadata": {},
   "outputs": [],
   "source": []
  }
 ],
 "metadata": {
  "kernelspec": {
   "display_name": "Python 3",
   "language": "python",
   "name": "python3"
  },
  "language_info": {
   "codemirror_mode": {
    "name": "ipython",
    "version": 3
   },
   "file_extension": ".py",
   "mimetype": "text/x-python",
   "name": "python",
   "nbconvert_exporter": "python",
   "pygments_lexer": "ipython3",
   "version": "3.8.8"
  }
 },
 "nbformat": 4,
 "nbformat_minor": 5
}
