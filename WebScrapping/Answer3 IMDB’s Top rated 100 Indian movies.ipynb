{
 "cells": [
  {
   "cell_type": "code",
   "execution_count": 1,
   "id": "60a6fab4",
   "metadata": {},
   "outputs": [],
   "source": [
    "from bs4 import BeautifulSoup\n",
    "import requests\n",
    "import pandas as pd"
   ]
  },
  {
   "cell_type": "code",
   "execution_count": 2,
   "id": "26948132",
   "metadata": {},
   "outputs": [],
   "source": [
    "url=\"https://www.imdb.com/india/top-rated-indian-movies/\""
   ]
  },
  {
   "cell_type": "code",
   "execution_count": 3,
   "id": "96f23dcd",
   "metadata": {},
   "outputs": [
    {
     "data": {
      "text/plain": [
       "<Response [200]>"
      ]
     },
     "execution_count": 3,
     "metadata": {},
     "output_type": "execute_result"
    }
   ],
   "source": [
    "page=requests.get(url)\n",
    "page"
   ]
  },
  {
   "cell_type": "code",
   "execution_count": 4,
   "id": "b5e31ad5",
   "metadata": {},
   "outputs": [],
   "source": [
    "soup=BeautifulSoup(page.content,\"html.parser\")"
   ]
  },
  {
   "cell_type": "code",
   "execution_count": 5,
   "id": "3674bb55",
   "metadata": {},
   "outputs": [],
   "source": [
    "scraped_movie_title=soup.find_all('td', class_='titleColumn')"
   ]
  },
  {
   "cell_type": "code",
   "execution_count": 6,
   "id": "f9fab568",
   "metadata": {},
   "outputs": [],
   "source": [
    "movies_title=[]\n",
    "for moviesTitle in scraped_movie_title:\n",
    "        moviesTitle= moviesTitle.get_text().replace('\\n',\"\")\n",
    "        moviesTitle = moviesTitle.strip(\" \")\n",
    "        moviesTitle = moviesTitle.split(\"(\")[0]\n",
    "        movies_title.append(moviesTitle)"
   ]
  },
  {
   "cell_type": "code",
   "execution_count": 7,
   "id": "f9dc0311",
   "metadata": {},
   "outputs": [],
   "source": [
    "scraped_movie_ratings=soup.find_all('td', class_='ratingColumn imdbRating')"
   ]
  },
  {
   "cell_type": "code",
   "execution_count": 8,
   "id": "d312ffba",
   "metadata": {},
   "outputs": [],
   "source": [
    "movies_ratings=[]\n",
    "for moviesrating in scraped_movie_ratings:\n",
    "    moviesrating= moviesrating.get_text().replace('\\n','')\n",
    "    movies_ratings.append(moviesrating)"
   ]
  },
  {
   "cell_type": "code",
   "execution_count": 9,
   "id": "51c92973",
   "metadata": {},
   "outputs": [],
   "source": [
    "scraped_year=soup.find_all('span', class_='secondaryInfo')"
   ]
  },
  {
   "cell_type": "code",
   "execution_count": 10,
   "id": "1db8952a",
   "metadata": {},
   "outputs": [],
   "source": [
    "movies_years=[]\n",
    "for year in scraped_year:\n",
    "    year= year.get_text().replace('(','').replace(')','')\n",
    "    movies_years.append(year)"
   ]
  },
  {
   "cell_type": "code",
   "execution_count": 11,
   "id": "8844a460",
   "metadata": {},
   "outputs": [
    {
     "data": {
      "text/html": [
       "<div>\n",
       "<style scoped>\n",
       "    .dataframe tbody tr th:only-of-type {\n",
       "        vertical-align: middle;\n",
       "    }\n",
       "\n",
       "    .dataframe tbody tr th {\n",
       "        vertical-align: top;\n",
       "    }\n",
       "\n",
       "    .dataframe thead th {\n",
       "        text-align: right;\n",
       "    }\n",
       "</style>\n",
       "<table border=\"1\" class=\"dataframe\">\n",
       "  <thead>\n",
       "    <tr style=\"text-align: right;\">\n",
       "      <th></th>\n",
       "      <th>Movie Name</th>\n",
       "      <th>Ratings</th>\n",
       "      <th>Year</th>\n",
       "    </tr>\n",
       "  </thead>\n",
       "  <tbody>\n",
       "    <tr>\n",
       "      <th>0</th>\n",
       "      <td>1.      Jai Bhim</td>\n",
       "      <td>8.5</td>\n",
       "      <td>2021</td>\n",
       "    </tr>\n",
       "    <tr>\n",
       "      <th>1</th>\n",
       "      <td>2.      Pariyerum Perumal</td>\n",
       "      <td>8.5</td>\n",
       "      <td>2018</td>\n",
       "    </tr>\n",
       "    <tr>\n",
       "      <th>2</th>\n",
       "      <td>3.      Nayakan</td>\n",
       "      <td>8.5</td>\n",
       "      <td>1987</td>\n",
       "    </tr>\n",
       "    <tr>\n",
       "      <th>3</th>\n",
       "      <td>4.      Anbe Sivam</td>\n",
       "      <td>8.5</td>\n",
       "      <td>2003</td>\n",
       "    </tr>\n",
       "    <tr>\n",
       "      <th>4</th>\n",
       "      <td>5.      C/o Kancharapalem</td>\n",
       "      <td>8.5</td>\n",
       "      <td>2018</td>\n",
       "    </tr>\n",
       "    <tr>\n",
       "      <th>...</th>\n",
       "      <td>...</td>\n",
       "      <td>...</td>\n",
       "      <td>...</td>\n",
       "    </tr>\n",
       "    <tr>\n",
       "      <th>95</th>\n",
       "      <td>96.      Munna Bhai M.B.B.S.</td>\n",
       "      <td>8.1</td>\n",
       "      <td>2003</td>\n",
       "    </tr>\n",
       "    <tr>\n",
       "      <th>96</th>\n",
       "      <td>97.      Sarfarosh</td>\n",
       "      <td>8.1</td>\n",
       "      <td>1999</td>\n",
       "    </tr>\n",
       "    <tr>\n",
       "      <th>97</th>\n",
       "      <td>98.      Roja</td>\n",
       "      <td>8.1</td>\n",
       "      <td>1992</td>\n",
       "    </tr>\n",
       "    <tr>\n",
       "      <th>98</th>\n",
       "      <td>99.      Queen</td>\n",
       "      <td>8.1</td>\n",
       "      <td>2013</td>\n",
       "    </tr>\n",
       "    <tr>\n",
       "      <th>99</th>\n",
       "      <td>100.      Dil Chahta Hai</td>\n",
       "      <td>8.1</td>\n",
       "      <td>2001</td>\n",
       "    </tr>\n",
       "  </tbody>\n",
       "</table>\n",
       "<p>100 rows × 3 columns</p>\n",
       "</div>"
      ],
      "text/plain": [
       "                      Movie Name Ratings  Year\n",
       "0               1.      Jai Bhim     8.5  2021\n",
       "1      2.      Pariyerum Perumal     8.5  2018\n",
       "2                3.      Nayakan     8.5  1987\n",
       "3             4.      Anbe Sivam     8.5  2003\n",
       "4      5.      C/o Kancharapalem     8.5  2018\n",
       "..                           ...     ...   ...\n",
       "95  96.      Munna Bhai M.B.B.S.     8.1  2003\n",
       "96            97.      Sarfarosh     8.1  1999\n",
       "97                 98.      Roja     8.1  1992\n",
       "98                99.      Queen     8.1  2013\n",
       "99      100.      Dil Chahta Hai     8.1  2001\n",
       "\n",
       "[100 rows x 3 columns]"
      ]
     },
     "execution_count": 11,
     "metadata": {},
     "output_type": "execute_result"
    }
   ],
   "source": [
    "data=pd.DataFrame()\n",
    "data['Movie Name'] = movies_title[0:100]\n",
    "data['Ratings'] = movies_ratings[0:100]\n",
    "data['Year'] = movies_years[0:100]\n",
    "data.head(100)"
   ]
  },
  {
   "cell_type": "code",
   "execution_count": 12,
   "id": "37a6bf0d",
   "metadata": {},
   "outputs": [],
   "source": [
    "data.to_csv('TopIndian100-Imdb-Movielist.csv', index=False)"
   ]
  },
  {
   "cell_type": "code",
   "execution_count": null,
   "id": "fac48750",
   "metadata": {},
   "outputs": [],
   "source": []
  }
 ],
 "metadata": {
  "kernelspec": {
   "display_name": "Python 3",
   "language": "python",
   "name": "python3"
  },
  "language_info": {
   "codemirror_mode": {
    "name": "ipython",
    "version": 3
   },
   "file_extension": ".py",
   "mimetype": "text/x-python",
   "name": "python",
   "nbconvert_exporter": "python",
   "pygments_lexer": "ipython3",
   "version": "3.8.8"
  }
 },
 "nbformat": 4,
 "nbformat_minor": 5
}
