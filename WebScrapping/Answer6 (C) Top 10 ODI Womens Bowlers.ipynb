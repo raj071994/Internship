{
 "cells": [
  {
   "cell_type": "code",
   "execution_count": 1,
   "id": "962a1628",
   "metadata": {},
   "outputs": [],
   "source": [
    "from bs4 import BeautifulSoup\n",
    "import requests\n",
    "import pandas as pd"
   ]
  },
  {
   "cell_type": "code",
   "execution_count": 2,
   "id": "613866e3",
   "metadata": {},
   "outputs": [
    {
     "data": {
      "text/plain": [
       "<Response [200]>"
      ]
     },
     "execution_count": 2,
     "metadata": {},
     "output_type": "execute_result"
    }
   ],
   "source": [
    "url=\"https://www.icc-cricket.com/rankings/womens/player-rankings/odi/Bowling\"\n",
    "page=requests.get(url)\n",
    "page"
   ]
  },
  {
   "cell_type": "code",
   "execution_count": 3,
   "id": "0300b765",
   "metadata": {},
   "outputs": [],
   "source": [
    "soup=BeautifulSoup(page.content,\"html.parser\")"
   ]
  },
  {
   "cell_type": "code",
   "execution_count": 4,
   "id": "81e7ef4f",
   "metadata": {},
   "outputs": [],
   "source": [
    "scraped_Bowlers_name=soup.find_all({'div','td'}, {\"class\":['rankings-block__banner--name-large','table-body__cell rankings-table__name name']})"
   ]
  },
  {
   "cell_type": "code",
   "execution_count": 5,
   "id": "e039be6f",
   "metadata": {},
   "outputs": [],
   "source": [
    "bowlers_name=[]\n",
    "for bowlersname in scraped_Bowlers_name:\n",
    "        bowlersname = bowlersname.get_text().replace('\\n',\"\")\n",
    "        bowlersname = bowlersname.strip(\" \")\n",
    "        bowlers_name.append(bowlersname)"
   ]
  },
  {
   "cell_type": "code",
   "execution_count": 6,
   "id": "3e47f1c0",
   "metadata": {},
   "outputs": [],
   "source": [
    "scraped_Bowlers_team=soup.find_all({'div','span'}, {\"class\":['rankings-block__banner--nationality','table-body__logo-text']})"
   ]
  },
  {
   "cell_type": "code",
   "execution_count": 7,
   "id": "e6882a18",
   "metadata": {},
   "outputs": [],
   "source": [
    "bowlers_team=[]\n",
    "for bowlersteam in scraped_Bowlers_team:\n",
    "        bowlersteam = bowlersteam.get_text().replace('\\n',\"\")\n",
    "        bowlersteam = bowlersteam.strip(\" \")\n",
    "        bowlers_team.append(bowlersteam)"
   ]
  },
  {
   "cell_type": "code",
   "execution_count": 8,
   "id": "59c71f8a",
   "metadata": {},
   "outputs": [],
   "source": [
    "scraped_Bowlers_ratings=soup.find_all({'div','td'}, {\"class\":['rankings-block__banner--rating','table-body__cell rating']})"
   ]
  },
  {
   "cell_type": "code",
   "execution_count": 9,
   "id": "66d6d2c4",
   "metadata": {},
   "outputs": [],
   "source": [
    "bowlers_ratings=[]\n",
    "for bowlersrating in scraped_Bowlers_ratings:\n",
    "        bowlersrating = bowlersrating.get_text().replace('\\n',\"\")\n",
    "        bowlersrating = bowlersrating.strip(\" \")\n",
    "        bowlers_ratings.append(bowlersrating)"
   ]
  },
  {
   "cell_type": "code",
   "execution_count": 10,
   "id": "031a41ba",
   "metadata": {},
   "outputs": [
    {
     "data": {
      "text/html": [
       "<div>\n",
       "<style scoped>\n",
       "    .dataframe tbody tr th:only-of-type {\n",
       "        vertical-align: middle;\n",
       "    }\n",
       "\n",
       "    .dataframe tbody tr th {\n",
       "        vertical-align: top;\n",
       "    }\n",
       "\n",
       "    .dataframe thead th {\n",
       "        text-align: right;\n",
       "    }\n",
       "</style>\n",
       "<table border=\"1\" class=\"dataframe\">\n",
       "  <thead>\n",
       "    <tr style=\"text-align: right;\">\n",
       "      <th></th>\n",
       "      <th>Top 10 ODI Bowlers Name</th>\n",
       "      <th>Team</th>\n",
       "      <th>Raitings</th>\n",
       "    </tr>\n",
       "  </thead>\n",
       "  <tbody>\n",
       "    <tr>\n",
       "      <th>0</th>\n",
       "      <td>Jess Jonassen</td>\n",
       "      <td>AUS</td>\n",
       "      <td>760</td>\n",
       "    </tr>\n",
       "    <tr>\n",
       "      <th>1</th>\n",
       "      <td>Jhulan Goswami</td>\n",
       "      <td>IND</td>\n",
       "      <td>727</td>\n",
       "    </tr>\n",
       "    <tr>\n",
       "      <th>2</th>\n",
       "      <td>Megan Schutt</td>\n",
       "      <td>AUS</td>\n",
       "      <td>717</td>\n",
       "    </tr>\n",
       "    <tr>\n",
       "      <th>3</th>\n",
       "      <td>Marizanne Kapp</td>\n",
       "      <td>SA</td>\n",
       "      <td>715</td>\n",
       "    </tr>\n",
       "    <tr>\n",
       "      <th>4</th>\n",
       "      <td>Sophie Ecclestone</td>\n",
       "      <td>ENG</td>\n",
       "      <td>701</td>\n",
       "    </tr>\n",
       "    <tr>\n",
       "      <th>5</th>\n",
       "      <td>Shabnim Ismail</td>\n",
       "      <td>SA</td>\n",
       "      <td>688</td>\n",
       "    </tr>\n",
       "    <tr>\n",
       "      <th>6</th>\n",
       "      <td>Katherine Brunt</td>\n",
       "      <td>ENG</td>\n",
       "      <td>666</td>\n",
       "    </tr>\n",
       "    <tr>\n",
       "      <th>7</th>\n",
       "      <td>Ayabonga Khaka</td>\n",
       "      <td>SA</td>\n",
       "      <td>643</td>\n",
       "    </tr>\n",
       "    <tr>\n",
       "      <th>8</th>\n",
       "      <td>Anya Shrubsole</td>\n",
       "      <td>ENG</td>\n",
       "      <td>598</td>\n",
       "    </tr>\n",
       "    <tr>\n",
       "      <th>9</th>\n",
       "      <td>Kate Cross</td>\n",
       "      <td>ENG</td>\n",
       "      <td>589</td>\n",
       "    </tr>\n",
       "  </tbody>\n",
       "</table>\n",
       "</div>"
      ],
      "text/plain": [
       "  Top 10 ODI Bowlers Name Team Raitings\n",
       "0           Jess Jonassen  AUS      760\n",
       "1          Jhulan Goswami  IND      727\n",
       "2            Megan Schutt  AUS      717\n",
       "3          Marizanne Kapp   SA      715\n",
       "4       Sophie Ecclestone  ENG      701\n",
       "5          Shabnim Ismail   SA      688\n",
       "6         Katherine Brunt  ENG      666\n",
       "7          Ayabonga Khaka   SA      643\n",
       "8          Anya Shrubsole  ENG      598\n",
       "9              Kate Cross  ENG      589"
      ]
     },
     "execution_count": 10,
     "metadata": {},
     "output_type": "execute_result"
    }
   ],
   "source": [
    "data=pd.DataFrame()\n",
    "data['Top 10 ODI Bowlers Name'] = bowlers_name[0:10]\n",
    "data['Team'] = bowlers_team[0:10]\n",
    "data['Raitings'] = bowlers_ratings[0:10]\n",
    "data.head(10)"
   ]
  },
  {
   "cell_type": "code",
   "execution_count": 12,
   "id": "f4c53adc",
   "metadata": {},
   "outputs": [],
   "source": [
    "data.to_csv('OdI-Womens-Bowlers.csv', index=False)"
   ]
  },
  {
   "cell_type": "code",
   "execution_count": null,
   "id": "ff3994aa",
   "metadata": {},
   "outputs": [],
   "source": []
  }
 ],
 "metadata": {
  "kernelspec": {
   "display_name": "Python 3",
   "language": "python",
   "name": "python3"
  },
  "language_info": {
   "codemirror_mode": {
    "name": "ipython",
    "version": 3
   },
   "file_extension": ".py",
   "mimetype": "text/x-python",
   "name": "python",
   "nbconvert_exporter": "python",
   "pygments_lexer": "ipython3",
   "version": "3.8.8"
  }
 },
 "nbformat": 4,
 "nbformat_minor": 5
}
