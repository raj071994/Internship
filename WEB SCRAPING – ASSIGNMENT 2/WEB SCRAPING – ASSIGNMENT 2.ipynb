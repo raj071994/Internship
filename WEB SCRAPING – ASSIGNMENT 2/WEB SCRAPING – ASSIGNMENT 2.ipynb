{
 "cells": [
  {
   "cell_type": "code",
   "execution_count": 77,
   "id": "9bea7aa0",
   "metadata": {},
   "outputs": [],
   "source": [
    "# Impoting Library\n",
    "import selenium\n",
    "from selenium import webdriver\n",
    "import pandas as pd\n",
    "import warnings\n",
    "warnings.filterwarnings(\"ignore\")"
   ]
  },
  {
   "cell_type": "code",
   "execution_count": 78,
   "id": "0e5769ed",
   "metadata": {},
   "outputs": [],
   "source": [
    "#Setting connection to WebDriver\n",
    "driver = webdriver.Chrome(r'C:\\Users\\RAJVEER\\Downloads\\chromedriver_win32\\chromedriver.exe')"
   ]
  },
  {
   "cell_type": "code",
   "execution_count": 79,
   "id": "29d93a10",
   "metadata": {},
   "outputs": [],
   "source": [
    "driver = webdriver.Chrome('chromedriver.exe')"
   ]
  },
  {
   "cell_type": "markdown",
   "id": "0b7a3892",
   "metadata": {},
   "source": [
    "# Solution 1"
   ]
  },
  {
   "cell_type": "code",
   "execution_count": 86,
   "id": "600e12d9",
   "metadata": {},
   "outputs": [],
   "source": [
    "url='https://www.naukri.com/'\n",
    "driver.get(url)"
   ]
  },
  {
   "cell_type": "code",
   "execution_count": 87,
   "id": "ad38e151",
   "metadata": {},
   "outputs": [
    {
     "data": {
      "text/plain": [
       "<selenium.webdriver.remote.webelement.WebElement (session=\"dbc3f7b8d77c28cc406854a97e219bc5\", element=\"1d6f6098-fa4b-421c-8eef-a045bc4ec794\")>"
      ]
     },
     "execution_count": 87,
     "metadata": {},
     "output_type": "execute_result"
    }
   ],
   "source": [
    "# Element to search given data on page\n",
    "search_job = driver.find_element_by_class_name('suggestor-input')\n",
    "search_job"
   ]
  },
  {
   "cell_type": "code",
   "execution_count": 88,
   "id": "cdbf0c18",
   "metadata": {},
   "outputs": [],
   "source": [
    "search_job.send_keys(\"Data Analyst\")"
   ]
  },
  {
   "cell_type": "code",
   "execution_count": 89,
   "id": "af0c61f2",
   "metadata": {},
   "outputs": [],
   "source": [
    "Search_loc = driver.find_element_by_xpath('/html/body/div/div[2]/div[3]/div/div/div[3]/div/div/div/input')"
   ]
  },
  {
   "cell_type": "code",
   "execution_count": 90,
   "id": "4f62cf99",
   "metadata": {},
   "outputs": [],
   "source": [
    "Search_loc.send_keys(\"Bangalore\")"
   ]
  },
  {
   "cell_type": "code",
   "execution_count": 91,
   "id": "f85e6df7",
   "metadata": {},
   "outputs": [
    {
     "data": {
      "text/plain": [
       "<selenium.webdriver.remote.webelement.WebElement (session=\"dbc3f7b8d77c28cc406854a97e219bc5\", element=\"005c6111-f12b-47ac-a01d-9cea61570a3b\")>"
      ]
     },
     "execution_count": 91,
     "metadata": {},
     "output_type": "execute_result"
    }
   ],
   "source": [
    "Search_button = driver.find_element_by_xpath('/html/body/div/div[2]/div[3]/div/div/div[6]')\n",
    "Search_button"
   ]
  },
  {
   "cell_type": "code",
   "execution_count": 92,
   "id": "485651db",
   "metadata": {},
   "outputs": [],
   "source": [
    "Search_button.click()"
   ]
  },
  {
   "cell_type": "markdown",
   "id": "27259f5c",
   "metadata": {},
   "source": [
    "# Scrapping Job Details"
   ]
  },
  {
   "cell_type": "code",
   "execution_count": 93,
   "id": "7f35107b",
   "metadata": {},
   "outputs": [],
   "source": [
    "title_tag = driver.find_elements_by_xpath('//a[@class=\"title fw500 ellipsis\"]')"
   ]
  },
  {
   "cell_type": "code",
   "execution_count": 94,
   "id": "faaa758b",
   "metadata": {},
   "outputs": [],
   "source": [
    "job_titles =[]\n",
    "\n",
    "for i in title_tag:\n",
    "    job_titles.append(i.text)"
   ]
  },
  {
   "cell_type": "code",
   "execution_count": 95,
   "id": "68283eb7",
   "metadata": {},
   "outputs": [],
   "source": [
    "location_tag = driver.find_elements_by_xpath('//li[@class=\"fleft grey-text br2 placeHolderLi location\"]')"
   ]
  },
  {
   "cell_type": "code",
   "execution_count": 96,
   "id": "638b5fd9",
   "metadata": {},
   "outputs": [],
   "source": [
    "job_location =[]\n",
    "\n",
    "for i in location_tag:\n",
    "    job_location.append(i.text)"
   ]
  },
  {
   "cell_type": "code",
   "execution_count": 97,
   "id": "348ec754",
   "metadata": {},
   "outputs": [],
   "source": [
    "company_tag = driver.find_elements_by_xpath('//a[@class=\"subTitle ellipsis fleft\"]')"
   ]
  },
  {
   "cell_type": "code",
   "execution_count": 98,
   "id": "41f446f3",
   "metadata": {},
   "outputs": [],
   "source": [
    "job_company =[]\n",
    "\n",
    "for i in company_tag:\n",
    "    job_company.append(i.text)"
   ]
  },
  {
   "cell_type": "code",
   "execution_count": 99,
   "id": "978ab61d",
   "metadata": {},
   "outputs": [],
   "source": [
    "exp_tag = driver.find_elements_by_xpath('//li[@class=\"fleft grey-text br2 placeHolderLi experience\"]')"
   ]
  },
  {
   "cell_type": "code",
   "execution_count": 100,
   "id": "942b6fc0",
   "metadata": {},
   "outputs": [],
   "source": [
    "job_Experience =[]\n",
    "\n",
    "for i in exp_tag:\n",
    "    job_Experience.append(i.text)"
   ]
  },
  {
   "cell_type": "code",
   "execution_count": 101,
   "id": "0dc0be4a",
   "metadata": {},
   "outputs": [
    {
     "data": {
      "text/html": [
       "<div>\n",
       "<style scoped>\n",
       "    .dataframe tbody tr th:only-of-type {\n",
       "        vertical-align: middle;\n",
       "    }\n",
       "\n",
       "    .dataframe tbody tr th {\n",
       "        vertical-align: top;\n",
       "    }\n",
       "\n",
       "    .dataframe thead th {\n",
       "        text-align: right;\n",
       "    }\n",
       "</style>\n",
       "<table border=\"1\" class=\"dataframe\">\n",
       "  <thead>\n",
       "    <tr style=\"text-align: right;\">\n",
       "      <th></th>\n",
       "      <th>Job Title</th>\n",
       "      <th>Job Location</th>\n",
       "      <th>Company Name</th>\n",
       "      <th>Experienced Required</th>\n",
       "    </tr>\n",
       "  </thead>\n",
       "  <tbody>\n",
       "    <tr>\n",
       "      <th>0</th>\n",
       "      <td>Junior Data Analyst/ Scientist- Fresher Position</td>\n",
       "      <td>Kolkata, Gurgaon/Gurugram, Bangalore/Bengaluru...</td>\n",
       "      <td>Sejal Consulting Hub</td>\n",
       "      <td>0-3 Yrs</td>\n",
       "    </tr>\n",
       "    <tr>\n",
       "      <th>1</th>\n",
       "      <td>Assistant Clinical Data Analyst</td>\n",
       "      <td>Bangalore/Bengaluru</td>\n",
       "      <td>Labcorp Drug Development India Private Limited</td>\n",
       "      <td>0-2 Yrs</td>\n",
       "    </tr>\n",
       "    <tr>\n",
       "      <th>2</th>\n",
       "      <td>Senior Data Analyst - CRM</td>\n",
       "      <td>Bangalore/Bengaluru</td>\n",
       "      <td>Gojek Tech</td>\n",
       "      <td>2-5 Yrs</td>\n",
       "    </tr>\n",
       "    <tr>\n",
       "      <th>3</th>\n",
       "      <td>Lead - Data Analyst / Scientist</td>\n",
       "      <td>Bangalore/Bengaluru</td>\n",
       "      <td>Axim Technologies</td>\n",
       "      <td>12-14 Yrs</td>\n",
       "    </tr>\n",
       "    <tr>\n",
       "      <th>4</th>\n",
       "      <td>Hiring For Data Analyst</td>\n",
       "      <td>Bangalore/Bengaluru</td>\n",
       "      <td>Flipkart</td>\n",
       "      <td>4-8 Yrs</td>\n",
       "    </tr>\n",
       "    <tr>\n",
       "      <th>5</th>\n",
       "      <td>Senior Data Analyst</td>\n",
       "      <td>Bangalore/Bengaluru</td>\n",
       "      <td>Walmart</td>\n",
       "      <td>4-7 Yrs</td>\n",
       "    </tr>\n",
       "    <tr>\n",
       "      <th>6</th>\n",
       "      <td>Senior Data Analyst</td>\n",
       "      <td>Bangalore/Bengaluru\\n(WFH during Covid)</td>\n",
       "      <td>SMEDC SERVICES PRIVATE LIMITED</td>\n",
       "      <td>4-8 Yrs</td>\n",
       "    </tr>\n",
       "    <tr>\n",
       "      <th>7</th>\n",
       "      <td>Senior Data Analyst - CRM</td>\n",
       "      <td>Bangalore/Bengaluru</td>\n",
       "      <td>GO-JEK India</td>\n",
       "      <td>4-8 Yrs</td>\n",
       "    </tr>\n",
       "    <tr>\n",
       "      <th>8</th>\n",
       "      <td>Data Analyst</td>\n",
       "      <td>Hyderabad/Secunderabad, Chennai, Bangalore/Ben...</td>\n",
       "      <td>Verizon</td>\n",
       "      <td>4-9 Yrs</td>\n",
       "    </tr>\n",
       "    <tr>\n",
       "      <th>9</th>\n",
       "      <td>Global Data Analyst</td>\n",
       "      <td>Bangalore/Bengaluru</td>\n",
       "      <td>ExecBoardinAsia</td>\n",
       "      <td>5-10 Yrs</td>\n",
       "    </tr>\n",
       "  </tbody>\n",
       "</table>\n",
       "</div>"
      ],
      "text/plain": [
       "                                          Job Title  \\\n",
       "0  Junior Data Analyst/ Scientist- Fresher Position   \n",
       "1                   Assistant Clinical Data Analyst   \n",
       "2                         Senior Data Analyst - CRM   \n",
       "3                   Lead - Data Analyst / Scientist   \n",
       "4                           Hiring For Data Analyst   \n",
       "5                               Senior Data Analyst   \n",
       "6                               Senior Data Analyst   \n",
       "7                         Senior Data Analyst - CRM   \n",
       "8                                      Data Analyst   \n",
       "9                               Global Data Analyst   \n",
       "\n",
       "                                        Job Location  \\\n",
       "0  Kolkata, Gurgaon/Gurugram, Bangalore/Bengaluru...   \n",
       "1                                Bangalore/Bengaluru   \n",
       "2                                Bangalore/Bengaluru   \n",
       "3                                Bangalore/Bengaluru   \n",
       "4                                Bangalore/Bengaluru   \n",
       "5                                Bangalore/Bengaluru   \n",
       "6            Bangalore/Bengaluru\\n(WFH during Covid)   \n",
       "7                                Bangalore/Bengaluru   \n",
       "8  Hyderabad/Secunderabad, Chennai, Bangalore/Ben...   \n",
       "9                                Bangalore/Bengaluru   \n",
       "\n",
       "                                     Company Name Experienced Required  \n",
       "0                            Sejal Consulting Hub              0-3 Yrs  \n",
       "1  Labcorp Drug Development India Private Limited              0-2 Yrs  \n",
       "2                                      Gojek Tech              2-5 Yrs  \n",
       "3                               Axim Technologies            12-14 Yrs  \n",
       "4                                        Flipkart              4-8 Yrs  \n",
       "5                                         Walmart              4-7 Yrs  \n",
       "6                  SMEDC SERVICES PRIVATE LIMITED              4-8 Yrs  \n",
       "7                                    GO-JEK India              4-8 Yrs  \n",
       "8                                         Verizon              4-9 Yrs  \n",
       "9                                 ExecBoardinAsia             5-10 Yrs  "
      ]
     },
     "execution_count": 101,
     "metadata": {},
     "output_type": "execute_result"
    }
   ],
   "source": [
    "jobs = pd.DataFrame()\n",
    "jobs['Job Title']= job_titles[0:10]\n",
    "jobs['Job Location']= job_location[0:10]\n",
    "jobs['Company Name']= job_company[0:10]\n",
    "jobs['Experienced Required']= job_Experience[0:10]\n",
    "jobs"
   ]
  },
  {
   "cell_type": "markdown",
   "id": "acc6ff27",
   "metadata": {},
   "source": [
    "# Solution 2"
   ]
  },
  {
   "cell_type": "code",
   "execution_count": 110,
   "id": "9e9f5cd5",
   "metadata": {},
   "outputs": [],
   "source": [
    "url='https://www.naukri.com/'\n",
    "driver.get(url)"
   ]
  },
  {
   "cell_type": "code",
   "execution_count": 111,
   "id": "21e38621",
   "metadata": {},
   "outputs": [
    {
     "data": {
      "text/plain": [
       "<selenium.webdriver.remote.webelement.WebElement (session=\"b1b6345e62350efd33eb35aedb5a12e1\", element=\"3f5dc760-c28c-4f16-8eba-8d213a5c67df\")>"
      ]
     },
     "execution_count": 111,
     "metadata": {},
     "output_type": "execute_result"
    }
   ],
   "source": [
    "# Element to search given data on page\n",
    "search_job = driver.find_element_by_class_name('suggestor-input')\n",
    "search_job"
   ]
  },
  {
   "cell_type": "code",
   "execution_count": 112,
   "id": "20e79105",
   "metadata": {},
   "outputs": [],
   "source": [
    "search_job.send_keys(\"“Data Scientist\")"
   ]
  },
  {
   "cell_type": "code",
   "execution_count": 113,
   "id": "1c377d4c",
   "metadata": {},
   "outputs": [],
   "source": [
    "Search_loc = driver.find_element_by_xpath('/html/body/div/div[2]/div[3]/div/div/div[3]/div/div/div/input')"
   ]
  },
  {
   "cell_type": "code",
   "execution_count": 114,
   "id": "8137d708",
   "metadata": {},
   "outputs": [],
   "source": [
    "Search_loc.send_keys(\"Bangalore\")"
   ]
  },
  {
   "cell_type": "code",
   "execution_count": 115,
   "id": "d43099ae",
   "metadata": {},
   "outputs": [],
   "source": [
    "Search_button = driver.find_element_by_xpath('/html/body/div/div[2]/div[3]/div/div/div[6]')\n",
    "Search_button.click()"
   ]
  },
  {
   "cell_type": "markdown",
   "id": "e3ff48fc",
   "metadata": {},
   "source": [
    "# Scrapping Job Details"
   ]
  },
  {
   "cell_type": "code",
   "execution_count": 116,
   "id": "20ef38b8",
   "metadata": {},
   "outputs": [],
   "source": [
    "title_tag = driver.find_elements_by_xpath('//a[@class=\"title fw500 ellipsis\"]')\n",
    "job_titles =[]\n",
    "\n",
    "for i in title_tag:\n",
    "    job_titles.append(i.text)"
   ]
  },
  {
   "cell_type": "code",
   "execution_count": 117,
   "id": "877ab752",
   "metadata": {},
   "outputs": [],
   "source": [
    "location_tag = driver.find_elements_by_xpath('//li[@class=\"fleft grey-text br2 placeHolderLi location\"]')\n",
    "job_location =[]\n",
    "\n",
    "for i in location_tag:\n",
    "    job_location.append(i.text)"
   ]
  },
  {
   "cell_type": "code",
   "execution_count": 118,
   "id": "6253ca6e",
   "metadata": {},
   "outputs": [],
   "source": [
    "company_tag = driver.find_elements_by_xpath('//a[@class=\"subTitle ellipsis fleft\"]')\n",
    "job_company =[]\n",
    "\n",
    "for i in company_tag:\n",
    "    job_company.append(i.text)"
   ]
  },
  {
   "cell_type": "code",
   "execution_count": 119,
   "id": "0b5b88ba",
   "metadata": {},
   "outputs": [
    {
     "data": {
      "text/html": [
       "<div>\n",
       "<style scoped>\n",
       "    .dataframe tbody tr th:only-of-type {\n",
       "        vertical-align: middle;\n",
       "    }\n",
       "\n",
       "    .dataframe tbody tr th {\n",
       "        vertical-align: top;\n",
       "    }\n",
       "\n",
       "    .dataframe thead th {\n",
       "        text-align: right;\n",
       "    }\n",
       "</style>\n",
       "<table border=\"1\" class=\"dataframe\">\n",
       "  <thead>\n",
       "    <tr style=\"text-align: right;\">\n",
       "      <th></th>\n",
       "      <th>Job Title</th>\n",
       "      <th>Job Location</th>\n",
       "      <th>Company Name</th>\n",
       "    </tr>\n",
       "  </thead>\n",
       "  <tbody>\n",
       "    <tr>\n",
       "      <th>0</th>\n",
       "      <td>Sr Data Scientist</td>\n",
       "      <td>Bangalore/Bengaluru</td>\n",
       "      <td>Siemens</td>\n",
       "    </tr>\n",
       "    <tr>\n",
       "      <th>1</th>\n",
       "      <td>Senior/Lead Data Scientist - (Revenue Management)</td>\n",
       "      <td>Bangalore/Bengaluru</td>\n",
       "      <td>o9 Solutions Management India Private Limited</td>\n",
       "    </tr>\n",
       "    <tr>\n",
       "      <th>2</th>\n",
       "      <td>Senior/Lead - Data Scientist (Supply Chain)</td>\n",
       "      <td>Bangalore/Bengaluru</td>\n",
       "      <td>o9 Solutions Management India Private Limited</td>\n",
       "    </tr>\n",
       "    <tr>\n",
       "      <th>3</th>\n",
       "      <td>Senior Manager - Lead Data Scientist</td>\n",
       "      <td>Bangalore/Bengaluru</td>\n",
       "      <td>ExecBoardinAsia</td>\n",
       "    </tr>\n",
       "    <tr>\n",
       "      <th>4</th>\n",
       "      <td>Associate Data Scientist</td>\n",
       "      <td>Chennai, Bangalore/Bengaluru</td>\n",
       "      <td>Shell</td>\n",
       "    </tr>\n",
       "    <tr>\n",
       "      <th>5</th>\n",
       "      <td>Junior Programmer - Data Scientist</td>\n",
       "      <td>Bangalore/Bengaluru</td>\n",
       "      <td>GSK India</td>\n",
       "    </tr>\n",
       "    <tr>\n",
       "      <th>6</th>\n",
       "      <td>Lead/Senior Data Scientist (NLP)</td>\n",
       "      <td>Bangalore/Bengaluru\\n(WFH during Covid)</td>\n",
       "      <td>Samya.AI A FRACTAL Entity</td>\n",
       "    </tr>\n",
       "    <tr>\n",
       "      <th>7</th>\n",
       "      <td>Sr . Data Scientist</td>\n",
       "      <td>Mumbai, Bangalore/Bengaluru</td>\n",
       "      <td>RKSV</td>\n",
       "    </tr>\n",
       "    <tr>\n",
       "      <th>8</th>\n",
       "      <td>Sr. Data Scientist</td>\n",
       "      <td>Pune, Bangalore/Bengaluru, Mumbai (All Areas)\\...</td>\n",
       "      <td>NutaNXT Technologies</td>\n",
       "    </tr>\n",
       "    <tr>\n",
       "      <th>9</th>\n",
       "      <td>Senior Data Scientist, Data Sciences</td>\n",
       "      <td>Bangalore/Bengaluru</td>\n",
       "      <td>Vmware</td>\n",
       "    </tr>\n",
       "  </tbody>\n",
       "</table>\n",
       "</div>"
      ],
      "text/plain": [
       "                                           Job Title  \\\n",
       "0                                  Sr Data Scientist   \n",
       "1  Senior/Lead Data Scientist - (Revenue Management)   \n",
       "2        Senior/Lead - Data Scientist (Supply Chain)   \n",
       "3               Senior Manager - Lead Data Scientist   \n",
       "4                           Associate Data Scientist   \n",
       "5                 Junior Programmer - Data Scientist   \n",
       "6                   Lead/Senior Data Scientist (NLP)   \n",
       "7                                Sr . Data Scientist   \n",
       "8                                 Sr. Data Scientist   \n",
       "9               Senior Data Scientist, Data Sciences   \n",
       "\n",
       "                                        Job Location  \\\n",
       "0                                Bangalore/Bengaluru   \n",
       "1                                Bangalore/Bengaluru   \n",
       "2                                Bangalore/Bengaluru   \n",
       "3                                Bangalore/Bengaluru   \n",
       "4                       Chennai, Bangalore/Bengaluru   \n",
       "5                                Bangalore/Bengaluru   \n",
       "6            Bangalore/Bengaluru\\n(WFH during Covid)   \n",
       "7                        Mumbai, Bangalore/Bengaluru   \n",
       "8  Pune, Bangalore/Bengaluru, Mumbai (All Areas)\\...   \n",
       "9                                Bangalore/Bengaluru   \n",
       "\n",
       "                                    Company Name  \n",
       "0                                        Siemens  \n",
       "1  o9 Solutions Management India Private Limited  \n",
       "2  o9 Solutions Management India Private Limited  \n",
       "3                                ExecBoardinAsia  \n",
       "4                                          Shell  \n",
       "5                                      GSK India  \n",
       "6                      Samya.AI A FRACTAL Entity  \n",
       "7                                           RKSV  \n",
       "8                           NutaNXT Technologies  \n",
       "9                                         Vmware  "
      ]
     },
     "execution_count": 119,
     "metadata": {},
     "output_type": "execute_result"
    }
   ],
   "source": [
    "jobs = pd.DataFrame()\n",
    "jobs['Job Title']= job_titles[0:10]\n",
    "jobs['Job Location']= job_location[0:10]\n",
    "jobs['Company Name']= job_company[0:10]\n",
    "jobs"
   ]
  },
  {
   "cell_type": "markdown",
   "id": "29121277",
   "metadata": {},
   "source": [
    "# Solution 3"
   ]
  },
  {
   "cell_type": "code",
   "execution_count": 123,
   "id": "308ee8f9",
   "metadata": {},
   "outputs": [],
   "source": [
    "url='https://www.naukri.com/'\n",
    "driver.get(url)"
   ]
  },
  {
   "cell_type": "code",
   "execution_count": 124,
   "id": "8b561998",
   "metadata": {},
   "outputs": [
    {
     "data": {
      "text/plain": [
       "<selenium.webdriver.remote.webelement.WebElement (session=\"0ca01ad9eb0bc9efeeba664b511e45d9\", element=\"683feaf3-aed0-4e03-a176-0b480d31579b\")>"
      ]
     },
     "execution_count": 124,
     "metadata": {},
     "output_type": "execute_result"
    }
   ],
   "source": [
    "# Element to search given data on page\n",
    "search_job = driver.find_element_by_class_name('suggestor-input')\n",
    "search_job"
   ]
  },
  {
   "cell_type": "code",
   "execution_count": 125,
   "id": "328f136d",
   "metadata": {},
   "outputs": [],
   "source": [
    "search_job.send_keys(\"“Data Scientist\")"
   ]
  },
  {
   "cell_type": "code",
   "execution_count": 126,
   "id": "5813d3f2",
   "metadata": {},
   "outputs": [],
   "source": [
    "Search_button = driver.find_element_by_xpath('/html/body/div/div[2]/div[3]/div/div/div[6]')\n",
    "Search_button.click()"
   ]
  },
  {
   "cell_type": "code",
   "execution_count": 127,
   "id": "0ad92a22",
   "metadata": {},
   "outputs": [],
   "source": [
    "location_check = driver.find_element_by_xpath('/html/body/div[1]/div[3]/div[2]/section[1]/div[2]/div[3]/div[2]/div[3]/label/i')"
   ]
  },
  {
   "cell_type": "code",
   "execution_count": 128,
   "id": "dabd9375",
   "metadata": {},
   "outputs": [],
   "source": [
    "location_check.click()"
   ]
  },
  {
   "cell_type": "code",
   "execution_count": 129,
   "id": "e6aa472a",
   "metadata": {},
   "outputs": [],
   "source": [
    "salary_check = driver.find_element_by_xpath('/html/body/div[1]/div[3]/div[2]/section[1]/div[2]/div[4]/div[2]/div[2]/label/i')\n",
    "salary_check.click()"
   ]
  },
  {
   "cell_type": "markdown",
   "id": "30cc1194",
   "metadata": {},
   "source": [
    "# Scrapping Job Details"
   ]
  },
  {
   "cell_type": "code",
   "execution_count": 130,
   "id": "6d1fa306",
   "metadata": {},
   "outputs": [],
   "source": [
    "title_tag = driver.find_elements_by_xpath('//a[@class=\"title fw500 ellipsis\"]')\n",
    "job_titles =[]\n",
    "\n",
    "for i in title_tag:\n",
    "    job_titles.append(i.text)"
   ]
  },
  {
   "cell_type": "code",
   "execution_count": 134,
   "id": "b590cd4b",
   "metadata": {},
   "outputs": [],
   "source": [
    "location_tag = driver.find_elements_by_xpath('//li[@class=\"fleft grey-text br2 placeHolderLi location\"]')\n",
    "job_location =[]\n",
    "\n",
    "for i in location_tag:\n",
    "    job_location.append(i.text)"
   ]
  },
  {
   "cell_type": "code",
   "execution_count": 135,
   "id": "280e24a3",
   "metadata": {},
   "outputs": [],
   "source": [
    "company_tag = driver.find_elements_by_xpath('//a[@class=\"subTitle ellipsis fleft\"]')\n",
    "job_company =[]\n",
    "\n",
    "for i in company_tag:\n",
    "    job_company.append(i.text)"
   ]
  },
  {
   "cell_type": "code",
   "execution_count": 136,
   "id": "c3cace61",
   "metadata": {},
   "outputs": [],
   "source": [
    "exp_tag = driver.find_elements_by_xpath('//li[@class=\"fleft grey-text br2 placeHolderLi experience\"]')\n",
    "job_Experience =[]\n",
    "\n",
    "for i in exp_tag:\n",
    "    job_Experience.append(i.text)"
   ]
  },
  {
   "cell_type": "code",
   "execution_count": 137,
   "id": "91e361d5",
   "metadata": {},
   "outputs": [
    {
     "data": {
      "text/html": [
       "<div>\n",
       "<style scoped>\n",
       "    .dataframe tbody tr th:only-of-type {\n",
       "        vertical-align: middle;\n",
       "    }\n",
       "\n",
       "    .dataframe tbody tr th {\n",
       "        vertical-align: top;\n",
       "    }\n",
       "\n",
       "    .dataframe thead th {\n",
       "        text-align: right;\n",
       "    }\n",
       "</style>\n",
       "<table border=\"1\" class=\"dataframe\">\n",
       "  <thead>\n",
       "    <tr style=\"text-align: right;\">\n",
       "      <th></th>\n",
       "      <th>Job Title</th>\n",
       "      <th>Job Location</th>\n",
       "      <th>Company Name</th>\n",
       "      <th>Experienced Required</th>\n",
       "    </tr>\n",
       "  </thead>\n",
       "  <tbody>\n",
       "    <tr>\n",
       "      <th>0</th>\n",
       "      <td>Job Opportunity || Data Scientist || HCL Techn...</td>\n",
       "      <td>Delhi / NCR</td>\n",
       "      <td>HCL</td>\n",
       "      <td>2-6 Yrs</td>\n",
       "    </tr>\n",
       "    <tr>\n",
       "      <th>1</th>\n",
       "      <td>Data Scientist | Python | Machine Learning | D...</td>\n",
       "      <td>Noida, Gurgaon/Gurugram, Delhi / NCR</td>\n",
       "      <td>Schlesinger Group</td>\n",
       "      <td>0-3 Yrs</td>\n",
       "    </tr>\n",
       "    <tr>\n",
       "      <th>2</th>\n",
       "      <td>Senior Data Scientist I</td>\n",
       "      <td>Gurgaon/Gurugram</td>\n",
       "      <td>Delhivery</td>\n",
       "      <td>3-7 Yrs</td>\n",
       "    </tr>\n",
       "    <tr>\n",
       "      <th>3</th>\n",
       "      <td>Data Scientist</td>\n",
       "      <td>Gurgaon/Gurugram</td>\n",
       "      <td>T &amp; A Solutions</td>\n",
       "      <td>2-6 Yrs</td>\n",
       "    </tr>\n",
       "    <tr>\n",
       "      <th>4</th>\n",
       "      <td>Openings For Jr/mid/Sr level data Scientists</td>\n",
       "      <td>Kolkata, Hyderabad/Secunderabad, Pune, Ahmedab...</td>\n",
       "      <td>Pluto seven business solutions (p) limited</td>\n",
       "      <td>2-6 Yrs</td>\n",
       "    </tr>\n",
       "    <tr>\n",
       "      <th>5</th>\n",
       "      <td>Data Scientist role</td>\n",
       "      <td>Noida, Hyderabad/Secunderabad, Pune, Gurgaon/G...</td>\n",
       "      <td>Mount Talent Consulting Private Limited</td>\n",
       "      <td>1-4 Yrs</td>\n",
       "    </tr>\n",
       "    <tr>\n",
       "      <th>6</th>\n",
       "      <td>Urgent Hiring For Data Scientist</td>\n",
       "      <td>Gurgaon/Gurugram, Bangalore/Bengaluru</td>\n",
       "      <td>Mount Talent Consulting Private Limited</td>\n",
       "      <td>1-6 Yrs</td>\n",
       "    </tr>\n",
       "    <tr>\n",
       "      <th>7</th>\n",
       "      <td>Urgent Hiring For Data Scientist</td>\n",
       "      <td>Gurgaon/Gurugram, Bangalore/Bengaluru</td>\n",
       "      <td>Mount Talent Consulting Private Limited</td>\n",
       "      <td>1-6 Yrs</td>\n",
       "    </tr>\n",
       "    <tr>\n",
       "      <th>8</th>\n",
       "      <td>Data Scientist role</td>\n",
       "      <td>Noida, Hyderabad/Secunderabad, Pune, Gurgaon/G...</td>\n",
       "      <td>Mount Talent Consulting Private Limited</td>\n",
       "      <td>1-3 Yrs</td>\n",
       "    </tr>\n",
       "    <tr>\n",
       "      <th>9</th>\n",
       "      <td>Data Scientist role</td>\n",
       "      <td>Noida, Hyderabad/Secunderabad, Pune, Gurgaon/G...</td>\n",
       "      <td>Mount Talent Consulting Private Limited</td>\n",
       "      <td>1-3 Yrs</td>\n",
       "    </tr>\n",
       "  </tbody>\n",
       "</table>\n",
       "</div>"
      ],
      "text/plain": [
       "                                           Job Title  \\\n",
       "0  Job Opportunity || Data Scientist || HCL Techn...   \n",
       "1  Data Scientist | Python | Machine Learning | D...   \n",
       "2                            Senior Data Scientist I   \n",
       "3                                     Data Scientist   \n",
       "4       Openings For Jr/mid/Sr level data Scientists   \n",
       "5                                Data Scientist role   \n",
       "6                   Urgent Hiring For Data Scientist   \n",
       "7                   Urgent Hiring For Data Scientist   \n",
       "8                                Data Scientist role   \n",
       "9                                Data Scientist role   \n",
       "\n",
       "                                        Job Location  \\\n",
       "0                                        Delhi / NCR   \n",
       "1               Noida, Gurgaon/Gurugram, Delhi / NCR   \n",
       "2                                   Gurgaon/Gurugram   \n",
       "3                                   Gurgaon/Gurugram   \n",
       "4  Kolkata, Hyderabad/Secunderabad, Pune, Ahmedab...   \n",
       "5  Noida, Hyderabad/Secunderabad, Pune, Gurgaon/G...   \n",
       "6              Gurgaon/Gurugram, Bangalore/Bengaluru   \n",
       "7              Gurgaon/Gurugram, Bangalore/Bengaluru   \n",
       "8  Noida, Hyderabad/Secunderabad, Pune, Gurgaon/G...   \n",
       "9  Noida, Hyderabad/Secunderabad, Pune, Gurgaon/G...   \n",
       "\n",
       "                                 Company Name Experienced Required  \n",
       "0                                         HCL              2-6 Yrs  \n",
       "1                           Schlesinger Group              0-3 Yrs  \n",
       "2                                   Delhivery              3-7 Yrs  \n",
       "3                             T & A Solutions              2-6 Yrs  \n",
       "4  Pluto seven business solutions (p) limited              2-6 Yrs  \n",
       "5     Mount Talent Consulting Private Limited              1-4 Yrs  \n",
       "6     Mount Talent Consulting Private Limited              1-6 Yrs  \n",
       "7     Mount Talent Consulting Private Limited              1-6 Yrs  \n",
       "8     Mount Talent Consulting Private Limited              1-3 Yrs  \n",
       "9     Mount Talent Consulting Private Limited              1-3 Yrs  "
      ]
     },
     "execution_count": 137,
     "metadata": {},
     "output_type": "execute_result"
    }
   ],
   "source": [
    "jobs = pd.DataFrame()\n",
    "jobs['Job Title']= job_titles[0:10]\n",
    "jobs['Job Location']= job_location[0:10]\n",
    "jobs['Company Name']= job_company[0:10]\n",
    "jobs['Experienced Required']= job_Experience[0:10]\n",
    "jobs"
   ]
  },
  {
   "cell_type": "markdown",
   "id": "278cad25",
   "metadata": {},
   "source": [
    "# Solution 4"
   ]
  },
  {
   "cell_type": "code",
   "execution_count": 203,
   "id": "bf847d3f",
   "metadata": {},
   "outputs": [],
   "source": [
    "url='https://www.flipkart.com/'\n",
    "driver.get(url)"
   ]
  },
  {
   "cell_type": "code",
   "execution_count": 204,
   "id": "e518a5b7",
   "metadata": {},
   "outputs": [],
   "source": [
    "# Element to search given data on page\n",
    "search_product = driver.find_element_by_class_name('_3704LK')\n",
    "search_product.send_keys(\"sunglasses\")"
   ]
  },
  {
   "cell_type": "code",
   "execution_count": 205,
   "id": "8d51342e",
   "metadata": {},
   "outputs": [],
   "source": [
    "Search_button = driver.find_element_by_xpath('/html/body/div[1]/div/div[1]/div[1]/div[2]/div[2]/form/div/button')\n",
    "Search_button.click()"
   ]
  },
  {
   "cell_type": "code",
   "execution_count": 206,
   "id": "3f85af43",
   "metadata": {},
   "outputs": [
    {
     "data": {
      "text/plain": [
       "40"
      ]
     },
     "execution_count": 206,
     "metadata": {},
     "output_type": "execute_result"
    }
   ],
   "source": [
    "#Data From First Page\n",
    "brand_tag = driver.find_elements_by_xpath('//a[@class=\"_2WkVRV\"]')\n",
    "brand =[]\n",
    "\n",
    "for i in brand_tag:\n",
    "    brand.append(i.text)\n",
    "len(brand)"
   ]
  },
  {
   "cell_type": "code",
   "execution_count": 207,
   "id": "5a031b01",
   "metadata": {},
   "outputs": [
    {
     "data": {
      "text/plain": [
       "40"
      ]
     },
     "execution_count": 207,
     "metadata": {},
     "output_type": "execute_result"
    }
   ],
   "source": [
    "des_tag = driver.find_elements_by_xpath('//a[@class=\"IRpwTa\"]')\n",
    "product_des =[]\n",
    "\n",
    "for i in des_tag:\n",
    "    product_des.append(i.text)\n",
    "len(product_des)"
   ]
  },
  {
   "cell_type": "code",
   "execution_count": null,
   "id": "d863ba86",
   "metadata": {},
   "outputs": [],
   "source": [
    "price_tag = driver.find_elements_by_xpath('//div[@class=\"_30jeq3\"]')\n",
    "product_price=[]\n",
    "for i in price_tag:\n",
    "    product_price.append(i.text)\n",
    "len(product_price)"
   ]
  },
  {
   "cell_type": "code",
   "execution_count": 209,
   "id": "520d7e65",
   "metadata": {},
   "outputs": [
    {
     "data": {
      "text/plain": [
       "40"
      ]
     },
     "execution_count": 209,
     "metadata": {},
     "output_type": "execute_result"
    }
   ],
   "source": [
    "price_discount = driver.find_elements_by_xpath('//div[@class=\"_3Ay6Sb\"]')\n",
    "product_discount =[]\n",
    "\n",
    "for i in price_discount:\n",
    "    product_discount.append(i.text)\n",
    "len(product_discount)"
   ]
  },
  {
   "cell_type": "code",
   "execution_count": 215,
   "id": "c243b094",
   "metadata": {},
   "outputs": [],
   "source": [
    "Next_button = driver.find_element_by_xpath('/html/body/div[1]/div/div[3]/div[1]/div[2]/div[12]/div/div/nav/a[11]/span')\n",
    "Next_button.click()"
   ]
  },
  {
   "cell_type": "code",
   "execution_count": 218,
   "id": "114bfca2",
   "metadata": {},
   "outputs": [
    {
     "data": {
      "text/plain": [
       "80"
      ]
     },
     "execution_count": 218,
     "metadata": {},
     "output_type": "execute_result"
    }
   ],
   "source": [
    "brand_tag = driver.find_elements_by_xpath('//div[@class=\"_2WkVRV\"]')\n",
    "for i in brand_tag:\n",
    "    brand.append(i.text)\n",
    "len(brand)"
   ]
  },
  {
   "cell_type": "code",
   "execution_count": 219,
   "id": "b0d346a7",
   "metadata": {},
   "outputs": [
    {
     "data": {
      "text/plain": [
       "80"
      ]
     },
     "execution_count": 219,
     "metadata": {},
     "output_type": "execute_result"
    }
   ],
   "source": [
    "des_tag = driver.find_elements_by_xpath('//a[@class=\"IRpwTa\"]')\n",
    "for i in des_tag:\n",
    "    product_des.append(i.text)\n",
    "len(product_des)"
   ]
  },
  {
   "cell_type": "code",
   "execution_count": 220,
   "id": "db6b36e1",
   "metadata": {},
   "outputs": [
    {
     "data": {
      "text/plain": [
       "80"
      ]
     },
     "execution_count": 220,
     "metadata": {},
     "output_type": "execute_result"
    }
   ],
   "source": [
    "price_tag = driver.find_elements_by_xpath('//div[@class=\"_30jeq3\"]')\n",
    "for i in price_tag:\n",
    "    product_price.append(i.text)\n",
    "len(product_price)"
   ]
  },
  {
   "cell_type": "code",
   "execution_count": 221,
   "id": "503aec5a",
   "metadata": {},
   "outputs": [
    {
     "data": {
      "text/plain": [
       "80"
      ]
     },
     "execution_count": 221,
     "metadata": {},
     "output_type": "execute_result"
    }
   ],
   "source": [
    "price_discount = driver.find_elements_by_xpath('//div[@class=\"_3Ay6Sb\"]')\n",
    "for i in price_discount:\n",
    "    product_discount.append(i.text)\n",
    "len(product_discount)"
   ]
  },
  {
   "cell_type": "code",
   "execution_count": 222,
   "id": "04310ee0",
   "metadata": {},
   "outputs": [],
   "source": [
    "Next_button = driver.find_element_by_xpath('/html/body/div[1]/div/div[3]/div[1]/div[2]/div[12]/div/div/nav/a[12]/span')\n",
    "Next_button.click()"
   ]
  },
  {
   "cell_type": "code",
   "execution_count": 223,
   "id": "bc88f3aa",
   "metadata": {},
   "outputs": [
    {
     "data": {
      "text/plain": [
       "120"
      ]
     },
     "execution_count": 223,
     "metadata": {},
     "output_type": "execute_result"
    }
   ],
   "source": [
    "brand_tag = driver.find_elements_by_xpath('//div[@class=\"_2WkVRV\"]')\n",
    "for i in brand_tag:\n",
    "    brand.append(i.text)\n",
    "len(brand)"
   ]
  },
  {
   "cell_type": "code",
   "execution_count": 224,
   "id": "4e39331d",
   "metadata": {},
   "outputs": [
    {
     "data": {
      "text/plain": [
       "120"
      ]
     },
     "execution_count": 224,
     "metadata": {},
     "output_type": "execute_result"
    }
   ],
   "source": [
    "des_tag = driver.find_elements_by_xpath('//a[@class=\"IRpwTa\"]')\n",
    "for i in des_tag:\n",
    "    product_des.append(i.text)\n",
    "len(product_des)"
   ]
  },
  {
   "cell_type": "code",
   "execution_count": 225,
   "id": "5034ecb8",
   "metadata": {},
   "outputs": [
    {
     "data": {
      "text/plain": [
       "120"
      ]
     },
     "execution_count": 225,
     "metadata": {},
     "output_type": "execute_result"
    }
   ],
   "source": [
    "price_tag = driver.find_elements_by_xpath('//div[@class=\"_30jeq3\"]')\n",
    "for i in price_tag:\n",
    "    product_price.append(i.text)\n",
    "len(product_price)"
   ]
  },
  {
   "cell_type": "code",
   "execution_count": 226,
   "id": "25454050",
   "metadata": {},
   "outputs": [
    {
     "data": {
      "text/plain": [
       "120"
      ]
     },
     "execution_count": 226,
     "metadata": {},
     "output_type": "execute_result"
    }
   ],
   "source": [
    "price_discount = driver.find_elements_by_xpath('//div[@class=\"_3Ay6Sb\"]')\n",
    "for i in price_discount:\n",
    "    product_discount.append(i.text)\n",
    "len(product_discount)"
   ]
  },
  {
   "cell_type": "code",
   "execution_count": 227,
   "id": "16fa9be8",
   "metadata": {},
   "outputs": [
    {
     "data": {
      "text/html": [
       "<div>\n",
       "<style scoped>\n",
       "    .dataframe tbody tr th:only-of-type {\n",
       "        vertical-align: middle;\n",
       "    }\n",
       "\n",
       "    .dataframe tbody tr th {\n",
       "        vertical-align: top;\n",
       "    }\n",
       "\n",
       "    .dataframe thead th {\n",
       "        text-align: right;\n",
       "    }\n",
       "</style>\n",
       "<table border=\"1\" class=\"dataframe\">\n",
       "  <thead>\n",
       "    <tr style=\"text-align: right;\">\n",
       "      <th></th>\n",
       "      <th>Brand</th>\n",
       "      <th>Product Description</th>\n",
       "      <th>Price</th>\n",
       "      <th>Discount</th>\n",
       "    </tr>\n",
       "  </thead>\n",
       "  <tbody>\n",
       "    <tr>\n",
       "      <th>0</th>\n",
       "      <td>Singco India</td>\n",
       "      <td>Gradient, Toughened Glass Lens, UV Protection ...</td>\n",
       "      <td>₹599</td>\n",
       "      <td>80% off</td>\n",
       "    </tr>\n",
       "    <tr>\n",
       "      <th>1</th>\n",
       "      <td>CRYSTAL CART</td>\n",
       "      <td>Polarized, UV Protection, Gradient, Riding Gla...</td>\n",
       "      <td>₹269</td>\n",
       "      <td>82% off</td>\n",
       "    </tr>\n",
       "    <tr>\n",
       "      <th>2</th>\n",
       "      <td>PIRASO</td>\n",
       "      <td>UV Protection Aviator Sunglasses (54)</td>\n",
       "      <td>₹200</td>\n",
       "      <td>87% off</td>\n",
       "    </tr>\n",
       "    <tr>\n",
       "      <th>3</th>\n",
       "      <td>Elligator</td>\n",
       "      <td>UV Protection Round Sunglasses (54)</td>\n",
       "      <td>₹248</td>\n",
       "      <td>90% off</td>\n",
       "    </tr>\n",
       "    <tr>\n",
       "      <th>4</th>\n",
       "      <td>SRPM</td>\n",
       "      <td>UV Protection Wayfarer Sunglasses (56)</td>\n",
       "      <td>₹198</td>\n",
       "      <td>84% off</td>\n",
       "    </tr>\n",
       "    <tr>\n",
       "      <th>...</th>\n",
       "      <td>...</td>\n",
       "      <td>...</td>\n",
       "      <td>...</td>\n",
       "      <td>...</td>\n",
       "    </tr>\n",
       "    <tr>\n",
       "      <th>95</th>\n",
       "      <td>VINCENT CHASE</td>\n",
       "      <td>by Lenskart UV Protection Wayfarer Sunglasses ...</td>\n",
       "      <td>₹999</td>\n",
       "      <td>50% off</td>\n",
       "    </tr>\n",
       "    <tr>\n",
       "      <th>96</th>\n",
       "      <td>kingsunglasses</td>\n",
       "      <td>UV Protection, Mirrored Round Sunglasses (54)</td>\n",
       "      <td>₹211</td>\n",
       "      <td>82% off</td>\n",
       "    </tr>\n",
       "    <tr>\n",
       "      <th>97</th>\n",
       "      <td>Elligator</td>\n",
       "      <td>UV Protection, Riding Glasses Rectangular, Ret...</td>\n",
       "      <td>₹305</td>\n",
       "      <td>79% off</td>\n",
       "    </tr>\n",
       "    <tr>\n",
       "      <th>98</th>\n",
       "      <td>maxa</td>\n",
       "      <td>UV Protection, Riding Glasses Rectangular, Way...</td>\n",
       "      <td>₹144</td>\n",
       "      <td>79% off</td>\n",
       "    </tr>\n",
       "    <tr>\n",
       "      <th>99</th>\n",
       "      <td>VINCENT CHASE</td>\n",
       "      <td>by Lenskart UV Protection Aviator Sunglasses (53)</td>\n",
       "      <td>₹999</td>\n",
       "      <td>50% off</td>\n",
       "    </tr>\n",
       "  </tbody>\n",
       "</table>\n",
       "<p>100 rows × 4 columns</p>\n",
       "</div>"
      ],
      "text/plain": [
       "             Brand                                Product Description Price  \\\n",
       "0     Singco India  Gradient, Toughened Glass Lens, UV Protection ...  ₹599   \n",
       "1     CRYSTAL CART  Polarized, UV Protection, Gradient, Riding Gla...  ₹269   \n",
       "2           PIRASO              UV Protection Aviator Sunglasses (54)  ₹200   \n",
       "3        Elligator                UV Protection Round Sunglasses (54)  ₹248   \n",
       "4             SRPM             UV Protection Wayfarer Sunglasses (56)  ₹198   \n",
       "..             ...                                                ...   ...   \n",
       "95   VINCENT CHASE  by Lenskart UV Protection Wayfarer Sunglasses ...  ₹999   \n",
       "96  kingsunglasses      UV Protection, Mirrored Round Sunglasses (54)  ₹211   \n",
       "97       Elligator  UV Protection, Riding Glasses Rectangular, Ret...  ₹305   \n",
       "98            maxa  UV Protection, Riding Glasses Rectangular, Way...  ₹144   \n",
       "99   VINCENT CHASE  by Lenskart UV Protection Aviator Sunglasses (53)  ₹999   \n",
       "\n",
       "   Discount  \n",
       "0   80% off  \n",
       "1   82% off  \n",
       "2   87% off  \n",
       "3   90% off  \n",
       "4   84% off  \n",
       "..      ...  \n",
       "95  50% off  \n",
       "96  82% off  \n",
       "97  79% off  \n",
       "98  79% off  \n",
       "99  50% off  \n",
       "\n",
       "[100 rows x 4 columns]"
      ]
     },
     "execution_count": 227,
     "metadata": {},
     "output_type": "execute_result"
    }
   ],
   "source": [
    "products = pd.DataFrame()\n",
    "products['Brand']= brand[0:100]\n",
    "products['Product Description']= product_des[0:100]\n",
    "products['Price']= product_price[0:100]\n",
    "products['Discount']= product_discount[0:100]\n",
    "products"
   ]
  },
  {
   "cell_type": "markdown",
   "id": "0d0840b6",
   "metadata": {},
   "source": [
    "# Solution 5"
   ]
  },
  {
   "cell_type": "code",
   "execution_count": 259,
   "id": "4ab843e5",
   "metadata": {},
   "outputs": [],
   "source": [
    "url='https://www.flipkart.com/apple-iphone-11-black-64-gb-includes-%20earpods-poweradapter/p/itm0f37c2240b217?pid=MOBFKCTSVZAXUHGR&lid=LSTMOBFKC%20TSVZAXUHGREPBFGI&marketplace'\n",
    "driver.get(url)"
   ]
  },
  {
   "cell_type": "code",
   "execution_count": 260,
   "id": "1a34e2e4",
   "metadata": {},
   "outputs": [],
   "source": [
    "allreview_button = driver.find_element_by_xpath('/html/body/div[1]/div/div[3]/div[1]/div[2]/div[7]/div/div/div[5]/div/a/div/span')\n",
    "allreview_button.click()"
   ]
  },
  {
   "cell_type": "code",
   "execution_count": 431,
   "id": "346f19f9",
   "metadata": {},
   "outputs": [],
   "source": [
    "#Data From First Page\n",
    "ratings_tag = driver.find_elements_by_xpath('//div[@class=\"_3LWZlK _1BLPMq\"]')\n",
    "ratings =[]\n",
    "\n",
    "for i in ratings_tag:\n",
    "    ratings.append(i.text)"
   ]
  },
  {
   "cell_type": "code",
   "execution_count": 432,
   "id": "03caa470",
   "metadata": {},
   "outputs": [],
   "source": [
    "review_summay_tag = driver.find_elements_by_xpath('//p[@class=\"_2-N8zT\"]')\n",
    "review =[]\n",
    "\n",
    "for i in review_summay_tag:\n",
    "    review.append(i.text)"
   ]
  },
  {
   "cell_type": "code",
   "execution_count": 433,
   "id": "8ede4539",
   "metadata": {},
   "outputs": [],
   "source": [
    "full_review_tag = driver.find_elements_by_xpath('//div[@class=\"t-ZTKy\"]')\n",
    "full_review =[]\n",
    "\n",
    "for i in full_review_tag:\n",
    "    full_review.append(i.text)"
   ]
  },
  {
   "cell_type": "code",
   "execution_count": 434,
   "id": "024989be",
   "metadata": {},
   "outputs": [],
   "source": [
    "Next_button = driver.find_element_by_xpath('/html/body/div[1]/div/div[3]/div/div/div[2]/div[13]/div/div/nav/a[11]/span')\n",
    "Next_button.click() "
   ]
  },
  {
   "cell_type": "code",
   "execution_count": 435,
   "id": "7f46f06c",
   "metadata": {},
   "outputs": [],
   "source": [
    "ratings_tag = driver.find_elements_by_xpath('//div[@class=\"_3LWZlK _1BLPMq\"]')\n",
    "for i in ratings_tag:\n",
    "    ratings.append(i.text)"
   ]
  },
  {
   "cell_type": "code",
   "execution_count": 436,
   "id": "453652ce",
   "metadata": {},
   "outputs": [],
   "source": [
    "review_summay_tag = driver.find_elements_by_xpath('//p[@class=\"_2-N8zT\"]')\n",
    "for i in review_summay_tag:\n",
    "    review.append(i.text)"
   ]
  },
  {
   "cell_type": "code",
   "execution_count": 437,
   "id": "549d4596",
   "metadata": {},
   "outputs": [],
   "source": [
    "full_review_tag = driver.find_elements_by_xpath('//div[@class=\"t-ZTKy\"]')\n",
    "for i in full_review_tag:\n",
    "    full_review.append(i.text)"
   ]
  },
  {
   "cell_type": "code",
   "execution_count": 438,
   "id": "a601abf8",
   "metadata": {},
   "outputs": [],
   "source": [
    "Next_button = driver.find_element_by_xpath('/html/body/div[1]/div/div[3]/div/div/div[2]/div[13]/div/div/nav/a[12]/span')\n",
    "Next_button.click() "
   ]
  },
  {
   "cell_type": "code",
   "execution_count": 439,
   "id": "5ffbd35c",
   "metadata": {},
   "outputs": [],
   "source": [
    "ratings_tag = driver.find_elements_by_xpath('//div[@class=\"_3LWZlK _1BLPMq\"]')\n",
    "for i in ratings_tag:\n",
    "    ratings.append(i.text)"
   ]
  },
  {
   "cell_type": "code",
   "execution_count": 440,
   "id": "843030cd",
   "metadata": {},
   "outputs": [],
   "source": [
    "review_summay_tag = driver.find_elements_by_xpath('//p[@class=\"_2-N8zT\"]')\n",
    "for i in review_summay_tag:\n",
    "    review.append(i.text)"
   ]
  },
  {
   "cell_type": "code",
   "execution_count": 441,
   "id": "6874f345",
   "metadata": {},
   "outputs": [],
   "source": [
    "full_review_tag = driver.find_elements_by_xpath('//div[@class=\"t-ZTKy\"]')\n",
    "for i in full_review_tag:\n",
    "    full_review.append(i.text)"
   ]
  },
  {
   "cell_type": "code",
   "execution_count": 442,
   "id": "7282e8f5",
   "metadata": {},
   "outputs": [],
   "source": [
    "Next_button = driver.find_element_by_xpath('/html/body/div[1]/div/div[3]/div/div/div[2]/div[13]/div/div/nav/a[12]/span')\n",
    "Next_button.click() "
   ]
  },
  {
   "cell_type": "code",
   "execution_count": 443,
   "id": "23155a2b",
   "metadata": {},
   "outputs": [],
   "source": [
    "ratings_tag = driver.find_elements_by_xpath('//div[@class=\"_3LWZlK _1BLPMq\"]')\n",
    "for i in ratings_tag:\n",
    "    ratings.append(i.text)"
   ]
  },
  {
   "cell_type": "code",
   "execution_count": 444,
   "id": "a90510e9",
   "metadata": {},
   "outputs": [],
   "source": [
    "review_summay_tag = driver.find_elements_by_xpath('//p[@class=\"_2-N8zT\"]')\n",
    "for i in review_summay_tag:\n",
    "    review.append(i.text)"
   ]
  },
  {
   "cell_type": "code",
   "execution_count": 445,
   "id": "c5cb6ac3",
   "metadata": {},
   "outputs": [],
   "source": [
    "full_review_tag = driver.find_elements_by_xpath('//div[@class=\"t-ZTKy\"]')\n",
    "for i in full_review_tag:\n",
    "    full_review.append(i.text)"
   ]
  },
  {
   "cell_type": "code",
   "execution_count": 446,
   "id": "dde19385",
   "metadata": {},
   "outputs": [],
   "source": [
    "Next_button = driver.find_element_by_xpath('/html/body/div[1]/div/div[3]/div/div/div[2]/div[13]/div/div/nav/a[12]/span')\n",
    "Next_button.click() "
   ]
  },
  {
   "cell_type": "code",
   "execution_count": 447,
   "id": "8e1b37e0",
   "metadata": {},
   "outputs": [],
   "source": [
    "ratings_tag = driver.find_elements_by_xpath('//div[@class=\"_3LWZlK _1BLPMq\"]')\n",
    "for i in ratings_tag:\n",
    "    ratings.append(i.text)"
   ]
  },
  {
   "cell_type": "code",
   "execution_count": 448,
   "id": "c9a751e0",
   "metadata": {},
   "outputs": [],
   "source": [
    "review_summay_tag = driver.find_elements_by_xpath('//p[@class=\"_2-N8zT\"]')\n",
    "for i in review_summay_tag:\n",
    "    review.append(i.text)"
   ]
  },
  {
   "cell_type": "code",
   "execution_count": 449,
   "id": "bc9c6739",
   "metadata": {},
   "outputs": [],
   "source": [
    "full_review_tag = driver.find_elements_by_xpath('//div[@class=\"t-ZTKy\"]')\n",
    "for i in full_review_tag:\n",
    "    full_review.append(i.text)"
   ]
  },
  {
   "cell_type": "code",
   "execution_count": 450,
   "id": "6b43bc91",
   "metadata": {},
   "outputs": [],
   "source": [
    "Next_button = driver.find_element_by_xpath('/html/body/div[1]/div/div[3]/div/div/div[2]/div[13]/div/div/nav/a[12]/span')\n",
    "Next_button.click() "
   ]
  },
  {
   "cell_type": "code",
   "execution_count": 451,
   "id": "0c66e3f7",
   "metadata": {},
   "outputs": [],
   "source": [
    "ratings_tag = driver.find_elements_by_xpath('//div[@class=\"_3LWZlK _1BLPMq\"]')\n",
    "for i in ratings_tag:\n",
    "    ratings.append(i.text)"
   ]
  },
  {
   "cell_type": "code",
   "execution_count": 452,
   "id": "4a6604ce",
   "metadata": {},
   "outputs": [],
   "source": [
    "review_summay_tag = driver.find_elements_by_xpath('//p[@class=\"_2-N8zT\"]')\n",
    "for i in review_summay_tag:\n",
    "    review.append(i.text)"
   ]
  },
  {
   "cell_type": "code",
   "execution_count": 453,
   "id": "edfb9cf1",
   "metadata": {},
   "outputs": [],
   "source": [
    "full_review_tag = driver.find_elements_by_xpath('//div[@class=\"t-ZTKy\"]')\n",
    "for i in full_review_tag:\n",
    "    full_review.append(i.text)"
   ]
  },
  {
   "cell_type": "code",
   "execution_count": 454,
   "id": "3323d259",
   "metadata": {},
   "outputs": [],
   "source": [
    "Next_button = driver.find_element_by_xpath('/html/body/div[1]/div/div[3]/div/div/div[2]/div[13]/div/div/nav/a[12]/span')\n",
    "Next_button.click() "
   ]
  },
  {
   "cell_type": "code",
   "execution_count": 455,
   "id": "351eac3d",
   "metadata": {},
   "outputs": [],
   "source": [
    "ratings_tag = driver.find_elements_by_xpath('//div[@class=\"_3LWZlK _1BLPMq\"]')\n",
    "for i in ratings_tag:\n",
    "    ratings.append(i.text)\n",
    "\n",
    "review_summay_tag = driver.find_elements_by_xpath('//p[@class=\"_2-N8zT\"]')\n",
    "for i in review_summay_tag:\n",
    "    review.append(i.text)\n",
    "\n",
    "full_review_tag = driver.find_elements_by_xpath('//div[@class=\"t-ZTKy\"]')\n",
    "for i in full_review_tag:\n",
    "    full_review.append(i.text)"
   ]
  },
  {
   "cell_type": "code",
   "execution_count": 456,
   "id": "0ce9a440",
   "metadata": {},
   "outputs": [],
   "source": [
    "Next_button = driver.find_element_by_xpath('/html/body/div[1]/div/div[3]/div/div/div[2]/div[13]/div/div/nav/a[12]/span')\n",
    "Next_button.click() "
   ]
  },
  {
   "cell_type": "code",
   "execution_count": 457,
   "id": "064ca3dd",
   "metadata": {},
   "outputs": [],
   "source": [
    "ratings_tag = driver.find_elements_by_xpath('//div[@class=\"_3LWZlK _1BLPMq\"]')\n",
    "for i in ratings_tag:\n",
    "    ratings.append(i.text)\n",
    "\n",
    "review_summay_tag = driver.find_elements_by_xpath('//p[@class=\"_2-N8zT\"]')\n",
    "for i in review_summay_tag:\n",
    "    review.append(i.text)\n",
    "\n",
    "full_review_tag = driver.find_elements_by_xpath('//div[@class=\"t-ZTKy\"]')\n",
    "for i in full_review_tag:\n",
    "    full_review.append(i.text)"
   ]
  },
  {
   "cell_type": "code",
   "execution_count": 458,
   "id": "1ebd4d7a",
   "metadata": {},
   "outputs": [],
   "source": [
    "Next_button = driver.find_element_by_xpath('/html/body/div[1]/div/div[3]/div/div/div[2]/div[13]/div/div/nav/a[12]/span')\n",
    "Next_button.click() "
   ]
  },
  {
   "cell_type": "code",
   "execution_count": 459,
   "id": "fde6f19c",
   "metadata": {},
   "outputs": [],
   "source": [
    "ratings_tag = driver.find_elements_by_xpath('//div[@class=\"_3LWZlK _1BLPMq\"]')\n",
    "for i in ratings_tag:\n",
    "    ratings.append(i.text)\n",
    "\n",
    "review_summay_tag = driver.find_elements_by_xpath('//p[@class=\"_2-N8zT\"]')\n",
    "for i in review_summay_tag:\n",
    "    review.append(i.text)\n",
    "\n",
    "full_review_tag = driver.find_elements_by_xpath('//div[@class=\"t-ZTKy\"]')\n",
    "for i in full_review_tag:\n",
    "    full_review.append(i.text)"
   ]
  },
  {
   "cell_type": "code",
   "execution_count": 460,
   "id": "7ddb6a1f",
   "metadata": {},
   "outputs": [],
   "source": [
    "Next_button = driver.find_element_by_xpath('/html/body/div[1]/div/div[3]/div/div/div[2]/div[13]/div/div/nav/a[12]/span')\n",
    "Next_button.click() "
   ]
  },
  {
   "cell_type": "code",
   "execution_count": 461,
   "id": "187f6ac6",
   "metadata": {},
   "outputs": [],
   "source": [
    "ratings_tag = driver.find_elements_by_xpath('//div[@class=\"_3LWZlK _1BLPMq\"]')\n",
    "for i in ratings_tag:\n",
    "    ratings.append(i.text)\n",
    "\n",
    "review_summay_tag = driver.find_elements_by_xpath('//p[@class=\"_2-N8zT\"]')\n",
    "for i in review_summay_tag:\n",
    "    review.append(i.text)\n",
    "\n",
    "full_review_tag = driver.find_elements_by_xpath('//div[@class=\"t-ZTKy\"]')\n",
    "for i in full_review_tag:\n",
    "    full_review.append(i.text)"
   ]
  },
  {
   "cell_type": "code",
   "execution_count": 462,
   "id": "ef01df5a",
   "metadata": {},
   "outputs": [],
   "source": [
    "Next_button = driver.find_element_by_xpath('/html/body/div[1]/div/div[3]/div/div/div[2]/div[13]/div/div/nav/a[12]/span')\n",
    "Next_button.click() "
   ]
  },
  {
   "cell_type": "code",
   "execution_count": 463,
   "id": "8cd576ec",
   "metadata": {},
   "outputs": [],
   "source": [
    "ratings_tag = driver.find_elements_by_xpath('//div[@class=\"_3LWZlK _1BLPMq\"]')\n",
    "for i in ratings_tag:\n",
    "    ratings.append(i.text)\n",
    "\n",
    "review_summay_tag = driver.find_elements_by_xpath('//p[@class=\"_2-N8zT\"]')\n",
    "for i in review_summay_tag:\n",
    "    review.append(i.text)\n",
    "\n",
    "full_review_tag = driver.find_elements_by_xpath('//div[@class=\"t-ZTKy\"]')\n",
    "for i in full_review_tag:\n",
    "    full_review.append(i.text)"
   ]
  },
  {
   "cell_type": "code",
   "execution_count": 464,
   "id": "62ba2d93",
   "metadata": {},
   "outputs": [
    {
     "data": {
      "text/html": [
       "<div>\n",
       "<style scoped>\n",
       "    .dataframe tbody tr th:only-of-type {\n",
       "        vertical-align: middle;\n",
       "    }\n",
       "\n",
       "    .dataframe tbody tr th {\n",
       "        vertical-align: top;\n",
       "    }\n",
       "\n",
       "    .dataframe thead th {\n",
       "        text-align: right;\n",
       "    }\n",
       "</style>\n",
       "<table border=\"1\" class=\"dataframe\">\n",
       "  <thead>\n",
       "    <tr style=\"text-align: right;\">\n",
       "      <th></th>\n",
       "      <th>Ratings</th>\n",
       "      <th>Reviews</th>\n",
       "      <th>Full Reviews</th>\n",
       "    </tr>\n",
       "  </thead>\n",
       "  <tbody>\n",
       "    <tr>\n",
       "      <th>0</th>\n",
       "      <td>5</td>\n",
       "      <td>Brilliant</td>\n",
       "      <td>The Best Phone for the Money\\n\\nThe iPhone 11 ...</td>\n",
       "    </tr>\n",
       "    <tr>\n",
       "      <th>1</th>\n",
       "      <td>5</td>\n",
       "      <td>Simply awesome</td>\n",
       "      <td>Really satisfied with the Product I received.....</td>\n",
       "    </tr>\n",
       "    <tr>\n",
       "      <th>2</th>\n",
       "      <td>5</td>\n",
       "      <td>Perfect product!</td>\n",
       "      <td>Amazing phone with great cameras and better ba...</td>\n",
       "    </tr>\n",
       "    <tr>\n",
       "      <th>3</th>\n",
       "      <td>5</td>\n",
       "      <td>Best in the market!</td>\n",
       "      <td>Great iPhone very snappy experience as apple k...</td>\n",
       "    </tr>\n",
       "    <tr>\n",
       "      <th>4</th>\n",
       "      <td>5</td>\n",
       "      <td>Worth every penny</td>\n",
       "      <td>Previously I was using one plus 3t it was a gr...</td>\n",
       "    </tr>\n",
       "    <tr>\n",
       "      <th>...</th>\n",
       "      <td>...</td>\n",
       "      <td>...</td>\n",
       "      <td>...</td>\n",
       "    </tr>\n",
       "    <tr>\n",
       "      <th>95</th>\n",
       "      <td>3</td>\n",
       "      <td>Must buy!</td>\n",
       "      <td>Camera is excellent just lack of telephoto mod...</td>\n",
       "    </tr>\n",
       "    <tr>\n",
       "      <th>96</th>\n",
       "      <td>5</td>\n",
       "      <td>Terrific purchase</td>\n",
       "      <td>I use a Note10+ and have been using both iOS a...</td>\n",
       "    </tr>\n",
       "    <tr>\n",
       "      <th>97</th>\n",
       "      <td>5</td>\n",
       "      <td>Awesome</td>\n",
       "      <td>The phone is completely good\\nAs far as camera...</td>\n",
       "    </tr>\n",
       "    <tr>\n",
       "      <th>98</th>\n",
       "      <td>5</td>\n",
       "      <td>Decent product</td>\n",
       "      <td>Everything u ll like it when u use this iPhone...</td>\n",
       "    </tr>\n",
       "    <tr>\n",
       "      <th>99</th>\n",
       "      <td>5</td>\n",
       "      <td>Mind-blowing purchase</td>\n",
       "      <td>Excellent camera 📸 And Display touching very N...</td>\n",
       "    </tr>\n",
       "  </tbody>\n",
       "</table>\n",
       "<p>100 rows × 3 columns</p>\n",
       "</div>"
      ],
      "text/plain": [
       "   Ratings                Reviews  \\\n",
       "0        5              Brilliant   \n",
       "1        5         Simply awesome   \n",
       "2        5       Perfect product!   \n",
       "3        5    Best in the market!   \n",
       "4        5      Worth every penny   \n",
       "..     ...                    ...   \n",
       "95       3              Must buy!   \n",
       "96       5      Terrific purchase   \n",
       "97       5                Awesome   \n",
       "98       5         Decent product   \n",
       "99       5  Mind-blowing purchase   \n",
       "\n",
       "                                         Full Reviews  \n",
       "0   The Best Phone for the Money\\n\\nThe iPhone 11 ...  \n",
       "1   Really satisfied with the Product I received.....  \n",
       "2   Amazing phone with great cameras and better ba...  \n",
       "3   Great iPhone very snappy experience as apple k...  \n",
       "4   Previously I was using one plus 3t it was a gr...  \n",
       "..                                                ...  \n",
       "95  Camera is excellent just lack of telephoto mod...  \n",
       "96  I use a Note10+ and have been using both iOS a...  \n",
       "97  The phone is completely good\\nAs far as camera...  \n",
       "98  Everything u ll like it when u use this iPhone...  \n",
       "99  Excellent camera 📸 And Display touching very N...  \n",
       "\n",
       "[100 rows x 3 columns]"
      ]
     },
     "execution_count": 464,
     "metadata": {},
     "output_type": "execute_result"
    }
   ],
   "source": [
    "reviews = pd.DataFrame()\n",
    "reviews['Ratings']= ratings[0:100]\n",
    "reviews['Reviews']= review[0:100]\n",
    "reviews['Full Reviews']= full_review[0:100]\n",
    "reviews"
   ]
  },
  {
   "cell_type": "markdown",
   "id": "a611aded",
   "metadata": {},
   "source": [
    "# Solution 6"
   ]
  },
  {
   "cell_type": "code",
   "execution_count": 468,
   "id": "a0d35fca",
   "metadata": {},
   "outputs": [],
   "source": [
    "url='https://www.flipkart.com/'\n",
    "driver.get(url)"
   ]
  },
  {
   "cell_type": "code",
   "execution_count": 470,
   "id": "6cf54896",
   "metadata": {},
   "outputs": [],
   "source": [
    "# Element to search given data on page\n",
    "search_product = driver.find_element_by_class_name('_3704LK')\n",
    "search_product.send_keys(\"sneakers\")"
   ]
  },
  {
   "cell_type": "code",
   "execution_count": 471,
   "id": "d84e4849",
   "metadata": {},
   "outputs": [],
   "source": [
    "Search_button = driver.find_element_by_xpath('/html/body/div[1]/div/div[1]/div[1]/div[2]/div[2]/form/div/button')\n",
    "Search_button.click()"
   ]
  },
  {
   "cell_type": "code",
   "execution_count": 472,
   "id": "46104e94",
   "metadata": {},
   "outputs": [
    {
     "data": {
      "text/plain": [
       "40"
      ]
     },
     "execution_count": 472,
     "metadata": {},
     "output_type": "execute_result"
    }
   ],
   "source": [
    "#Data From First Page\n",
    "brand_tag = driver.find_elements_by_xpath('//div[@class=\"_2WkVRV\"]')\n",
    "brand =[]\n",
    "\n",
    "for i in brand_tag:\n",
    "    brand.append(i.text)\n",
    "len(brand)"
   ]
  },
  {
   "cell_type": "code",
   "execution_count": 474,
   "id": "aad96086",
   "metadata": {},
   "outputs": [
    {
     "data": {
      "text/plain": [
       "40"
      ]
     },
     "execution_count": 474,
     "metadata": {},
     "output_type": "execute_result"
    }
   ],
   "source": [
    "des_tag = driver.find_elements_by_xpath('//div[@class=\"_3eWWd-\"]')\n",
    "product_des =[]\n",
    "\n",
    "for i in des_tag:\n",
    "    product_des.append(i.text)\n",
    "len(product_des)"
   ]
  },
  {
   "cell_type": "code",
   "execution_count": 476,
   "id": "889ac959",
   "metadata": {},
   "outputs": [
    {
     "data": {
      "text/plain": [
       "40"
      ]
     },
     "execution_count": 476,
     "metadata": {},
     "output_type": "execute_result"
    }
   ],
   "source": [
    "price_tag = driver.find_elements_by_xpath('//div[@class=\"_30jeq3\"]')\n",
    "product_price=[]\n",
    "for i in price_tag:\n",
    "    product_price.append(i.text)\n",
    "len(product_price)"
   ]
  },
  {
   "cell_type": "code",
   "execution_count": 478,
   "id": "dbb8b5e3",
   "metadata": {},
   "outputs": [
    {
     "data": {
      "text/plain": [
       "39"
      ]
     },
     "execution_count": 478,
     "metadata": {},
     "output_type": "execute_result"
    }
   ],
   "source": [
    "price_discount = driver.find_elements_by_xpath('//div[@class=\"_3Ay6Sb\"]')\n",
    "product_discount =[]\n",
    "for i in price_discount:\n",
    "    product_discount.append(i.text)\n",
    "len(product_discount)"
   ]
  },
  {
   "cell_type": "code",
   "execution_count": 479,
   "id": "d2483e6b",
   "metadata": {},
   "outputs": [],
   "source": [
    "Next_button = driver.find_element_by_xpath('/html/body/div[1]/div/div[3]/div[1]/div[2]/div[12]/div/div/nav/a[11]/span')\n",
    "Next_button.click()"
   ]
  },
  {
   "cell_type": "code",
   "execution_count": 480,
   "id": "70444692",
   "metadata": {},
   "outputs": [
    {
     "data": {
      "text/plain": [
       "80"
      ]
     },
     "execution_count": 480,
     "metadata": {},
     "output_type": "execute_result"
    }
   ],
   "source": [
    "brand_tag = driver.find_elements_by_xpath('//div[@class=\"_2WkVRV\"]')\n",
    "for i in brand_tag:\n",
    "    brand.append(i.text)\n",
    "len(brand)"
   ]
  },
  {
   "cell_type": "code",
   "execution_count": 481,
   "id": "a670d3e0",
   "metadata": {},
   "outputs": [
    {
     "data": {
      "text/plain": [
       "80"
      ]
     },
     "execution_count": 481,
     "metadata": {},
     "output_type": "execute_result"
    }
   ],
   "source": [
    "des_tag = driver.find_elements_by_xpath('//div[@class=\"_3eWWd-\"]')\n",
    "for i in des_tag:\n",
    "    product_des.append(i.text)\n",
    "len(product_des)"
   ]
  },
  {
   "cell_type": "code",
   "execution_count": 482,
   "id": "daed866c",
   "metadata": {},
   "outputs": [
    {
     "data": {
      "text/plain": [
       "80"
      ]
     },
     "execution_count": 482,
     "metadata": {},
     "output_type": "execute_result"
    }
   ],
   "source": [
    "price_tag = driver.find_elements_by_xpath('//div[@class=\"_30jeq3\"]')\n",
    "for i in price_tag:\n",
    "    product_price.append(i.text)\n",
    "len(product_price)"
   ]
  },
  {
   "cell_type": "code",
   "execution_count": 483,
   "id": "9880a2eb",
   "metadata": {},
   "outputs": [
    {
     "data": {
      "text/plain": [
       "79"
      ]
     },
     "execution_count": 483,
     "metadata": {},
     "output_type": "execute_result"
    }
   ],
   "source": [
    "price_discount = driver.find_elements_by_xpath('//div[@class=\"_3Ay6Sb\"]')\n",
    "for i in price_discount:\n",
    "    product_discount.append(i.text)\n",
    "len(product_discount)"
   ]
  },
  {
   "cell_type": "code",
   "execution_count": 485,
   "id": "ed0c2629",
   "metadata": {},
   "outputs": [],
   "source": [
    "Next_button = driver.find_element_by_xpath('/html/body/div[1]/div/div[3]/div[1]/div[2]/div[12]/div/div/nav/a[12]/span')\n",
    "Next_button.click()"
   ]
  },
  {
   "cell_type": "code",
   "execution_count": 486,
   "id": "4d2e7627",
   "metadata": {},
   "outputs": [],
   "source": [
    "brand_tag = driver.find_elements_by_xpath('//div[@class=\"_2WkVRV\"]')\n",
    "for i in brand_tag:\n",
    "    brand.append(i.text)"
   ]
  },
  {
   "cell_type": "code",
   "execution_count": 487,
   "id": "1a7aaa00",
   "metadata": {},
   "outputs": [],
   "source": [
    "des_tag = driver.find_elements_by_xpath('//div[@class=\"_3eWWd-\"]')\n",
    "for i in des_tag:\n",
    "    product_des.append(i.text)"
   ]
  },
  {
   "cell_type": "code",
   "execution_count": 488,
   "id": "dd5a761c",
   "metadata": {},
   "outputs": [],
   "source": [
    "price_tag = driver.find_elements_by_xpath('//div[@class=\"_30jeq3\"]')\n",
    "for i in price_tag:\n",
    "    product_price.append(i.text)"
   ]
  },
  {
   "cell_type": "code",
   "execution_count": 489,
   "id": "52fb3381",
   "metadata": {},
   "outputs": [],
   "source": [
    "price_discount = driver.find_elements_by_xpath('//div[@class=\"_3Ay6Sb\"]')\n",
    "for i in price_discount:\n",
    "    product_discount.append(i.text)"
   ]
  },
  {
   "cell_type": "code",
   "execution_count": 490,
   "id": "39898dd9",
   "metadata": {},
   "outputs": [
    {
     "data": {
      "text/html": [
       "<div>\n",
       "<style scoped>\n",
       "    .dataframe tbody tr th:only-of-type {\n",
       "        vertical-align: middle;\n",
       "    }\n",
       "\n",
       "    .dataframe tbody tr th {\n",
       "        vertical-align: top;\n",
       "    }\n",
       "\n",
       "    .dataframe thead th {\n",
       "        text-align: right;\n",
       "    }\n",
       "</style>\n",
       "<table border=\"1\" class=\"dataframe\">\n",
       "  <thead>\n",
       "    <tr style=\"text-align: right;\">\n",
       "      <th></th>\n",
       "      <th>Brand</th>\n",
       "      <th>Product Description</th>\n",
       "      <th>Price</th>\n",
       "      <th>Discount</th>\n",
       "    </tr>\n",
       "  </thead>\n",
       "  <tbody>\n",
       "    <tr>\n",
       "      <th>0</th>\n",
       "      <td>FRONTASTIC</td>\n",
       "      <td>Black, Red</td>\n",
       "      <td>₹549</td>\n",
       "      <td>45% off</td>\n",
       "    </tr>\n",
       "    <tr>\n",
       "      <th>1</th>\n",
       "      <td>Echor</td>\n",
       "      <td>Black</td>\n",
       "      <td>₹386</td>\n",
       "      <td>74% off</td>\n",
       "    </tr>\n",
       "    <tr>\n",
       "      <th>2</th>\n",
       "      <td>Magnolia</td>\n",
       "      <td>White</td>\n",
       "      <td>₹398</td>\n",
       "      <td>60% off</td>\n",
       "    </tr>\n",
       "    <tr>\n",
       "      <th>3</th>\n",
       "      <td>luxury fashion</td>\n",
       "      <td>White</td>\n",
       "      <td>₹449</td>\n",
       "      <td>65% off</td>\n",
       "    </tr>\n",
       "    <tr>\n",
       "      <th>4</th>\n",
       "      <td>URBANBOX</td>\n",
       "      <td>Black, White</td>\n",
       "      <td>₹220</td>\n",
       "      <td>77% off</td>\n",
       "    </tr>\n",
       "    <tr>\n",
       "      <th>...</th>\n",
       "      <td>...</td>\n",
       "      <td>...</td>\n",
       "      <td>...</td>\n",
       "      <td>...</td>\n",
       "    </tr>\n",
       "    <tr>\n",
       "      <th>95</th>\n",
       "      <td>PUMA</td>\n",
       "      <td>White</td>\n",
       "      <td>₹3,999</td>\n",
       "      <td>53% off</td>\n",
       "    </tr>\n",
       "    <tr>\n",
       "      <th>96</th>\n",
       "      <td>HOC</td>\n",
       "      <td>White</td>\n",
       "      <td>₹378</td>\n",
       "      <td>56% off</td>\n",
       "    </tr>\n",
       "    <tr>\n",
       "      <th>97</th>\n",
       "      <td>CLYMB</td>\n",
       "      <td>Grey</td>\n",
       "      <td>₹699</td>\n",
       "      <td>50% off</td>\n",
       "    </tr>\n",
       "    <tr>\n",
       "      <th>98</th>\n",
       "      <td>KNIGHT WALKERS</td>\n",
       "      <td>White</td>\n",
       "      <td>₹649</td>\n",
       "      <td>57% off</td>\n",
       "    </tr>\n",
       "    <tr>\n",
       "      <th>99</th>\n",
       "      <td>Longwalk</td>\n",
       "      <td>Blue</td>\n",
       "      <td>₹248</td>\n",
       "      <td>59% off</td>\n",
       "    </tr>\n",
       "  </tbody>\n",
       "</table>\n",
       "<p>100 rows × 4 columns</p>\n",
       "</div>"
      ],
      "text/plain": [
       "             Brand Product Description   Price Discount\n",
       "0       FRONTASTIC          Black, Red    ₹549  45% off\n",
       "1            Echor               Black    ₹386  74% off\n",
       "2         Magnolia               White    ₹398  60% off\n",
       "3   luxury fashion               White    ₹449  65% off\n",
       "4         URBANBOX        Black, White    ₹220  77% off\n",
       "..             ...                 ...     ...      ...\n",
       "95            PUMA               White  ₹3,999  53% off\n",
       "96             HOC               White    ₹378  56% off\n",
       "97           CLYMB                Grey    ₹699  50% off\n",
       "98  KNIGHT WALKERS               White    ₹649  57% off\n",
       "99        Longwalk                Blue    ₹248  59% off\n",
       "\n",
       "[100 rows x 4 columns]"
      ]
     },
     "execution_count": 490,
     "metadata": {},
     "output_type": "execute_result"
    }
   ],
   "source": [
    "products = pd.DataFrame()\n",
    "products['Brand']= brand[0:100]\n",
    "products['Product Description']= product_des[0:100]\n",
    "products['Price']= product_price[0:100]\n",
    "products['Discount']= product_discount[0:100]\n",
    "products"
   ]
  },
  {
   "cell_type": "markdown",
   "id": "60b7fefa",
   "metadata": {},
   "source": [
    "# Solution 7"
   ]
  },
  {
   "cell_type": "code",
   "execution_count": 495,
   "id": "0873be14",
   "metadata": {},
   "outputs": [],
   "source": [
    "url='https://www.myntra.com/shoes/'\n",
    "driver.get(url)"
   ]
  },
  {
   "cell_type": "code",
   "execution_count": 496,
   "id": "d602205b",
   "metadata": {},
   "outputs": [],
   "source": [
    "price_check = driver.find_element_by_xpath('/html/body/div[2]/div/div[1]/main/div[3]/div[1]/section/div/div[5]/ul/li[2]/label/div')\n",
    "price_check.click()"
   ]
  },
  {
   "cell_type": "code",
   "execution_count": 497,
   "id": "b1ef72f7",
   "metadata": {},
   "outputs": [],
   "source": [
    "color_check = driver.find_element_by_xpath('/html/body/div[2]/div/div[1]/main/div[3]/div[1]/section/div/div[6]/ul/li[1]/label/div')\n",
    "color_check.click()"
   ]
  },
  {
   "cell_type": "code",
   "execution_count": 499,
   "id": "2f3e7459",
   "metadata": {},
   "outputs": [
    {
     "data": {
      "text/plain": [
       "50"
      ]
     },
     "execution_count": 499,
     "metadata": {},
     "output_type": "execute_result"
    }
   ],
   "source": [
    "#Data From First Page\n",
    "brand_tag = driver.find_elements_by_xpath('//h3[@class=\"product-brand\"]')\n",
    "brand =[]\n",
    "\n",
    "for i in brand_tag:\n",
    "    brand.append(i.text)\n",
    "len(brand)"
   ]
  },
  {
   "cell_type": "code",
   "execution_count": 500,
   "id": "8e98e27e",
   "metadata": {},
   "outputs": [
    {
     "data": {
      "text/plain": [
       "50"
      ]
     },
     "execution_count": 500,
     "metadata": {},
     "output_type": "execute_result"
    }
   ],
   "source": [
    "des_tag = driver.find_elements_by_xpath('//h4[@class=\"product-product\"]')\n",
    "product_des =[]\n",
    "\n",
    "for i in des_tag:\n",
    "    product_des.append(i.text)\n",
    "len(product_des)"
   ]
  },
  {
   "cell_type": "code",
   "execution_count": 502,
   "id": "0c336418",
   "metadata": {},
   "outputs": [
    {
     "data": {
      "text/plain": [
       "50"
      ]
     },
     "execution_count": 502,
     "metadata": {},
     "output_type": "execute_result"
    }
   ],
   "source": [
    "price_tag = driver.find_elements_by_xpath('//div[@class=\"product-price\"]')\n",
    "product_price=[]\n",
    "for i in price_tag:\n",
    "    product_price.append(i.text)\n",
    "len(product_price)"
   ]
  },
  {
   "cell_type": "code",
   "execution_count": 503,
   "id": "990b5b1a",
   "metadata": {},
   "outputs": [],
   "source": [
    "Next_button = driver.find_element_by_xpath('/html/body/div[2]/div/div[1]/main/div[3]/div[2]/div/div[2]/section/div[2]/ul/li[12]/a')\n",
    "Next_button.click()"
   ]
  },
  {
   "cell_type": "code",
   "execution_count": 504,
   "id": "578d86ef",
   "metadata": {},
   "outputs": [
    {
     "data": {
      "text/plain": [
       "100"
      ]
     },
     "execution_count": 504,
     "metadata": {},
     "output_type": "execute_result"
    }
   ],
   "source": [
    "brand_tag = driver.find_elements_by_xpath('//h3[@class=\"product-brand\"]')\n",
    "for i in brand_tag:\n",
    "    brand.append(i.text)\n",
    "len(brand)"
   ]
  },
  {
   "cell_type": "code",
   "execution_count": 505,
   "id": "ffdd70a8",
   "metadata": {},
   "outputs": [
    {
     "data": {
      "text/plain": [
       "100"
      ]
     },
     "execution_count": 505,
     "metadata": {},
     "output_type": "execute_result"
    }
   ],
   "source": [
    "des_tag = driver.find_elements_by_xpath('//h4[@class=\"product-product\"]')\n",
    "for i in des_tag:\n",
    "    product_des.append(i.text)\n",
    "len(product_des)"
   ]
  },
  {
   "cell_type": "code",
   "execution_count": 506,
   "id": "9204c0ee",
   "metadata": {},
   "outputs": [
    {
     "data": {
      "text/plain": [
       "100"
      ]
     },
     "execution_count": 506,
     "metadata": {},
     "output_type": "execute_result"
    }
   ],
   "source": [
    "price_tag = driver.find_elements_by_xpath('//div[@class=\"product-price\"]')\n",
    "for i in price_tag:\n",
    "    product_price.append(i.text)\n",
    "len(product_price)"
   ]
  },
  {
   "cell_type": "code",
   "execution_count": 507,
   "id": "bd7e60b1",
   "metadata": {},
   "outputs": [
    {
     "data": {
      "text/html": [
       "<div>\n",
       "<style scoped>\n",
       "    .dataframe tbody tr th:only-of-type {\n",
       "        vertical-align: middle;\n",
       "    }\n",
       "\n",
       "    .dataframe tbody tr th {\n",
       "        vertical-align: top;\n",
       "    }\n",
       "\n",
       "    .dataframe thead th {\n",
       "        text-align: right;\n",
       "    }\n",
       "</style>\n",
       "<table border=\"1\" class=\"dataframe\">\n",
       "  <thead>\n",
       "    <tr style=\"text-align: right;\">\n",
       "      <th></th>\n",
       "      <th>Brand</th>\n",
       "      <th>Product Description</th>\n",
       "      <th>Price</th>\n",
       "    </tr>\n",
       "  </thead>\n",
       "  <tbody>\n",
       "    <tr>\n",
       "      <th>0</th>\n",
       "      <td>Puma</td>\n",
       "      <td>Men Running Shoes</td>\n",
       "      <td>Rs. 7149Rs. 12999(45% OFF)</td>\n",
       "    </tr>\n",
       "    <tr>\n",
       "      <th>1</th>\n",
       "      <td>Puma</td>\n",
       "      <td>Men Magnify Nitro Running</td>\n",
       "      <td>Rs. 8449Rs. 12999(35% OFF)</td>\n",
       "    </tr>\n",
       "    <tr>\n",
       "      <th>2</th>\n",
       "      <td>Puma</td>\n",
       "      <td>Men Electrify Nitro Running</td>\n",
       "      <td>Rs. 7499Rs. 9999(25% OFF)</td>\n",
       "    </tr>\n",
       "    <tr>\n",
       "      <th>3</th>\n",
       "      <td>Saint G</td>\n",
       "      <td>Men Mid-Top Chelsea Boots</td>\n",
       "      <td>Rs. 9810Rs. 10900(10% OFF)</td>\n",
       "    </tr>\n",
       "    <tr>\n",
       "      <th>4</th>\n",
       "      <td>Puma</td>\n",
       "      <td>Women Magnify Nitro Shoes</td>\n",
       "      <td>Rs. 7799Rs. 12999(40% OFF)</td>\n",
       "    </tr>\n",
       "    <tr>\n",
       "      <th>...</th>\n",
       "      <td>...</td>\n",
       "      <td>...</td>\n",
       "      <td>...</td>\n",
       "    </tr>\n",
       "    <tr>\n",
       "      <th>95</th>\n",
       "      <td>Saint G</td>\n",
       "      <td>Suede Block Heeled Boots</td>\n",
       "      <td>Rs. 10350Rs. 11500(10% OFF)</td>\n",
       "    </tr>\n",
       "    <tr>\n",
       "      <th>96</th>\n",
       "      <td>Calvin Klein</td>\n",
       "      <td>Men Solid Leather Sneakers</td>\n",
       "      <td>Rs. 9999</td>\n",
       "    </tr>\n",
       "    <tr>\n",
       "      <th>97</th>\n",
       "      <td>Geox</td>\n",
       "      <td>Men Leather Formal Derbys</td>\n",
       "      <td>Rs. 8399Rs. 11999(30% OFF)</td>\n",
       "    </tr>\n",
       "    <tr>\n",
       "      <th>98</th>\n",
       "      <td>Geox</td>\n",
       "      <td>Women Leather High-Top Flat Boots</td>\n",
       "      <td>Rs. 12599Rs. 17999(30% OFF)</td>\n",
       "    </tr>\n",
       "    <tr>\n",
       "      <th>99</th>\n",
       "      <td>Saint G</td>\n",
       "      <td>Striped Suede Flatform Heeled Boots</td>\n",
       "      <td>Rs. 8910Rs. 9900(Rs. 990 OFF)</td>\n",
       "    </tr>\n",
       "  </tbody>\n",
       "</table>\n",
       "<p>100 rows × 3 columns</p>\n",
       "</div>"
      ],
      "text/plain": [
       "           Brand                  Product Description  \\\n",
       "0           Puma                    Men Running Shoes   \n",
       "1           Puma            Men Magnify Nitro Running   \n",
       "2           Puma          Men Electrify Nitro Running   \n",
       "3        Saint G            Men Mid-Top Chelsea Boots   \n",
       "4           Puma            Women Magnify Nitro Shoes   \n",
       "..           ...                                  ...   \n",
       "95       Saint G             Suede Block Heeled Boots   \n",
       "96  Calvin Klein           Men Solid Leather Sneakers   \n",
       "97          Geox            Men Leather Formal Derbys   \n",
       "98          Geox    Women Leather High-Top Flat Boots   \n",
       "99       Saint G  Striped Suede Flatform Heeled Boots   \n",
       "\n",
       "                            Price  \n",
       "0      Rs. 7149Rs. 12999(45% OFF)  \n",
       "1      Rs. 8449Rs. 12999(35% OFF)  \n",
       "2       Rs. 7499Rs. 9999(25% OFF)  \n",
       "3      Rs. 9810Rs. 10900(10% OFF)  \n",
       "4      Rs. 7799Rs. 12999(40% OFF)  \n",
       "..                            ...  \n",
       "95    Rs. 10350Rs. 11500(10% OFF)  \n",
       "96                       Rs. 9999  \n",
       "97     Rs. 8399Rs. 11999(30% OFF)  \n",
       "98    Rs. 12599Rs. 17999(30% OFF)  \n",
       "99  Rs. 8910Rs. 9900(Rs. 990 OFF)  \n",
       "\n",
       "[100 rows x 3 columns]"
      ]
     },
     "execution_count": 507,
     "metadata": {},
     "output_type": "execute_result"
    }
   ],
   "source": [
    "products = pd.DataFrame()\n",
    "products['Brand']= brand\n",
    "products['Product Description']= product_des\n",
    "products['Price']= product_price\n",
    "products"
   ]
  },
  {
   "cell_type": "markdown",
   "id": "704af97d",
   "metadata": {},
   "source": [
    "# Solution 8"
   ]
  },
  {
   "cell_type": "code",
   "execution_count": 80,
   "id": "2dd3acf0",
   "metadata": {},
   "outputs": [],
   "source": [
    "url='https://www.amazon.in/'\n",
    "driver.get(url)"
   ]
  },
  {
   "cell_type": "code",
   "execution_count": 81,
   "id": "5b83b5b6",
   "metadata": {},
   "outputs": [],
   "source": [
    "# Element to search given data on page\n",
    "search_product = driver.find_element_by_class_name('nav-input')\n",
    "search_product.send_keys(\"Laptop\")"
   ]
  },
  {
   "cell_type": "code",
   "execution_count": 82,
   "id": "154c474e",
   "metadata": {},
   "outputs": [],
   "source": [
    "Search_button = driver.find_element_by_xpath('/html/body/div[1]/header/div/div[1]/div[2]/div/form/div[3]/div')\n",
    "Search_button.click()"
   ]
  },
  {
   "cell_type": "code",
   "execution_count": 83,
   "id": "60e62bb0",
   "metadata": {},
   "outputs": [],
   "source": [
    "seemore_check = driver.find_element_by_xpath('/html/body/div[1]/div[2]/div[1]/div[2]/div/div[3]/span/div[1]/span/div/div/div[6]/div/div/div[1]/div/span[2]/a/span')\n",
    "seemore_check.click()"
   ]
  },
  {
   "cell_type": "code",
   "execution_count": 84,
   "id": "7dec17bf",
   "metadata": {},
   "outputs": [],
   "source": [
    "CPU_check = driver.find_element_by_xpath('/html/body/div[1]/div[2]/div[1]/div[2]/div/div[3]/span/div[1]/span/div/div/div[6]/div/div/div[1]/div/span[1]/a[12]/div/span')\n",
    "CPU_check.click()"
   ]
  },
  {
   "cell_type": "code",
   "execution_count": 137,
   "id": "5c98dbbc",
   "metadata": {},
   "outputs": [
    {
     "data": {
      "text/plain": [
       "30"
      ]
     },
     "execution_count": 137,
     "metadata": {},
     "output_type": "execute_result"
    }
   ],
   "source": [
    "title_tag = driver.find_elements_by_xpath('//a[@class=\"a-link-normal s-link-style a-text-normal\"]')\n",
    "product_title=[]\n",
    "for i in title_tag:\n",
    "    product_title.append(i.text)\n",
    "len(product_title)"
   ]
  },
  {
   "cell_type": "code",
   "execution_count": 158,
   "id": "cde64aa5",
   "metadata": {},
   "outputs": [
    {
     "data": {
      "text/plain": [
       "30"
      ]
     },
     "execution_count": 158,
     "metadata": {},
     "output_type": "execute_result"
    }
   ],
   "source": [
    "rating_tag = driver.find_elements_by_xpath('//div[@class=\"a-row a-size-small\"]/span/span/a/i/span')\n",
    "product_ratings=[]\n",
    "for i in rating_tag:\n",
    "    product_ratings.append(i.text)\n",
    "len(product_ratings)"
   ]
  },
  {
   "cell_type": "code",
   "execution_count": 152,
   "id": "38961ed8",
   "metadata": {},
   "outputs": [
    {
     "data": {
      "text/plain": [
       "29"
      ]
     },
     "execution_count": 152,
     "metadata": {},
     "output_type": "execute_result"
    }
   ],
   "source": [
    "price_tag = driver.find_elements_by_xpath('//span[@class=\"a-price-whole\"]')\n",
    "product_price=[]\n",
    "for i in price_tag:\n",
    "    product_price.append(i.text)\n",
    "len(product_price)"
   ]
  },
  {
   "cell_type": "code",
   "execution_count": 159,
   "id": "41d0c6fb",
   "metadata": {},
   "outputs": [
    {
     "data": {
      "text/html": [
       "<div>\n",
       "<style scoped>\n",
       "    .dataframe tbody tr th:only-of-type {\n",
       "        vertical-align: middle;\n",
       "    }\n",
       "\n",
       "    .dataframe tbody tr th {\n",
       "        vertical-align: top;\n",
       "    }\n",
       "\n",
       "    .dataframe thead th {\n",
       "        text-align: right;\n",
       "    }\n",
       "</style>\n",
       "<table border=\"1\" class=\"dataframe\">\n",
       "  <thead>\n",
       "    <tr style=\"text-align: right;\">\n",
       "      <th></th>\n",
       "      <th>Product Title</th>\n",
       "      <th>Ratings</th>\n",
       "      <th>Price</th>\n",
       "    </tr>\n",
       "  </thead>\n",
       "  <tbody>\n",
       "    <tr>\n",
       "      <th>0</th>\n",
       "      <td>LG Gram 17-inches Ultra-Light Intel Evo 11th G...</td>\n",
       "      <td></td>\n",
       "      <td>99,990</td>\n",
       "    </tr>\n",
       "    <tr>\n",
       "      <th>1</th>\n",
       "      <td>LG Gram 16-inches Ultra-Light Intel Evo 11th G...</td>\n",
       "      <td></td>\n",
       "      <td>95,990</td>\n",
       "    </tr>\n",
       "    <tr>\n",
       "      <th>2</th>\n",
       "      <td>Mi Notebook - XMA1904-AF</td>\n",
       "      <td></td>\n",
       "      <td>57,990</td>\n",
       "    </tr>\n",
       "    <tr>\n",
       "      <th>3</th>\n",
       "      <td>ASUS VivoBook 14 (2021), 14-inch (35.56 cms) F...</td>\n",
       "      <td></td>\n",
       "      <td>59,990</td>\n",
       "    </tr>\n",
       "    <tr>\n",
       "      <th>4</th>\n",
       "      <td>Acer Nitro 5 AN515-57 Gaming Laptop | Intel Co...</td>\n",
       "      <td></td>\n",
       "      <td>89,990</td>\n",
       "    </tr>\n",
       "    <tr>\n",
       "      <th>5</th>\n",
       "      <td>ASUS ZenBook 14 (2020) Intel Core i7-1165G7 11...</td>\n",
       "      <td></td>\n",
       "      <td>89,745</td>\n",
       "    </tr>\n",
       "    <tr>\n",
       "      <th>6</th>\n",
       "      <td>HP Pavilion 13, 11th Gen Intel Core i7, 13.3-i...</td>\n",
       "      <td></td>\n",
       "      <td>87,990</td>\n",
       "    </tr>\n",
       "    <tr>\n",
       "      <th>7</th>\n",
       "      <td>Lenovo ThinkBook 13s Intel 11th Gen Core i7 13...</td>\n",
       "      <td></td>\n",
       "      <td>79,990</td>\n",
       "    </tr>\n",
       "    <tr>\n",
       "      <th>8</th>\n",
       "      <td>ASUS TUF Gaming F15 (2021) 15.6-inch (39.62 cm...</td>\n",
       "      <td></td>\n",
       "      <td>1,14,990</td>\n",
       "    </tr>\n",
       "    <tr>\n",
       "      <th>9</th>\n",
       "      <td>Lenovo Yoga 7i 11th Gen Intel Core i7-1165G7 1...</td>\n",
       "      <td></td>\n",
       "      <td>1,03,990</td>\n",
       "    </tr>\n",
       "  </tbody>\n",
       "</table>\n",
       "</div>"
      ],
      "text/plain": [
       "                                       Product Title Ratings     Price\n",
       "0  LG Gram 17-inches Ultra-Light Intel Evo 11th G...            99,990\n",
       "1  LG Gram 16-inches Ultra-Light Intel Evo 11th G...            95,990\n",
       "2                           Mi Notebook - XMA1904-AF            57,990\n",
       "3  ASUS VivoBook 14 (2021), 14-inch (35.56 cms) F...            59,990\n",
       "4  Acer Nitro 5 AN515-57 Gaming Laptop | Intel Co...            89,990\n",
       "5  ASUS ZenBook 14 (2020) Intel Core i7-1165G7 11...            89,745\n",
       "6  HP Pavilion 13, 11th Gen Intel Core i7, 13.3-i...            87,990\n",
       "7  Lenovo ThinkBook 13s Intel 11th Gen Core i7 13...            79,990\n",
       "8  ASUS TUF Gaming F15 (2021) 15.6-inch (39.62 cm...          1,14,990\n",
       "9  Lenovo Yoga 7i 11th Gen Intel Core i7-1165G7 1...          1,03,990"
      ]
     },
     "execution_count": 159,
     "metadata": {},
     "output_type": "execute_result"
    }
   ],
   "source": [
    "products = pd.DataFrame()\n",
    "products['Product Title']= product_title[0:10]\n",
    "products['Ratings']= product_ratings[0:10]\n",
    "products['Price']= product_price[0:10]\n",
    "products"
   ]
  },
  {
   "cell_type": "markdown",
   "id": "c3007dfa",
   "metadata": {},
   "source": [
    "# Solution 9"
   ]
  },
  {
   "cell_type": "code",
   "execution_count": 8,
   "id": "e7085581",
   "metadata": {},
   "outputs": [],
   "source": [
    "url='https://www.ambitionbox.com/'\n",
    "driver.get(url)"
   ]
  },
  {
   "cell_type": "code",
   "execution_count": 9,
   "id": "1e506781",
   "metadata": {},
   "outputs": [],
   "source": [
    "job_button = driver.find_element_by_xpath('/html/body/div[1]/nav/nav/a[6]')\n",
    "job_button.click()"
   ]
  },
  {
   "cell_type": "code",
   "execution_count": 10,
   "id": "981cfa32",
   "metadata": {},
   "outputs": [],
   "source": [
    "search_job = driver.find_element_by_class_name('input')\n",
    "search_job.send_keys(\"Data Scientist\")"
   ]
  },
  {
   "cell_type": "code",
   "execution_count": 11,
   "id": "72928f2b",
   "metadata": {},
   "outputs": [],
   "source": [
    "search_button = driver.find_element_by_xpath('/html/body/div/div/div/div[2]/div[1]/div/div/div/button')\n",
    "search_button.click()"
   ]
  },
  {
   "cell_type": "code",
   "execution_count": 12,
   "id": "8865e82a",
   "metadata": {},
   "outputs": [],
   "source": [
    "location_button = driver.find_element_by_xpath('/html/body/div/div/div/div[2]/div[2]/div[1]/div/div/div/div[2]/div[1]/p')\n",
    "location_button.click()"
   ]
  },
  {
   "cell_type": "code",
   "execution_count": 13,
   "id": "0ab41b16",
   "metadata": {},
   "outputs": [],
   "source": [
    "search_location = driver.find_element_by_xpath('/html/body/div/div/div/div[2]/div[2]/div[1]/div/div/div/div[2]/div[2]/div/div[2]/input')\n",
    "search_location.send_keys(\"Noida\")"
   ]
  },
  {
   "cell_type": "code",
   "execution_count": 14,
   "id": "034b25ea",
   "metadata": {},
   "outputs": [],
   "source": [
    "location_select = driver.find_element_by_xpath('/html/body/div/div/div/div[2]/div[2]/div[1]/div/div/div/div[2]/div[2]/div/div[3]/div[1]/div[1]/div/label')\n",
    "location_select.click()"
   ]
  },
  {
   "cell_type": "code",
   "execution_count": 15,
   "id": "47fab1c1",
   "metadata": {},
   "outputs": [
    {
     "data": {
      "text/plain": [
       "10"
      ]
     },
     "execution_count": 15,
     "metadata": {},
     "output_type": "execute_result"
    }
   ],
   "source": [
    "name_tag = driver.find_elements_by_xpath('//a[@class=\"title noclick\"]')\n",
    "company_name=[]\n",
    "for i in name_tag:\n",
    "    company_name.append(i.text)\n",
    "len(company_name)"
   ]
  },
  {
   "cell_type": "code",
   "execution_count": 16,
   "id": "8b2c74b6",
   "metadata": {},
   "outputs": [
    {
     "data": {
      "text/plain": [
       "20"
      ]
     },
     "execution_count": 16,
     "metadata": {},
     "output_type": "execute_result"
    }
   ],
   "source": [
    "jobdate_tag = driver.find_elements_by_xpath('//span[@class=\"body-small-l\"]')\n",
    "company_jobDate=[]\n",
    "for i in jobdate_tag:\n",
    "    company_jobDate.append(i.text)\n",
    "len(company_jobDate)"
   ]
  },
  {
   "cell_type": "code",
   "execution_count": 18,
   "id": "3016e026",
   "metadata": {},
   "outputs": [],
   "source": [
    "jobDates =[]\n",
    "for data in range(0, len(company_jobDate)):\n",
    "    if data % 2 ==0:\n",
    "        jobDates.append(company_jobDate[data])"
   ]
  },
  {
   "cell_type": "code",
   "execution_count": 19,
   "id": "9ef5cee0",
   "metadata": {},
   "outputs": [
    {
     "data": {
      "text/plain": [
       "10"
      ]
     },
     "execution_count": 19,
     "metadata": {},
     "output_type": "execute_result"
    }
   ],
   "source": [
    "rating_tag = driver.find_elements_by_xpath('//span[@class=\"body-small\"]')\n",
    "company_rating=[]\n",
    "for i in rating_tag:\n",
    "    company_rating.append(i.text)\n",
    "len(company_rating)"
   ]
  },
  {
   "cell_type": "code",
   "execution_count": 20,
   "id": "23f8dcc9",
   "metadata": {},
   "outputs": [
    {
     "data": {
      "text/html": [
       "<div>\n",
       "<style scoped>\n",
       "    .dataframe tbody tr th:only-of-type {\n",
       "        vertical-align: middle;\n",
       "    }\n",
       "\n",
       "    .dataframe tbody tr th {\n",
       "        vertical-align: top;\n",
       "    }\n",
       "\n",
       "    .dataframe thead th {\n",
       "        text-align: right;\n",
       "    }\n",
       "</style>\n",
       "<table border=\"1\" class=\"dataframe\">\n",
       "  <thead>\n",
       "    <tr style=\"text-align: right;\">\n",
       "      <th></th>\n",
       "      <th>Company Name Title</th>\n",
       "      <th>Job Date</th>\n",
       "      <th>Ratings</th>\n",
       "    </tr>\n",
       "  </thead>\n",
       "  <tbody>\n",
       "    <tr>\n",
       "      <th>0</th>\n",
       "      <td>Manager Data Scientist</td>\n",
       "      <td>2d ago</td>\n",
       "      <td>4.0</td>\n",
       "    </tr>\n",
       "    <tr>\n",
       "      <th>1</th>\n",
       "      <td>Vice President - Data Science</td>\n",
       "      <td>8d ago</td>\n",
       "      <td>3.7</td>\n",
       "    </tr>\n",
       "    <tr>\n",
       "      <th>2</th>\n",
       "      <td>Data Scientist</td>\n",
       "      <td>25d ago</td>\n",
       "      <td>3.9</td>\n",
       "    </tr>\n",
       "    <tr>\n",
       "      <th>3</th>\n",
       "      <td>CogniTensor - Data Scientist (2-5 yrs)</td>\n",
       "      <td>9d ago</td>\n",
       "      <td>3.7</td>\n",
       "    </tr>\n",
       "    <tr>\n",
       "      <th>4</th>\n",
       "      <td>CogniTensor - Data Scientist (2-5 yrs)</td>\n",
       "      <td>10d ago</td>\n",
       "      <td>3.7</td>\n",
       "    </tr>\n",
       "    <tr>\n",
       "      <th>5</th>\n",
       "      <td>Data Scientist - Data Science/Model Developmen...</td>\n",
       "      <td>21d ago</td>\n",
       "      <td>4.1</td>\n",
       "    </tr>\n",
       "    <tr>\n",
       "      <th>6</th>\n",
       "      <td>Manager - Data Scientist - Retail/BFSI (8-15 yrs)</td>\n",
       "      <td>21d ago</td>\n",
       "      <td>4.1</td>\n",
       "    </tr>\n",
       "    <tr>\n",
       "      <th>7</th>\n",
       "      <td>Data Scientist - Consulting Firm (8-15 yrs)</td>\n",
       "      <td>21d ago</td>\n",
       "      <td>4.1</td>\n",
       "    </tr>\n",
       "    <tr>\n",
       "      <th>8</th>\n",
       "      <td>RMS Risk Management - Data Scientist - CNN/Dee...</td>\n",
       "      <td>3d ago</td>\n",
       "      <td>3.5</td>\n",
       "    </tr>\n",
       "    <tr>\n",
       "      <th>9</th>\n",
       "      <td>Data Science - Senior Data Scientist</td>\n",
       "      <td>28d ago</td>\n",
       "      <td>3.7</td>\n",
       "    </tr>\n",
       "  </tbody>\n",
       "</table>\n",
       "</div>"
      ],
      "text/plain": [
       "                                  Company Name Title Job Date Ratings\n",
       "0                             Manager Data Scientist   2d ago     4.0\n",
       "1                      Vice President - Data Science   8d ago     3.7\n",
       "2                                     Data Scientist  25d ago     3.9\n",
       "3             CogniTensor - Data Scientist (2-5 yrs)   9d ago     3.7\n",
       "4             CogniTensor - Data Scientist (2-5 yrs)  10d ago     3.7\n",
       "5  Data Scientist - Data Science/Model Developmen...  21d ago     4.1\n",
       "6  Manager - Data Scientist - Retail/BFSI (8-15 yrs)  21d ago     4.1\n",
       "7        Data Scientist - Consulting Firm (8-15 yrs)  21d ago     4.1\n",
       "8  RMS Risk Management - Data Scientist - CNN/Dee...   3d ago     3.5\n",
       "9               Data Science - Senior Data Scientist  28d ago     3.7"
      ]
     },
     "execution_count": 20,
     "metadata": {},
     "output_type": "execute_result"
    }
   ],
   "source": [
    "jobs = pd.DataFrame()\n",
    "jobs['Company Name Title']= company_name[0:10]\n",
    "jobs['Job Date']= jobDates[0:10]\n",
    "jobs['Ratings']= company_rating[0:10]\n",
    "jobs"
   ]
  },
  {
   "cell_type": "markdown",
   "id": "035b2c85",
   "metadata": {},
   "source": [
    "# Solution 10"
   ]
  },
  {
   "cell_type": "code",
   "execution_count": 24,
   "id": "9a3c468b",
   "metadata": {},
   "outputs": [],
   "source": [
    "url='https://www.ambitionbox.com/'\n",
    "driver.get(url)"
   ]
  },
  {
   "cell_type": "code",
   "execution_count": 34,
   "id": "7773ad3a",
   "metadata": {},
   "outputs": [],
   "source": [
    "salary_button = driver.find_element_by_xpath('/html/body/div[1]/nav/nav/a[4]')\n",
    "salary_button.click()"
   ]
  },
  {
   "cell_type": "code",
   "execution_count": 42,
   "id": "bef2f1e4",
   "metadata": {},
   "outputs": [],
   "source": [
    "search_job = driver.find_element_by_xpath('/html/body/div/div/div/main/section[1]/div[2]/div[1]/span/input')\n",
    "search_job.send_keys(\"Data Scientist\")"
   ]
  },
  {
   "cell_type": "code",
   "execution_count": 43,
   "id": "d30a9ab3",
   "metadata": {},
   "outputs": [],
   "source": [
    "select_job = driver.find_element_by_xpath('/html/body/div/div/div/main/section[1]/div[2]/div[1]/span/div/div/div[1]/div/div/p')\n",
    "select_job.click()"
   ]
  },
  {
   "cell_type": "code",
   "execution_count": 48,
   "id": "c4a5cc4e",
   "metadata": {},
   "outputs": [
    {
     "data": {
      "text/plain": [
       "10"
      ]
     },
     "execution_count": 48,
     "metadata": {},
     "output_type": "execute_result"
    }
   ],
   "source": [
    "company_tag = driver.find_elements_by_xpath('//div[@class=\"name\"]')\n",
    "company_name=[]\n",
    "for i in company_tag:\n",
    "    company_name.append(i.text.split(\"on\")[0])\n",
    "len(company_name)"
   ]
  },
  {
   "cell_type": "code",
   "execution_count": 71,
   "id": "31cf1f27",
   "metadata": {},
   "outputs": [
    {
     "data": {
      "text/plain": [
       "10"
      ]
     },
     "execution_count": 71,
     "metadata": {},
     "output_type": "execute_result"
    }
   ],
   "source": [
    "salary_tag = driver.find_elements_by_xpath('//div[@class=\"name\"]')\n",
    "salary_total=[]\n",
    "for i in salary_tag:\n",
    "    salary_total.append(i.text.split(\"on \")[1])\n",
    "len(salary_total)"
   ]
  },
  {
   "cell_type": "code",
   "execution_count": 72,
   "id": "0f0dead3",
   "metadata": {},
   "outputs": [
    {
     "data": {
      "text/plain": [
       "10"
      ]
     },
     "execution_count": 72,
     "metadata": {},
     "output_type": "execute_result"
    }
   ],
   "source": [
    "avsalary_tag = driver.find_elements_by_xpath('//p[@class=\"averageCtc\"]')\n",
    "average_salary=[]\n",
    "for i in avsalary_tag:\n",
    "    average_salary.append(i.text)\n",
    "len(average_salary)"
   ]
  },
  {
   "cell_type": "code",
   "execution_count": 73,
   "id": "be7da222",
   "metadata": {},
   "outputs": [
    {
     "data": {
      "text/plain": [
       "20"
      ]
     },
     "execution_count": 73,
     "metadata": {},
     "output_type": "execute_result"
    }
   ],
   "source": [
    "min_max_salary_tag = driver.find_elements_by_xpath('//div[@class=\"value body-medium\"]')\n",
    "min_max_salary=[]\n",
    "for i in min_max_salary_tag:\n",
    "    min_max_salary.append(i.text)\n",
    "len(min_max_salary)"
   ]
  },
  {
   "cell_type": "code",
   "execution_count": 74,
   "id": "55afcce2",
   "metadata": {},
   "outputs": [
    {
     "data": {
      "text/plain": [
       "10"
      ]
     },
     "execution_count": 74,
     "metadata": {},
     "output_type": "execute_result"
    }
   ],
   "source": [
    "minumum_salary =[]\n",
    "maximum_salary=[]\n",
    "for data in range(0, len(min_max_salary)):\n",
    "    if data % 2 ==0:\n",
    "        minumum_salary.append(min_max_salary[data])\n",
    "    else:\n",
    "        maximum_salary.append(min_max_salary[data])\n",
    "len(maximum_salary)"
   ]
  },
  {
   "cell_type": "code",
   "execution_count": 75,
   "id": "f415847e",
   "metadata": {},
   "outputs": [
    {
     "data": {
      "text/plain": [
       "10"
      ]
     },
     "execution_count": 75,
     "metadata": {},
     "output_type": "execute_result"
    }
   ],
   "source": [
    "exp_tag = driver.find_elements_by_xpath('//div[@class=\"salaries sbold-list-header\"]')\n",
    "experience_required=[]\n",
    "for i in exp_tag:\n",
    "    experience_required.append(i.text.replace('\\n',\"\").split(\".\")[1])\n",
    "len(experience_required)"
   ]
  },
  {
   "cell_type": "code",
   "execution_count": 76,
   "id": "fa5919e4",
   "metadata": {},
   "outputs": [
    {
     "data": {
      "text/html": [
       "<div>\n",
       "<style scoped>\n",
       "    .dataframe tbody tr th:only-of-type {\n",
       "        vertical-align: middle;\n",
       "    }\n",
       "\n",
       "    .dataframe tbody tr th {\n",
       "        vertical-align: top;\n",
       "    }\n",
       "\n",
       "    .dataframe thead th {\n",
       "        text-align: right;\n",
       "    }\n",
       "</style>\n",
       "<table border=\"1\" class=\"dataframe\">\n",
       "  <thead>\n",
       "    <tr style=\"text-align: right;\">\n",
       "      <th></th>\n",
       "      <th>Company Name</th>\n",
       "      <th>Total Salary Record</th>\n",
       "      <th>Average Salary</th>\n",
       "      <th>Minimum Salary</th>\n",
       "      <th>Maximum Salary</th>\n",
       "      <th>Experienced REquired</th>\n",
       "    </tr>\n",
       "  </thead>\n",
       "  <tbody>\n",
       "    <tr>\n",
       "      <th>0</th>\n",
       "      <td>Walmart\\nbased</td>\n",
       "      <td>10 salaries</td>\n",
       "      <td>₹ 28.7L</td>\n",
       "      <td>₹ 17.7L</td>\n",
       "      <td>₹ 35.0L</td>\n",
       "      <td>3 yrs exp</td>\n",
       "    </tr>\n",
       "    <tr>\n",
       "      <th>1</th>\n",
       "      <td>Ab Inbev\\nbased</td>\n",
       "      <td>22 salaries</td>\n",
       "      <td>₹ 19.5L</td>\n",
       "      <td>₹ 15.0L</td>\n",
       "      <td>₹ 25.0L</td>\n",
       "      <td>3-4 yrs exp</td>\n",
       "    </tr>\n",
       "    <tr>\n",
       "      <th>2</th>\n",
       "      <td>ZS\\nbased</td>\n",
       "      <td>14 salaries</td>\n",
       "      <td>₹ 15.8L</td>\n",
       "      <td>₹ 9.8L</td>\n",
       "      <td>₹ 20.0L</td>\n",
       "      <td>2 yrs exp</td>\n",
       "    </tr>\n",
       "    <tr>\n",
       "      <th>3</th>\n",
       "      <td>Fractal Analytics\\nbased</td>\n",
       "      <td>72 salaries</td>\n",
       "      <td>₹ 15.0L</td>\n",
       "      <td>₹ 9.5L</td>\n",
       "      <td>₹ 22.0L</td>\n",
       "      <td>2-4 yrs exp</td>\n",
       "    </tr>\n",
       "    <tr>\n",
       "      <th>4</th>\n",
       "      <td>Optum\\nbased</td>\n",
       "      <td>23 salaries</td>\n",
       "      <td>₹ 15.0L</td>\n",
       "      <td>₹ 11.0L</td>\n",
       "      <td>₹ 21.3L</td>\n",
       "      <td>3-4 yrs exp</td>\n",
       "    </tr>\n",
       "    <tr>\n",
       "      <th>5</th>\n",
       "      <td>UnitedHealth\\nbased</td>\n",
       "      <td>49 salaries</td>\n",
       "      <td>₹ 13.5L</td>\n",
       "      <td>₹ 7.2L</td>\n",
       "      <td>₹ 20.5L</td>\n",
       "      <td>2-4 yrs exp</td>\n",
       "    </tr>\n",
       "    <tr>\n",
       "      <th>6</th>\n",
       "      <td>Tiger Analytics\\nbased</td>\n",
       "      <td>27 salaries</td>\n",
       "      <td>₹ 13.5L</td>\n",
       "      <td>₹ 8.3L</td>\n",
       "      <td>₹ 18.5L</td>\n",
       "      <td>3-4 yrs exp</td>\n",
       "    </tr>\n",
       "    <tr>\n",
       "      <th>7</th>\n",
       "      <td>Veriz</td>\n",
       "      <td>14 salaries</td>\n",
       "      <td>₹ 12.7L</td>\n",
       "      <td>₹ 10.0L</td>\n",
       "      <td>₹ 21.0L</td>\n",
       "      <td>4 yrs exp</td>\n",
       "    </tr>\n",
       "    <tr>\n",
       "      <th>8</th>\n",
       "      <td>Ganit Business Soluti</td>\n",
       "      <td>13 salaries</td>\n",
       "      <td>₹ 12.4L</td>\n",
       "      <td>₹ 8.5L</td>\n",
       "      <td>₹ 15.0L</td>\n",
       "      <td>4 yrs exp</td>\n",
       "    </tr>\n",
       "    <tr>\n",
       "      <th>9</th>\n",
       "      <td>Ericss</td>\n",
       "      <td>42 salaries</td>\n",
       "      <td>₹ 11.9L</td>\n",
       "      <td>₹ 5.8L</td>\n",
       "      <td>₹ 21.5L</td>\n",
       "      <td>3-4 yrs exp</td>\n",
       "    </tr>\n",
       "  </tbody>\n",
       "</table>\n",
       "</div>"
      ],
      "text/plain": [
       "                Company Name Total Salary Record Average Salary  \\\n",
       "0            Walmart\\nbased          10 salaries        ₹ 28.7L   \n",
       "1           Ab Inbev\\nbased          22 salaries        ₹ 19.5L   \n",
       "2                 ZS\\nbased          14 salaries        ₹ 15.8L   \n",
       "3  Fractal Analytics\\nbased          72 salaries        ₹ 15.0L   \n",
       "4              Optum\\nbased          23 salaries        ₹ 15.0L   \n",
       "5       UnitedHealth\\nbased          49 salaries        ₹ 13.5L   \n",
       "6    Tiger Analytics\\nbased          27 salaries        ₹ 13.5L   \n",
       "7                      Veriz         14 salaries        ₹ 12.7L   \n",
       "8      Ganit Business Soluti         13 salaries        ₹ 12.4L   \n",
       "9                     Ericss         42 salaries        ₹ 11.9L   \n",
       "\n",
       "  Minimum Salary Maximum Salary Experienced REquired  \n",
       "0        ₹ 17.7L        ₹ 35.0L            3 yrs exp  \n",
       "1        ₹ 15.0L        ₹ 25.0L          3-4 yrs exp  \n",
       "2         ₹ 9.8L        ₹ 20.0L            2 yrs exp  \n",
       "3         ₹ 9.5L        ₹ 22.0L          2-4 yrs exp  \n",
       "4        ₹ 11.0L        ₹ 21.3L          3-4 yrs exp  \n",
       "5         ₹ 7.2L        ₹ 20.5L          2-4 yrs exp  \n",
       "6         ₹ 8.3L        ₹ 18.5L          3-4 yrs exp  \n",
       "7        ₹ 10.0L        ₹ 21.0L            4 yrs exp  \n",
       "8         ₹ 8.5L        ₹ 15.0L            4 yrs exp  \n",
       "9         ₹ 5.8L        ₹ 21.5L          3-4 yrs exp  "
      ]
     },
     "execution_count": 76,
     "metadata": {},
     "output_type": "execute_result"
    }
   ],
   "source": [
    "salary = pd.DataFrame()\n",
    "salary['Company Name']= company_name\n",
    "salary['Total Salary Record']= salary_total\n",
    "salary['Average Salary']= average_salary\n",
    "salary['Minimum Salary']= minumum_salary\n",
    "salary['Maximum Salary']= maximum_salary\n",
    "salary['Experienced REquired']= experience_required\n",
    "salary"
   ]
  },
  {
   "cell_type": "code",
   "execution_count": null,
   "id": "3c3464a2",
   "metadata": {},
   "outputs": [],
   "source": []
  }
 ],
 "metadata": {
  "kernelspec": {
   "display_name": "Python 3",
   "language": "python",
   "name": "python3"
  },
  "language_info": {
   "codemirror_mode": {
    "name": "ipython",
    "version": 3
   },
   "file_extension": ".py",
   "mimetype": "text/x-python",
   "name": "python",
   "nbconvert_exporter": "python",
   "pygments_lexer": "ipython3",
   "version": "3.8.8"
  }
 },
 "nbformat": 4,
 "nbformat_minor": 5
}
